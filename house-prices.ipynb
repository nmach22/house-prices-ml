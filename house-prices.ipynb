{
 "metadata": {
  "kernelspec": {
   "language": "python",
   "display_name": "Python 3",
   "name": "python3"
  },
  "language_info": {
   "name": "python",
   "version": "3.10.12",
   "mimetype": "text/x-python",
   "codemirror_mode": {
    "name": "ipython",
    "version": 3
   },
   "pygments_lexer": "ipython3",
   "nbconvert_exporter": "python",
   "file_extension": ".py"
  },
  "kaggle": {
   "accelerator": "none",
   "dataSources": [
    {
     "sourceId": 5407,
     "databundleVersionId": 868283,
     "isSourceIdPinned": false,
     "sourceType": "competition"
    }
   ],
   "dockerImageVersionId": 30918,
   "isInternetEnabled": true,
   "language": "python",
   "sourceType": "notebook",
   "isGpuEnabled": false
  }
 },
 "nbformat_minor": 4,
 "nbformat": 4,
 "cells": [
  {
   "cell_type": "code",
   "source": "!pip install --upgrade dagshub mlflow seaborn matplotlib scikit-learn",
   "metadata": {
    "trusted": true,
    "execution": {
     "iopub.status.busy": "2025-04-04T14:03:53.935769Z",
     "iopub.execute_input": "2025-04-04T14:03:53.936126Z",
     "iopub.status.idle": "2025-04-04T14:04:43.174352Z",
     "shell.execute_reply.started": "2025-04-04T14:03:53.936094Z",
     "shell.execute_reply": "2025-04-04T14:04:43.172599Z"
    }
   },
   "outputs": [
    {
     "name": "stdout",
     "text": "Collecting dagshub\n  Downloading dagshub-0.5.9-py3-none-any.whl.metadata (12 kB)\nCollecting mlflow\n  Downloading mlflow-2.21.3-py3-none-any.whl.metadata (30 kB)\nRequirement already satisfied: seaborn in /usr/local/lib/python3.10/dist-packages (0.12.2)\nCollecting seaborn\n  Downloading seaborn-0.13.2-py3-none-any.whl.metadata (5.4 kB)\nRequirement already satisfied: matplotlib in /usr/local/lib/python3.10/dist-packages (3.7.5)\nCollecting matplotlib\n  Downloading matplotlib-3.10.1-cp310-cp310-manylinux_2_17_x86_64.manylinux2014_x86_64.whl.metadata (11 kB)\nRequirement already satisfied: scikit-learn in /usr/local/lib/python3.10/dist-packages (1.2.2)\nCollecting scikit-learn\n  Downloading scikit_learn-1.6.1-cp310-cp310-manylinux_2_17_x86_64.manylinux2014_x86_64.whl.metadata (18 kB)\nRequirement already satisfied: PyYAML>=5 in /usr/local/lib/python3.10/dist-packages (from dagshub) (6.0.2)\nCollecting appdirs>=1.4.4 (from dagshub)\n  Downloading appdirs-1.4.4-py2.py3-none-any.whl.metadata (9.0 kB)\nRequirement already satisfied: click>=8.0.4 in /usr/local/lib/python3.10/dist-packages (from dagshub) (8.1.7)\nRequirement already satisfied: httpx>=0.23.0 in /usr/local/lib/python3.10/dist-packages (from dagshub) (0.28.1)\nRequirement already satisfied: GitPython>=3.1.29 in /usr/local/lib/python3.10/dist-packages (from dagshub) (3.1.43)\nRequirement already satisfied: rich>=13.1.0 in /usr/local/lib/python3.10/dist-packages (from dagshub) (13.9.4)\nCollecting dacite~=1.6.0 (from dagshub)\n  Downloading dacite-1.6.0-py3-none-any.whl.metadata (14 kB)\nRequirement already satisfied: tenacity>=8.2.2 in /usr/local/lib/python3.10/dist-packages (from dagshub) (9.0.0)\nCollecting gql[requests] (from dagshub)\n  Downloading gql-3.5.2-py2.py3-none-any.whl.metadata (9.4 kB)\nRequirement already satisfied: dataclasses-json in /usr/local/lib/python3.10/dist-packages (from dagshub) (0.6.7)\nRequirement already satisfied: pandas in /usr/local/lib/python3.10/dist-packages (from dagshub) (2.2.3)\nCollecting treelib>=1.6.4 (from dagshub)\n  Downloading treelib-1.7.1-py3-none-any.whl.metadata (1.4 kB)\nCollecting pathvalidate>=3.0.0 (from dagshub)\n  Downloading pathvalidate-3.2.3-py3-none-any.whl.metadata (12 kB)\nRequirement already satisfied: python-dateutil in /usr/local/lib/python3.10/dist-packages (from dagshub) (2.9.0.post0)\nRequirement already satisfied: boto3 in /usr/local/lib/python3.10/dist-packages (from dagshub) (1.36.23)\nRequirement already satisfied: semver in /usr/local/lib/python3.10/dist-packages (from dagshub) (3.0.4)\nCollecting dagshub-annotation-converter>=0.1.5 (from dagshub)\n  Downloading dagshub_annotation_converter-0.1.8-py3-none-any.whl.metadata (2.5 kB)\nCollecting mlflow-skinny==2.21.3 (from mlflow)\n  Downloading mlflow_skinny-2.21.3-py3-none-any.whl.metadata (31 kB)\nRequirement already satisfied: Flask<4 in /usr/local/lib/python3.10/dist-packages (from mlflow) (3.1.0)\nRequirement already satisfied: Jinja2<4,>=2.11 in /usr/local/lib/python3.10/dist-packages (from mlflow) (3.1.4)\nRequirement already satisfied: alembic!=1.10.0,<2 in /usr/local/lib/python3.10/dist-packages (from mlflow) (1.14.1)\nRequirement already satisfied: docker<8,>=4.0.0 in /usr/local/lib/python3.10/dist-packages (from mlflow) (7.1.0)\nCollecting graphene<4 (from mlflow)\n  Downloading graphene-3.4.3-py2.py3-none-any.whl.metadata (6.9 kB)\nCollecting gunicorn<24 (from mlflow)\n  Downloading gunicorn-23.0.0-py3-none-any.whl.metadata (4.4 kB)\nRequirement already satisfied: markdown<4,>=3.3 in /usr/local/lib/python3.10/dist-packages (from mlflow) (3.7)\nRequirement already satisfied: numpy<3 in /usr/local/lib/python3.10/dist-packages (from mlflow) (1.26.4)\nRequirement already satisfied: pyarrow<20,>=4.0.0 in /usr/local/lib/python3.10/dist-packages (from mlflow) (19.0.1)\nRequirement already satisfied: scipy<2 in /usr/local/lib/python3.10/dist-packages (from mlflow) (1.13.1)\nRequirement already satisfied: sqlalchemy<3,>=1.4.0 in /usr/local/lib/python3.10/dist-packages (from mlflow) (2.0.36)\nRequirement already satisfied: cachetools<6,>=5.0.0 in /usr/local/lib/python3.10/dist-packages (from mlflow-skinny==2.21.3->mlflow) (5.5.0)\nRequirement already satisfied: cloudpickle<4 in /usr/local/lib/python3.10/dist-packages (from mlflow-skinny==2.21.3->mlflow) (3.1.0)\nCollecting databricks-sdk<1,>=0.20.0 (from mlflow-skinny==2.21.3->mlflow)\n  Downloading databricks_sdk-0.49.0-py3-none-any.whl.metadata (38 kB)\nCollecting fastapi<1 (from mlflow-skinny==2.21.3->mlflow)\n  Downloading fastapi-0.115.12-py3-none-any.whl.metadata (27 kB)\nRequirement already satisfied: importlib_metadata!=4.7.0,<9,>=3.7.0 in /usr/local/lib/python3.10/dist-packages (from mlflow-skinny==2.21.3->mlflow) (8.5.0)\nRequirement already satisfied: opentelemetry-api<3,>=1.9.0 in /usr/local/lib/python3.10/dist-packages (from mlflow-skinny==2.21.3->mlflow) (1.29.0)\nRequirement already satisfied: opentelemetry-sdk<3,>=1.9.0 in /usr/local/lib/python3.10/dist-packages (from mlflow-skinny==2.21.3->mlflow) (1.29.0)\nRequirement already satisfied: packaging<25 in /usr/local/lib/python3.10/dist-packages (from mlflow-skinny==2.21.3->mlflow) (24.2)\nRequirement already satisfied: protobuf<6,>=3.12.0 in /usr/local/lib/python3.10/dist-packages (from mlflow-skinny==2.21.3->mlflow) (3.20.3)\nRequirement already satisfied: pydantic<3,>=1.10.8 in /usr/local/lib/python3.10/dist-packages (from mlflow-skinny==2.21.3->mlflow) (2.11.0a2)\nRequirement already satisfied: requests<3,>=2.17.3 in /usr/local/lib/python3.10/dist-packages (from mlflow-skinny==2.21.3->mlflow) (2.32.3)\nRequirement already satisfied: sqlparse<1,>=0.4.0 in /usr/local/lib/python3.10/dist-packages (from mlflow-skinny==2.21.3->mlflow) (0.5.3)\nRequirement already satisfied: typing-extensions<5,>=4.0.0 in /usr/local/lib/python3.10/dist-packages (from mlflow-skinny==2.21.3->mlflow) (4.12.2)\nCollecting uvicorn<1 (from mlflow-skinny==2.21.3->mlflow)\n  Downloading uvicorn-0.34.0-py3-none-any.whl.metadata (6.5 kB)\nRequirement already satisfied: contourpy>=1.0.1 in /usr/local/lib/python3.10/dist-packages (from matplotlib) (1.3.1)\nRequirement already satisfied: cycler>=0.10 in /usr/local/lib/python3.10/dist-packages (from matplotlib) (0.12.1)\nRequirement already satisfied: fonttools>=4.22.0 in /usr/local/lib/python3.10/dist-packages (from matplotlib) (4.55.3)\nRequirement already satisfied: kiwisolver>=1.3.1 in /usr/local/lib/python3.10/dist-packages (from matplotlib) (1.4.7)\nRequirement already satisfied: pillow>=8 in /usr/local/lib/python3.10/dist-packages (from matplotlib) (11.0.0)\nRequirement already satisfied: pyparsing>=2.3.1 in /usr/local/lib/python3.10/dist-packages (from matplotlib) (3.2.0)\nRequirement already satisfied: joblib>=1.2.0 in /usr/local/lib/python3.10/dist-packages (from scikit-learn) (1.4.2)\nRequirement already satisfied: threadpoolctl>=3.1.0 in /usr/local/lib/python3.10/dist-packages (from scikit-learn) (3.5.0)\nRequirement already satisfied: Mako in /usr/local/lib/python3.10/dist-packages (from alembic!=1.10.0,<2->mlflow) (1.3.9)\nRequirement already satisfied: lxml in /usr/local/lib/python3.10/dist-packages (from dagshub-annotation-converter>=0.1.5->dagshub) (5.3.0)\nRequirement already satisfied: urllib3>=1.26.0 in /usr/local/lib/python3.10/dist-packages (from docker<8,>=4.0.0->mlflow) (2.3.0)\nRequirement already satisfied: Werkzeug>=3.1 in /usr/local/lib/python3.10/dist-packages (from Flask<4->mlflow) (3.1.3)\nRequirement already satisfied: itsdangerous>=2.2 in /usr/local/lib/python3.10/dist-packages (from Flask<4->mlflow) (2.2.0)\nRequirement already satisfied: blinker>=1.9 in /usr/local/lib/python3.10/dist-packages (from Flask<4->mlflow) (1.9.0)\nRequirement already satisfied: gitdb<5,>=4.0.1 in /usr/local/lib/python3.10/dist-packages (from GitPython>=3.1.29->dagshub) (4.0.11)\nCollecting graphql-core<3.3,>=3.1 (from graphene<4->mlflow)\n  Downloading graphql_core-3.2.6-py3-none-any.whl.metadata (11 kB)\nCollecting graphql-relay<3.3,>=3.1 (from graphene<4->mlflow)\n  Downloading graphql_relay-3.2.0-py3-none-any.whl.metadata (12 kB)\nRequirement already satisfied: anyio in /usr/local/lib/python3.10/dist-packages (from httpx>=0.23.0->dagshub) (3.7.1)\nRequirement already satisfied: certifi in /usr/local/lib/python3.10/dist-packages (from httpx>=0.23.0->dagshub) (2025.1.31)\nRequirement already satisfied: httpcore==1.* in /usr/local/lib/python3.10/dist-packages (from httpx>=0.23.0->dagshub) (1.0.7)\nRequirement already satisfied: idna in /usr/local/lib/python3.10/dist-packages (from httpx>=0.23.0->dagshub) (3.10)\nRequirement already satisfied: h11<0.15,>=0.13 in /usr/local/lib/python3.10/dist-packages (from httpcore==1.*->httpx>=0.23.0->dagshub) (0.14.0)\nRequirement already satisfied: MarkupSafe>=2.0 in /usr/local/lib/python3.10/dist-packages (from Jinja2<4,>=2.11->mlflow) (3.0.2)\nRequirement already satisfied: mkl_fft in /usr/local/lib/python3.10/dist-packages (from numpy<3->mlflow) (1.3.8)\nRequirement already satisfied: mkl_random in /usr/local/lib/python3.10/dist-packages (from numpy<3->mlflow) (1.2.4)\nRequirement already satisfied: mkl_umath in /usr/local/lib/python3.10/dist-packages (from numpy<3->mlflow) (0.1.1)\nRequirement already satisfied: mkl in /usr/local/lib/python3.10/dist-packages (from numpy<3->mlflow) (2025.0.1)\nRequirement already satisfied: tbb4py in /usr/local/lib/python3.10/dist-packages (from numpy<3->mlflow) (2022.0.0)\nRequirement already satisfied: mkl-service in /usr/local/lib/python3.10/dist-packages (from numpy<3->mlflow) (2.4.1)\nRequirement already satisfied: pytz>=2020.1 in /usr/local/lib/python3.10/dist-packages (from pandas->dagshub) (2025.1)\nRequirement already satisfied: tzdata>=2022.7 in /usr/local/lib/python3.10/dist-packages (from pandas->dagshub) (2025.1)\nRequirement already satisfied: six>=1.5 in /usr/local/lib/python3.10/dist-packages (from python-dateutil->dagshub) (1.17.0)\nRequirement already satisfied: markdown-it-py>=2.2.0 in /usr/local/lib/python3.10/dist-packages (from rich>=13.1.0->dagshub) (3.0.0)\nRequirement already satisfied: pygments<3.0.0,>=2.13.0 in /usr/local/lib/python3.10/dist-packages (from rich>=13.1.0->dagshub) (2.19.1)\nRequirement already satisfied: greenlet!=0.4.17 in /usr/local/lib/python3.10/dist-packages (from sqlalchemy<3,>=1.4.0->mlflow) (3.1.1)\nRequirement already satisfied: botocore<1.37.0,>=1.36.23 in /usr/local/lib/python3.10/dist-packages (from boto3->dagshub) (1.36.23)\nRequirement already satisfied: jmespath<2.0.0,>=0.7.1 in /usr/local/lib/python3.10/dist-packages (from boto3->dagshub) (1.0.1)\nRequirement already satisfied: s3transfer<0.12.0,>=0.11.0 in /usr/local/lib/python3.10/dist-packages (from boto3->dagshub) (0.11.2)\nRequirement already satisfied: marshmallow<4.0.0,>=3.18.0 in /usr/local/lib/python3.10/dist-packages (from dataclasses-json->dagshub) (3.26.1)\nRequirement already satisfied: typing-inspect<1,>=0.4.0 in /usr/local/lib/python3.10/dist-packages (from dataclasses-json->dagshub) (0.9.0)\nCollecting graphql-core<3.3,>=3.1 (from graphene<4->mlflow)\n  Downloading graphql_core-3.2.4-py3-none-any.whl.metadata (10 kB)\nRequirement already satisfied: yarl<2.0,>=1.6 in /usr/local/lib/python3.10/dist-packages (from gql[requests]->dagshub) (1.18.3)\nCollecting backoff<3.0,>=1.11.1 (from gql[requests]->dagshub)\n  Downloading backoff-2.2.1-py3-none-any.whl.metadata (14 kB)\nRequirement already satisfied: requests-toolbelt<2,>=1.0.0 in /usr/local/lib/python3.10/dist-packages (from gql[requests]->dagshub) (1.0.0)\nRequirement already satisfied: sniffio>=1.1 in /usr/local/lib/python3.10/dist-packages (from anyio->httpx>=0.23.0->dagshub) (1.3.1)\nRequirement already satisfied: exceptiongroup in /usr/local/lib/python3.10/dist-packages (from anyio->httpx>=0.23.0->dagshub) (1.2.2)\nRequirement already satisfied: google-auth~=2.0 in /usr/local/lib/python3.10/dist-packages (from databricks-sdk<1,>=0.20.0->mlflow-skinny==2.21.3->mlflow) (2.27.0)\nCollecting starlette<0.47.0,>=0.40.0 (from fastapi<1->mlflow-skinny==2.21.3->mlflow)\n  Downloading starlette-0.46.1-py3-none-any.whl.metadata (6.2 kB)\nRequirement already satisfied: smmap<6,>=3.0.1 in /usr/local/lib/python3.10/dist-packages (from gitdb<5,>=4.0.1->GitPython>=3.1.29->dagshub) (5.0.1)\nRequirement already satisfied: zipp>=3.20 in /usr/local/lib/python3.10/dist-packages (from importlib_metadata!=4.7.0,<9,>=3.7.0->mlflow-skinny==2.21.3->mlflow) (3.21.0)\nRequirement already satisfied: mdurl~=0.1 in /usr/local/lib/python3.10/dist-packages (from markdown-it-py>=2.2.0->rich>=13.1.0->dagshub) (0.1.2)\nRequirement already satisfied: deprecated>=1.2.6 in /usr/local/lib/python3.10/dist-packages (from opentelemetry-api<3,>=1.9.0->mlflow-skinny==2.21.3->mlflow) (1.2.15)\nRequirement already satisfied: opentelemetry-semantic-conventions==0.50b0 in /usr/local/lib/python3.10/dist-packages (from opentelemetry-sdk<3,>=1.9.0->mlflow-skinny==2.21.3->mlflow) (0.50b0)\nRequirement already satisfied: annotated-types>=0.6.0 in /usr/local/lib/python3.10/dist-packages (from pydantic<3,>=1.10.8->mlflow-skinny==2.21.3->mlflow) (0.7.0)\nRequirement already satisfied: pydantic-core==2.29.0 in /usr/local/lib/python3.10/dist-packages (from pydantic<3,>=1.10.8->mlflow-skinny==2.21.3->mlflow) (2.29.0)\nRequirement already satisfied: charset-normalizer<4,>=2 in /usr/local/lib/python3.10/dist-packages (from requests<3,>=2.17.3->mlflow-skinny==2.21.3->mlflow) (3.4.1)\nRequirement already satisfied: mypy-extensions>=0.3.0 in /usr/local/lib/python3.10/dist-packages (from typing-inspect<1,>=0.4.0->dataclasses-json->dagshub) (1.0.0)\nRequirement already satisfied: multidict>=4.0 in /usr/local/lib/python3.10/dist-packages (from yarl<2.0,>=1.6->gql[requests]->dagshub) (6.1.0)\nRequirement already satisfied: propcache>=0.2.0 in /usr/local/lib/python3.10/dist-packages (from yarl<2.0,>=1.6->gql[requests]->dagshub) (0.2.1)\nRequirement already satisfied: intel-openmp>=2024 in /usr/local/lib/python3.10/dist-packages (from mkl->numpy<3->mlflow) (2024.2.0)\nRequirement already satisfied: tbb==2022.* in /usr/local/lib/python3.10/dist-packages (from mkl->numpy<3->mlflow) (2022.0.0)\nRequirement already satisfied: tcmlib==1.* in /usr/local/lib/python3.10/dist-packages (from tbb==2022.*->mkl->numpy<3->mlflow) (1.2.0)\nRequirement already satisfied: intel-cmplr-lib-rt in /usr/local/lib/python3.10/dist-packages (from mkl_umath->numpy<3->mlflow) (2024.2.0)\nRequirement already satisfied: wrapt<2,>=1.10 in /usr/local/lib/python3.10/dist-packages (from deprecated>=1.2.6->opentelemetry-api<3,>=1.9.0->mlflow-skinny==2.21.3->mlflow) (1.17.0)\nRequirement already satisfied: pyasn1-modules>=0.2.1 in /usr/local/lib/python3.10/dist-packages (from google-auth~=2.0->databricks-sdk<1,>=0.20.0->mlflow-skinny==2.21.3->mlflow) (0.4.1)\nRequirement already satisfied: rsa<5,>=3.1.4 in /usr/local/lib/python3.10/dist-packages (from google-auth~=2.0->databricks-sdk<1,>=0.20.0->mlflow-skinny==2.21.3->mlflow) (4.9)\nRequirement already satisfied: intel-cmplr-lib-ur==2024.2.0 in /usr/local/lib/python3.10/dist-packages (from intel-openmp>=2024->mkl->numpy<3->mlflow) (2024.2.0)\nRequirement already satisfied: pyasn1<0.7.0,>=0.4.6 in /usr/local/lib/python3.10/dist-packages (from pyasn1-modules>=0.2.1->google-auth~=2.0->databricks-sdk<1,>=0.20.0->mlflow-skinny==2.21.3->mlflow) (0.6.1)\nDownloading dagshub-0.5.9-py3-none-any.whl (260 kB)\n\u001B[2K   \u001B[90m━━━━━━━━━━━━━━━━━━━━━━━━━━━━━━━━━━━━━━━━\u001B[0m \u001B[32m260.1/260.1 kB\u001B[0m \u001B[31m10.8 MB/s\u001B[0m eta \u001B[36m0:00:00\u001B[0m\n\u001B[?25hDownloading mlflow-2.21.3-py3-none-any.whl (28.2 MB)\n\u001B[2K   \u001B[90m━━━━━━━━━━━━━━━━━━━━━━━━━━━━━━━━━━━━━━━━\u001B[0m \u001B[32m28.2/28.2 MB\u001B[0m \u001B[31m54.9 MB/s\u001B[0m eta \u001B[36m0:00:00\u001B[0m:00:01\u001B[0m00:01\u001B[0m\n\u001B[?25hDownloading mlflow_skinny-2.21.3-py3-none-any.whl (6.1 MB)\n\u001B[2K   \u001B[90m━━━━━━━━━━━━━━━━━━━━━━━━━━━━━━━━━━━━━━━━\u001B[0m \u001B[32m6.1/6.1 MB\u001B[0m \u001B[31m92.3 MB/s\u001B[0m eta \u001B[36m0:00:00\u001B[0m:00:01\u001B[0m\n\u001B[?25hDownloading seaborn-0.13.2-py3-none-any.whl (294 kB)\n\u001B[2K   \u001B[90m━━━━━━━━━━━━━━━━━━━━━━━━━━━━━━━━━━━━━━━━\u001B[0m \u001B[32m294.9/294.9 kB\u001B[0m \u001B[31m12.8 MB/s\u001B[0m eta \u001B[36m0:00:00\u001B[0m\n\u001B[?25hDownloading matplotlib-3.10.1-cp310-cp310-manylinux_2_17_x86_64.manylinux2014_x86_64.whl (8.6 MB)\n\u001B[2K   \u001B[90m━━━━━━━━━━━━━━━━━━━━━━━━━━━━━━━━━━━━━━━━\u001B[0m \u001B[32m8.6/8.6 MB\u001B[0m \u001B[31m79.3 MB/s\u001B[0m eta \u001B[36m0:00:00\u001B[0m:00:01\u001B[0m00:01\u001B[0m\n\u001B[?25hDownloading scikit_learn-1.6.1-cp310-cp310-manylinux_2_17_x86_64.manylinux2014_x86_64.whl (13.5 MB)\n\u001B[2K   \u001B[90m━━━━━━━━━━━━━━━━━━━━━━━━━━━━━━━━━━━━━━━━\u001B[0m \u001B[32m13.5/13.5 MB\u001B[0m \u001B[31m62.6 MB/s\u001B[0m eta \u001B[36m0:00:00\u001B[0m:00:01\u001B[0m00:01\u001B[0m\n\u001B[?25hDownloading appdirs-1.4.4-py2.py3-none-any.whl (9.6 kB)\nDownloading dacite-1.6.0-py3-none-any.whl (12 kB)\nDownloading dagshub_annotation_converter-0.1.8-py3-none-any.whl (33 kB)\nDownloading graphene-3.4.3-py2.py3-none-any.whl (114 kB)\n\u001B[2K   \u001B[90m━━━━━━━━━━━━━━━━━━━━━━━━━━━━━━━━━━━━━━━━\u001B[0m \u001B[32m114.9/114.9 kB\u001B[0m \u001B[31m5.0 MB/s\u001B[0m eta \u001B[36m0:00:00\u001B[0m\n\u001B[?25hDownloading gunicorn-23.0.0-py3-none-any.whl (85 kB)\n\u001B[2K   \u001B[90m━━━━━━━━━━━━━━━━━━━━━━━━━━━━━━━━━━━━━━━━\u001B[0m \u001B[32m85.0/85.0 kB\u001B[0m \u001B[31m4.6 MB/s\u001B[0m eta \u001B[36m0:00:00\u001B[0m\n\u001B[?25hDownloading pathvalidate-3.2.3-py3-none-any.whl (24 kB)\nDownloading treelib-1.7.1-py3-none-any.whl (19 kB)\nDownloading backoff-2.2.1-py3-none-any.whl (15 kB)\nDownloading databricks_sdk-0.49.0-py3-none-any.whl (683 kB)\n\u001B[2K   \u001B[90m━━━━━━━━━━━━━━━━━━━━━━━━━━━━━━━━━━━━━━━━\u001B[0m \u001B[32m684.0/684.0 kB\u001B[0m \u001B[31m26.7 MB/s\u001B[0m eta \u001B[36m0:00:00\u001B[0m\n\u001B[?25hDownloading fastapi-0.115.12-py3-none-any.whl (95 kB)\n\u001B[2K   \u001B[90m━━━━━━━━━━━━━━━━━━━━━━━━━━━━━━━━━━━━━━━━\u001B[0m \u001B[32m95.2/95.2 kB\u001B[0m \u001B[31m4.4 MB/s\u001B[0m eta \u001B[36m0:00:00\u001B[0m\n\u001B[?25hDownloading graphql_core-3.2.4-py3-none-any.whl (203 kB)\n\u001B[2K   \u001B[90m━━━━━━━━━━━━━━━━━━━━━━━━━━━━━━━━━━━━━━━━\u001B[0m \u001B[32m203.2/203.2 kB\u001B[0m \u001B[31m9.6 MB/s\u001B[0m eta \u001B[36m0:00:00\u001B[0m\n\u001B[?25hDownloading graphql_relay-3.2.0-py3-none-any.whl (16 kB)\nDownloading uvicorn-0.34.0-py3-none-any.whl (62 kB)\n\u001B[2K   \u001B[90m━━━━━━━━━━━━━━━━━━━━━━━━━━━━━━━━━━━━━━━━\u001B[0m \u001B[32m62.3/62.3 kB\u001B[0m \u001B[31m2.4 MB/s\u001B[0m eta \u001B[36m0:00:00\u001B[0m\n\u001B[?25hDownloading gql-3.5.2-py2.py3-none-any.whl (74 kB)\n\u001B[2K   \u001B[90m━━━━━━━━━━━━━━━━━━━━━━━━━━━━━━━━━━━━━━━━\u001B[0m \u001B[32m74.3/74.3 kB\u001B[0m \u001B[31m4.0 MB/s\u001B[0m eta \u001B[36m0:00:00\u001B[0m\n\u001B[?25hDownloading starlette-0.46.1-py3-none-any.whl (71 kB)\n\u001B[2K   \u001B[90m━━━━━━━━━━━━━━━━━━━━━━━━━━━━━━━━━━━━━━━━\u001B[0m \u001B[32m72.0/72.0 kB\u001B[0m \u001B[31m2.9 MB/s\u001B[0m eta \u001B[36m0:00:00\u001B[0m\n\u001B[?25hInstalling collected packages: appdirs, uvicorn, treelib, pathvalidate, gunicorn, graphql-core, dacite, backoff, starlette, graphql-relay, graphene, gql, fastapi, databricks-sdk, mlflow-skinny, scikit-learn, matplotlib, dagshub-annotation-converter, seaborn, mlflow, dagshub\n  Attempting uninstall: dacite\n    Found existing installation: dacite 1.9.2\n    Uninstalling dacite-1.9.2:\n      Successfully uninstalled dacite-1.9.2\n  Attempting uninstall: scikit-learn\n    Found existing installation: scikit-learn 1.2.2\n    Uninstalling scikit-learn-1.2.2:\n      Successfully uninstalled scikit-learn-1.2.2\n  Attempting uninstall: matplotlib\n    Found existing installation: matplotlib 3.7.5\n    Uninstalling matplotlib-3.7.5:\n      Successfully uninstalled matplotlib-3.7.5\n  Attempting uninstall: seaborn\n    Found existing installation: seaborn 0.12.2\n    Uninstalling seaborn-0.12.2:\n      Successfully uninstalled seaborn-0.12.2\n\u001B[31mERROR: pip's dependency resolver does not currently take into account all the packages that are installed. This behaviour is the source of the following dependency conflicts.\ncategory-encoders 2.7.0 requires scikit-learn<1.6.0,>=1.0.0, but you have scikit-learn 1.6.1 which is incompatible.\nydata-profiling 4.12.2 requires dacite>=1.8, but you have dacite 1.6.0 which is incompatible.\u001B[0m\u001B[31m\n\u001B[0mSuccessfully installed appdirs-1.4.4 backoff-2.2.1 dacite-1.6.0 dagshub-0.5.9 dagshub-annotation-converter-0.1.8 databricks-sdk-0.49.0 fastapi-0.115.12 gql-3.5.2 graphene-3.4.3 graphql-core-3.2.4 graphql-relay-3.2.0 gunicorn-23.0.0 matplotlib-3.10.1 mlflow-2.21.3 mlflow-skinny-2.21.3 pathvalidate-3.2.3 scikit-learn-1.6.1 seaborn-0.13.2 starlette-0.46.1 treelib-1.7.1 uvicorn-0.34.0\n",
     "output_type": "stream"
    }
   ],
   "execution_count": 1
  },
  {
   "cell_type": "code",
   "source": "import dagshub\ndagshub.init(repo_owner='nmach22', repo_name='house-prices-ml', mlflow=True)",
   "metadata": {
    "trusted": true,
    "execution": {
     "iopub.status.busy": "2025-04-04T14:04:43.176067Z",
     "iopub.execute_input": "2025-04-04T14:04:43.176514Z",
     "iopub.status.idle": "2025-04-04T14:04:50.342122Z",
     "shell.execute_reply.started": "2025-04-04T14:04:43.176473Z",
     "shell.execute_reply": "2025-04-04T14:04:50.340558Z"
    },
    "ExecuteTime": {
     "end_time": "2025-04-05T11:37:24.141877Z",
     "start_time": "2025-04-05T11:37:20.259506Z"
    }
   },
   "outputs": [
    {
     "data": {
      "text/plain": [
       "Initialized MLflow to track repo \u001B[32m\"nmach22/house-prices-ml\"\u001B[0m\n"
      ],
      "text/html": [
       "<pre style=\"white-space:pre;overflow-x:auto;line-height:normal;font-family:Menlo,'DejaVu Sans Mono',consolas,'Courier New',monospace\">Initialized MLflow to track repo <span style=\"color: #008000; text-decoration-color: #008000\">\"nmach22/house-prices-ml\"</span>\n",
       "</pre>\n"
      ]
     },
     "metadata": {},
     "output_type": "display_data"
    },
    {
     "data": {
      "text/plain": [
       "Repository nmach22/house-prices-ml initialized!\n"
      ],
      "text/html": [
       "<pre style=\"white-space:pre;overflow-x:auto;line-height:normal;font-family:Menlo,'DejaVu Sans Mono',consolas,'Courier New',monospace\">Repository nmach22/house-prices-ml initialized!\n",
       "</pre>\n"
      ]
     },
     "metadata": {},
     "output_type": "display_data"
    }
   ],
   "execution_count": 42
  },
  {
   "metadata": {
    "ExecuteTime": {
     "end_time": "2025-04-05T11:37:31.931904Z",
     "start_time": "2025-04-05T11:37:31.925195Z"
    }
   },
   "cell_type": "code",
   "source": "data_path =  './data/house-prices-advanced-regression-techniques'",
   "outputs": [],
   "execution_count": 43
  },
  {
   "cell_type": "code",
   "source": [
    "# This Python 3 environment comes with many helpful analytics libraries installed\n",
    "# It is defined by the kaggle/python Docker image: https://github.com/kaggle/docker-python\n",
    "# For example, here's several helpful packages to load\n",
    "\n",
    "import numpy as np # linear algebra\n",
    "import pandas as pd # data processing, CSV file I/O (e.g. pd.read_csv)\n",
    "\n",
    "# Input data files are available in the read-only \"../input/\" directory\n",
    "# For example, running this (by clicking run or pressing Shift+Enter) will list all files under the input directory\n",
    "\n",
    "import os\n",
    "for dirname, _, filenames in os.walk(data_path):\n",
    "    for filename in filenames:\n",
    "        print(os.path.join(dirname, filename))\n",
    "\n",
    "# You can write up to 20GB to the current directory (/kaggle/working/) that gets preserved as output when you create a version using \"Save & Run All\" \n",
    "# You can also write temporary files to /kaggle/temp/, but they won't be saved outside of the current session"
   ],
   "metadata": {
    "_uuid": "8f2839f25d086af736a60e9eeb907d3b93b6e0e5",
    "_cell_guid": "b1076dfc-b9ad-4769-8c92-a6c4dae69d19",
    "trusted": true,
    "execution": {
     "iopub.status.busy": "2025-04-04T14:04:50.345149Z",
     "iopub.execute_input": "2025-04-04T14:04:50.345778Z",
     "iopub.status.idle": "2025-04-04T14:04:50.806564Z",
     "shell.execute_reply.started": "2025-04-04T14:04:50.345740Z",
     "shell.execute_reply": "2025-04-04T14:04:50.805367Z"
    },
    "ExecuteTime": {
     "end_time": "2025-04-05T11:37:33.126582Z",
     "start_time": "2025-04-05T11:37:33.118812Z"
    }
   },
   "outputs": [
    {
     "name": "stdout",
     "output_type": "stream",
     "text": [
      "./data/house-prices-advanced-regression-techniques/test.csv\n",
      "./data/house-prices-advanced-regression-techniques/data_description.txt\n",
      "./data/house-prices-advanced-regression-techniques/train.csv\n",
      "./data/house-prices-advanced-regression-techniques/sample_submission.csv\n"
     ]
    }
   ],
   "execution_count": 44
  },
  {
   "cell_type": "code",
   "source": [
    "df = pd.read_csv(os.path.join(data_path, 'train.csv'))\n",
    "df.shape"
   ],
   "metadata": {
    "trusted": true,
    "execution": {
     "iopub.status.busy": "2025-04-04T14:04:50.815730Z",
     "iopub.execute_input": "2025-04-04T14:04:50.816146Z",
     "iopub.status.idle": "2025-04-04T14:04:50.882078Z",
     "shell.execute_reply.started": "2025-04-04T14:04:50.816105Z",
     "shell.execute_reply": "2025-04-04T14:04:50.880717Z"
    },
    "ExecuteTime": {
     "end_time": "2025-04-05T11:37:43.563259Z",
     "start_time": "2025-04-05T11:37:43.483280Z"
    }
   },
   "outputs": [
    {
     "data": {
      "text/plain": [
       "(1460, 81)"
      ]
     },
     "execution_count": 45,
     "metadata": {},
     "output_type": "execute_result"
    }
   ],
   "execution_count": 45
  },
  {
   "cell_type": "code",
   "source": [
    "test_df = pd.read_csv(os.path.join(data_path, 'test.csv'))\n",
    "test_df.shape"
   ],
   "metadata": {
    "trusted": true,
    "execution": {
     "iopub.status.busy": "2025-04-04T14:04:50.883339Z",
     "iopub.execute_input": "2025-04-04T14:04:50.883754Z",
     "iopub.status.idle": "2025-04-04T14:04:50.918159Z",
     "shell.execute_reply.started": "2025-04-04T14:04:50.883714Z",
     "shell.execute_reply": "2025-04-04T14:04:50.917286Z"
    },
    "ExecuteTime": {
     "end_time": "2025-04-05T11:37:45.704455Z",
     "start_time": "2025-04-05T11:37:45.660454Z"
    }
   },
   "outputs": [
    {
     "data": {
      "text/plain": [
       "(1459, 80)"
      ]
     },
     "execution_count": 46,
     "metadata": {},
     "output_type": "execute_result"
    }
   ],
   "execution_count": 46
  },
  {
   "cell_type": "code",
   "source": [
    "from sklearn.model_selection import train_test_split\n",
    "\n",
    "X = df.drop(columns=['SalePrice'])\n",
    "y = df['SalePrice']\n",
    "\n",
    "random_seed = 40\n",
    "\n",
    "X_train, X_test, y_train, y_test = train_test_split(X, y, test_size=0.2, random_state=random_seed)"
   ],
   "metadata": {
    "trusted": true,
    "execution": {
     "iopub.status.busy": "2025-04-04T16:20:12.856592Z",
     "iopub.execute_input": "2025-04-04T16:20:12.857060Z",
     "iopub.status.idle": "2025-04-04T16:20:12.869835Z",
     "shell.execute_reply.started": "2025-04-04T16:20:12.857021Z",
     "shell.execute_reply": "2025-04-04T16:20:12.868617Z"
    },
    "ExecuteTime": {
     "end_time": "2025-04-05T11:38:42.639722Z",
     "start_time": "2025-04-05T11:38:42.585123Z"
    }
   },
   "outputs": [],
   "execution_count": 47
  },
  {
   "cell_type": "code",
   "source": "X_train.shape, X_test.shape, y_train.shape, y_test.shape",
   "metadata": {
    "trusted": true,
    "execution": {
     "iopub.status.busy": "2025-04-04T16:20:13.689298Z",
     "iopub.execute_input": "2025-04-04T16:20:13.689627Z",
     "iopub.status.idle": "2025-04-04T16:20:13.697421Z",
     "shell.execute_reply.started": "2025-04-04T16:20:13.689600Z",
     "shell.execute_reply": "2025-04-04T16:20:13.696035Z"
    },
    "ExecuteTime": {
     "end_time": "2025-04-05T11:38:59.220718Z",
     "start_time": "2025-04-05T11:38:59.197922Z"
    }
   },
   "outputs": [
    {
     "data": {
      "text/plain": [
       "((1168, 80), (292, 80), (1168,), (292,))"
      ]
     },
     "execution_count": 49,
     "metadata": {},
     "output_type": "execute_result"
    }
   ],
   "execution_count": 49
  },
  {
   "cell_type": "code",
   "source": "# print column which contains nans:\ncolumns_with_nulls = {}\nfor column_name, count in X_train.isna().sum(axis=0).items():\n    if count > 0:\n        print(f'{column_name}: {count} - {X_train[column_name].dtype}')\n        columns_with_nulls[column_name] = count",
   "metadata": {
    "trusted": true,
    "execution": {
     "iopub.status.busy": "2025-04-04T16:20:18.505685Z",
     "iopub.execute_input": "2025-04-04T16:20:18.506052Z",
     "iopub.status.idle": "2025-04-04T16:20:18.520338Z",
     "shell.execute_reply.started": "2025-04-04T16:20:18.506025Z",
     "shell.execute_reply": "2025-04-04T16:20:18.518497Z"
    },
    "ExecuteTime": {
     "end_time": "2025-04-05T11:40:14.155193Z",
     "start_time": "2025-04-05T11:40:14.113413Z"
    }
   },
   "outputs": [
    {
     "name": "stdout",
     "output_type": "stream",
     "text": [
      "LotFrontage: 212 - float64\n",
      "Alley: 1104 - object\n",
      "MasVnrType: 699 - object\n",
      "MasVnrArea: 7 - float64\n",
      "BsmtQual: 33 - object\n",
      "BsmtCond: 33 - object\n",
      "BsmtExposure: 34 - object\n",
      "BsmtFinType1: 33 - object\n",
      "BsmtFinType2: 34 - object\n",
      "Electrical: 1 - object\n",
      "FireplaceQu: 540 - object\n",
      "GarageType: 67 - object\n",
      "GarageYrBlt: 67 - float64\n",
      "GarageFinish: 67 - object\n",
      "GarageQual: 67 - object\n",
      "GarageCond: 67 - object\n",
      "PoolQC: 1162 - object\n",
      "Fence: 937 - object\n",
      "MiscFeature: 1123 - object\n"
     ]
    }
   ],
   "execution_count": 50
  },
  {
   "cell_type": "code",
   "source": "cat_cols = [col for col in X_train.columns if X_train[col].dtype == 'object']\nnum_cols = [col for col in X_train.columns if X_train[col].dtype != 'object']",
   "metadata": {
    "trusted": true,
    "execution": {
     "iopub.status.busy": "2025-04-04T16:20:19.128923Z",
     "iopub.execute_input": "2025-04-04T16:20:19.129303Z",
     "iopub.status.idle": "2025-04-04T16:20:19.137639Z",
     "shell.execute_reply.started": "2025-04-04T16:20:19.129260Z",
     "shell.execute_reply": "2025-04-04T16:20:19.135834Z"
    },
    "ExecuteTime": {
     "end_time": "2025-04-05T11:40:21.803707Z",
     "start_time": "2025-04-05T11:40:21.792364Z"
    }
   },
   "outputs": [],
   "execution_count": 51
  },
  {
   "cell_type": "code",
   "source": "columns_to_remove = ['Id']\ncolumns_to_remove += [col for col, count in columns_with_nulls.items() if count > 500]",
   "metadata": {
    "trusted": true,
    "execution": {
     "iopub.status.busy": "2025-04-04T16:20:22.603531Z",
     "iopub.execute_input": "2025-04-04T16:20:22.603889Z",
     "iopub.status.idle": "2025-04-04T16:20:22.608610Z",
     "shell.execute_reply.started": "2025-04-04T16:20:22.603860Z",
     "shell.execute_reply": "2025-04-04T16:20:22.607450Z"
    },
    "ExecuteTime": {
     "end_time": "2025-04-05T11:40:24.346907Z",
     "start_time": "2025-04-05T11:40:24.339692Z"
    }
   },
   "outputs": [],
   "execution_count": 52
  },
  {
   "cell_type": "code",
   "source": "columns_to_remove",
   "metadata": {
    "trusted": true,
    "execution": {
     "iopub.status.busy": "2025-04-04T16:20:23.297335Z",
     "iopub.execute_input": "2025-04-04T16:20:23.297711Z",
     "iopub.status.idle": "2025-04-04T16:20:23.303921Z",
     "shell.execute_reply.started": "2025-04-04T16:20:23.297660Z",
     "shell.execute_reply": "2025-04-04T16:20:23.302660Z"
    },
    "ExecuteTime": {
     "end_time": "2025-04-05T11:40:26.027183Z",
     "start_time": "2025-04-05T11:40:26.018988Z"
    }
   },
   "outputs": [
    {
     "data": {
      "text/plain": [
       "['Id', 'Alley', 'MasVnrType', 'FireplaceQu', 'PoolQC', 'Fence', 'MiscFeature']"
      ]
     },
     "execution_count": 53,
     "metadata": {},
     "output_type": "execute_result"
    }
   ],
   "execution_count": 53
  },
  {
   "cell_type": "code",
   "source": "one_hot_columns = list(X_train[cat_cols].nunique().index)\none_hot_columns",
   "metadata": {
    "trusted": true,
    "execution": {
     "iopub.status.busy": "2025-04-04T16:20:38.376620Z",
     "iopub.execute_input": "2025-04-04T16:20:38.377025Z",
     "iopub.status.idle": "2025-04-04T16:20:38.393405Z",
     "shell.execute_reply.started": "2025-04-04T16:20:38.376994Z",
     "shell.execute_reply": "2025-04-04T16:20:38.392179Z"
    },
    "ExecuteTime": {
     "end_time": "2025-04-05T11:40:28.488348Z",
     "start_time": "2025-04-05T11:40:28.468075Z"
    }
   },
   "outputs": [
    {
     "data": {
      "text/plain": [
       "['MSZoning',\n",
       " 'Street',\n",
       " 'Alley',\n",
       " 'LotShape',\n",
       " 'LandContour',\n",
       " 'Utilities',\n",
       " 'LotConfig',\n",
       " 'LandSlope',\n",
       " 'Neighborhood',\n",
       " 'Condition1',\n",
       " 'Condition2',\n",
       " 'BldgType',\n",
       " 'HouseStyle',\n",
       " 'RoofStyle',\n",
       " 'RoofMatl',\n",
       " 'Exterior1st',\n",
       " 'Exterior2nd',\n",
       " 'MasVnrType',\n",
       " 'ExterQual',\n",
       " 'ExterCond',\n",
       " 'Foundation',\n",
       " 'BsmtQual',\n",
       " 'BsmtCond',\n",
       " 'BsmtExposure',\n",
       " 'BsmtFinType1',\n",
       " 'BsmtFinType2',\n",
       " 'Heating',\n",
       " 'HeatingQC',\n",
       " 'CentralAir',\n",
       " 'Electrical',\n",
       " 'KitchenQual',\n",
       " 'Functional',\n",
       " 'FireplaceQu',\n",
       " 'GarageType',\n",
       " 'GarageFinish',\n",
       " 'GarageQual',\n",
       " 'GarageCond',\n",
       " 'PavedDrive',\n",
       " 'PoolQC',\n",
       " 'Fence',\n",
       " 'MiscFeature',\n",
       " 'SaleType',\n",
       " 'SaleCondition']"
      ]
     },
     "execution_count": 54,
     "metadata": {},
     "output_type": "execute_result"
    }
   ],
   "execution_count": 54
  },
  {
   "cell_type": "markdown",
   "source": "## Preprocess",
   "metadata": {}
  },
  {
   "cell_type": "code",
   "source": [
    "from sklearn.base import BaseEstimator, TransformerMixin\n",
    "from sklearn.preprocessing import OneHotEncoder\n",
    "\n",
    "\n",
    "class CustomPreprocessor(BaseEstimator, TransformerMixin):\n",
    "    def __init__(self, categorical_columns, columns_to_remove):\n",
    "        self.categorical_columns = categorical_columns\n",
    "        self.columns_to_remove = columns_to_remove\n",
    "\n",
    "        # one hot encoder\n",
    "        self.enc = OneHotEncoder(handle_unknown='ignore', sparse_output=False)\n",
    "        self.enc.set_output(transform=\"pandas\")\n",
    "\n",
    "    def fit(self, X, y):\n",
    "        self.numerical_columns = [col for col in X.columns if X[col].dtype != 'object' and col != 'Id']\n",
    "        self.categorical_columns = list(set(self.categorical_columns) - set(self.columns_to_remove))\n",
    "\n",
    "        self.enc.fit(X[self.categorical_columns])\n",
    "        \n",
    "        return self\n",
    "\n",
    "    def transform(self, X):\n",
    "        X_transformed = X.drop(columns = self.columns_to_remove)\n",
    "        \n",
    "        X_transformed = X_transformed.fillna(value={col: 0 for col in self.numerical_columns})\n",
    "        \n",
    "        one_hot_encoded = self.enc.transform(X_transformed[self.categorical_columns])\n",
    "        X_transformed = pd.concat([X_transformed.drop(columns=self.categorical_columns), one_hot_encoded], axis=1)\n",
    "\n",
    "        assert not X_transformed.isna().any().any()\n",
    "            \n",
    "        return X_transformed"
   ],
   "metadata": {
    "trusted": true,
    "execution": {
     "iopub.status.busy": "2025-04-04T16:20:42.063346Z",
     "iopub.execute_input": "2025-04-04T16:20:42.063682Z",
     "iopub.status.idle": "2025-04-04T16:20:42.073065Z",
     "shell.execute_reply.started": "2025-04-04T16:20:42.063655Z",
     "shell.execute_reply": "2025-04-04T16:20:42.071534Z"
    },
    "ExecuteTime": {
     "end_time": "2025-04-07T13:59:15.997265Z",
     "start_time": "2025-04-07T13:59:15.984306Z"
    }
   },
   "outputs": [],
   "execution_count": 493
  },
  {
   "metadata": {
    "ExecuteTime": {
     "end_time": "2025-04-07T14:01:35.499436Z",
     "start_time": "2025-04-07T14:01:35.494036Z"
    }
   },
   "cell_type": "code",
   "source": [
    "from sklearn.metrics import root_mean_squared_error\n",
    "\n",
    "def loss_fn(y_true, y_prediction):\n",
    "    return root_mean_squared_error(np.log(y_true), np.log(y_prediction))\n"
   ],
   "outputs": [],
   "execution_count": 502
  },
  {
   "cell_type": "code",
   "source": [
    "from sklearn.pipeline import Pipeline\n",
    "from sklearn.preprocessing import StandardScaler\n",
    "from sklearn.ensemble import RandomForestRegressor\n",
    "from sklearn.model_selection import GridSearchCV, KFold\n",
    "from sklearn.metrics import make_scorer\n",
    "\n",
    "neg_rmse_scorer = make_scorer(loss_fn, greater_is_better=False)\n",
    "\n",
    "model = RandomForestRegressor(random_state=0)\n",
    "\n",
    "scalers = [\n",
    "    StandardScaler(),\n",
    "    None  # Option to use no scaler\n",
    "]\n",
    "\n",
    "kfold = KFold(n_splits=3, shuffle=True, random_state=40)\n",
    "\n",
    "param_grid = {\n",
    "    'scaler': scalers,\n",
    "    'model__n_estimators': [100],\n",
    "    'model__max_depth': [None, 10],\n",
    "    'model__min_samples_split': [2]\n",
    "}\n",
    "\n",
    "y_train_scaled = np.log(y_train)\n",
    "\n",
    "pipeline = Pipeline([\n",
    "    ('preprocess', CustomPreprocessor(categorical_columns=one_hot_columns, columns_to_remove=columns_to_remove)),\n",
    "    ('scaler', StandardScaler()),\n",
    "    ('model', model)\n",
    "])\n"
   ],
   "metadata": {
    "trusted": true,
    "execution": {
     "iopub.status.busy": "2025-04-04T16:20:43.180416Z",
     "iopub.execute_input": "2025-04-04T16:20:43.180798Z",
     "iopub.status.idle": "2025-04-04T16:20:46.738943Z",
     "shell.execute_reply.started": "2025-04-04T16:20:43.180767Z",
     "shell.execute_reply": "2025-04-04T16:20:46.737881Z"
    },
    "ExecuteTime": {
     "end_time": "2025-04-07T14:14:17.862954Z",
     "start_time": "2025-04-07T14:14:17.835602Z"
    }
   },
   "outputs": [],
   "execution_count": 526
  },
  {
   "metadata": {
    "ExecuteTime": {
     "end_time": "2025-04-07T14:14:18.444501Z",
     "start_time": "2025-04-07T14:14:18.442108Z"
    }
   },
   "cell_type": "code",
   "source": [
    "grid_search = GridSearchCV(\n",
    "    pipeline,\n",
    "    param_grid=param_grid,\n",
    "    cv=kfold,\n",
    "    scoring=neg_rmse_scorer,\n",
    "    verbose=2,\n",
    "    return_train_score=True\n",
    ")"
   ],
   "outputs": [],
   "execution_count": 527
  },
  {
   "metadata": {
    "ExecuteTime": {
     "end_time": "2025-04-07T14:14:19.152428Z",
     "start_time": "2025-04-07T14:14:19.048900Z"
    }
   },
   "cell_type": "code",
   "source": [
    "# Fit\n",
    "grid_search.fit(X_train, y_train_scaled)"
   ],
   "outputs": [
    {
     "name": "stdout",
     "output_type": "stream",
     "text": [
      "Fitting 3 folds for each of 2 candidates, totalling 6 fits\n",
      "[CV] END model__max_depth=None, model__min_samples_split=2, model__n_estimators=100; total time=   0.0s\n",
      "[CV] END model__max_depth=None, model__min_samples_split=2, model__n_estimators=100; total time=   0.0s\n",
      "[CV] END model__max_depth=None, model__min_samples_split=2, model__n_estimators=100; total time=   0.0s\n",
      "[CV] END model__max_depth=10, model__min_samples_split=2, model__n_estimators=100; total time=   0.0s\n",
      "[CV] END model__max_depth=10, model__min_samples_split=2, model__n_estimators=100; total time=   0.0s\n",
      "[CV] END model__max_depth=10, model__min_samples_split=2, model__n_estimators=100; total time=   0.0s\n"
     ]
    },
    {
     "ename": "ValueError",
     "evalue": "\nAll the 6 fits failed.\nIt is very likely that your model is misconfigured.\nYou can try to debug the error by setting error_score='raise'.\n\nBelow are more details about the failures:\n--------------------------------------------------------------------------------\n6 fits failed with the following error:\nTraceback (most recent call last):\n  File \"/Users/nikamatcharadze/Documents/uni/ml/project/house_prices/venv/lib/python3.12/site-packages/sklearn/model_selection/_validation.py\", line 866, in _fit_and_score\n    estimator.fit(X_train, y_train, **fit_params)\n  File \"/Users/nikamatcharadze/Documents/uni/ml/project/house_prices/venv/lib/python3.12/site-packages/sklearn/base.py\", line 1389, in wrapper\n    return fit_method(estimator, *args, **kwargs)\n           ^^^^^^^^^^^^^^^^^^^^^^^^^^^^^^^^^^^^^^\n  File \"/Users/nikamatcharadze/Documents/uni/ml/project/house_prices/venv/lib/python3.12/site-packages/sklearn/pipeline.py\", line 662, in fit\n    self._final_estimator.fit(Xt, y, **last_step_params[\"fit\"])\n  File \"/Users/nikamatcharadze/Documents/uni/ml/project/house_prices/venv/lib/python3.12/site-packages/sklearn/base.py\", line 1389, in wrapper\n    return fit_method(estimator, *args, **kwargs)\n           ^^^^^^^^^^^^^^^^^^^^^^^^^^^^^^^^^^^^^^\n  File \"/Users/nikamatcharadze/Documents/uni/ml/project/house_prices/venv/lib/python3.12/site-packages/sklearn/ensemble/_forest.py\", line 360, in fit\n    X, y = validate_data(\n           ^^^^^^^^^^^^^^\n  File \"/Users/nikamatcharadze/Documents/uni/ml/project/house_prices/venv/lib/python3.12/site-packages/sklearn/utils/validation.py\", line 2961, in validate_data\n    X, y = check_X_y(X, y, **check_params)\n           ^^^^^^^^^^^^^^^^^^^^^^^^^^^^^^^\n  File \"/Users/nikamatcharadze/Documents/uni/ml/project/house_prices/venv/lib/python3.12/site-packages/sklearn/utils/validation.py\", line 1370, in check_X_y\n    X = check_array(\n        ^^^^^^^^^^^^\n  File \"/Users/nikamatcharadze/Documents/uni/ml/project/house_prices/venv/lib/python3.12/site-packages/sklearn/utils/validation.py\", line 1055, in check_array\n    array = _asarray_with_order(array, order=order, dtype=dtype, xp=xp)\n            ^^^^^^^^^^^^^^^^^^^^^^^^^^^^^^^^^^^^^^^^^^^^^^^^^^^^^^^^^^^\n  File \"/Users/nikamatcharadze/Documents/uni/ml/project/house_prices/venv/lib/python3.12/site-packages/sklearn/utils/_array_api.py\", line 839, in _asarray_with_order\n    array = numpy.asarray(array, order=order, dtype=dtype)\n            ^^^^^^^^^^^^^^^^^^^^^^^^^^^^^^^^^^^^^^^^^^^^^^\n  File \"/Users/nikamatcharadze/Documents/uni/ml/project/house_prices/venv/lib/python3.12/site-packages/pandas/core/generic.py\", line 2153, in __array__\n    arr = np.asarray(values, dtype=dtype)\n          ^^^^^^^^^^^^^^^^^^^^^^^^^^^^^^^\nValueError: could not convert string to float: 'RL'\n",
     "output_type": "error",
     "traceback": [
      "\u001B[31m---------------------------------------------------------------------------\u001B[39m",
      "\u001B[31mValueError\u001B[39m                                Traceback (most recent call last)",
      "\u001B[36mCell\u001B[39m\u001B[36m \u001B[39m\u001B[32mIn[528]\u001B[39m\u001B[32m, line 2\u001B[39m\n\u001B[32m      1\u001B[39m \u001B[38;5;66;03m# Fit\u001B[39;00m\n\u001B[32m----> \u001B[39m\u001B[32m2\u001B[39m \u001B[43mgrid_search\u001B[49m\u001B[43m.\u001B[49m\u001B[43mfit\u001B[49m\u001B[43m(\u001B[49m\u001B[43mX_train\u001B[49m\u001B[43m,\u001B[49m\u001B[43m \u001B[49m\u001B[43my_train_scaled\u001B[49m\u001B[43m)\u001B[49m\n",
      "\u001B[36mFile \u001B[39m\u001B[32m~/Documents/uni/ml/project/house_prices/venv/lib/python3.12/site-packages/sklearn/base.py:1389\u001B[39m, in \u001B[36m_fit_context.<locals>.decorator.<locals>.wrapper\u001B[39m\u001B[34m(estimator, *args, **kwargs)\u001B[39m\n\u001B[32m   1382\u001B[39m     estimator._validate_params()\n\u001B[32m   1384\u001B[39m \u001B[38;5;28;01mwith\u001B[39;00m config_context(\n\u001B[32m   1385\u001B[39m     skip_parameter_validation=(\n\u001B[32m   1386\u001B[39m         prefer_skip_nested_validation \u001B[38;5;129;01mor\u001B[39;00m global_skip_validation\n\u001B[32m   1387\u001B[39m     )\n\u001B[32m   1388\u001B[39m ):\n\u001B[32m-> \u001B[39m\u001B[32m1389\u001B[39m     \u001B[38;5;28;01mreturn\u001B[39;00m \u001B[43mfit_method\u001B[49m\u001B[43m(\u001B[49m\u001B[43mestimator\u001B[49m\u001B[43m,\u001B[49m\u001B[43m \u001B[49m\u001B[43m*\u001B[49m\u001B[43margs\u001B[49m\u001B[43m,\u001B[49m\u001B[43m \u001B[49m\u001B[43m*\u001B[49m\u001B[43m*\u001B[49m\u001B[43mkwargs\u001B[49m\u001B[43m)\u001B[49m\n",
      "\u001B[36mFile \u001B[39m\u001B[32m~/Documents/uni/ml/project/house_prices/venv/lib/python3.12/site-packages/sklearn/model_selection/_search.py:1024\u001B[39m, in \u001B[36mBaseSearchCV.fit\u001B[39m\u001B[34m(self, X, y, **params)\u001B[39m\n\u001B[32m   1018\u001B[39m     results = \u001B[38;5;28mself\u001B[39m._format_results(\n\u001B[32m   1019\u001B[39m         all_candidate_params, n_splits, all_out, all_more_results\n\u001B[32m   1020\u001B[39m     )\n\u001B[32m   1022\u001B[39m     \u001B[38;5;28;01mreturn\u001B[39;00m results\n\u001B[32m-> \u001B[39m\u001B[32m1024\u001B[39m \u001B[38;5;28;43mself\u001B[39;49m\u001B[43m.\u001B[49m\u001B[43m_run_search\u001B[49m\u001B[43m(\u001B[49m\u001B[43mevaluate_candidates\u001B[49m\u001B[43m)\u001B[49m\n\u001B[32m   1026\u001B[39m \u001B[38;5;66;03m# multimetric is determined here because in the case of a callable\u001B[39;00m\n\u001B[32m   1027\u001B[39m \u001B[38;5;66;03m# self.scoring the return type is only known after calling\u001B[39;00m\n\u001B[32m   1028\u001B[39m first_test_score = all_out[\u001B[32m0\u001B[39m][\u001B[33m\"\u001B[39m\u001B[33mtest_scores\u001B[39m\u001B[33m\"\u001B[39m]\n",
      "\u001B[36mFile \u001B[39m\u001B[32m~/Documents/uni/ml/project/house_prices/venv/lib/python3.12/site-packages/sklearn/model_selection/_search.py:1571\u001B[39m, in \u001B[36mGridSearchCV._run_search\u001B[39m\u001B[34m(self, evaluate_candidates)\u001B[39m\n\u001B[32m   1569\u001B[39m \u001B[38;5;28;01mdef\u001B[39;00m\u001B[38;5;250m \u001B[39m\u001B[34m_run_search\u001B[39m(\u001B[38;5;28mself\u001B[39m, evaluate_candidates):\n\u001B[32m   1570\u001B[39m \u001B[38;5;250m    \u001B[39m\u001B[33;03m\"\"\"Search all candidates in param_grid\"\"\"\u001B[39;00m\n\u001B[32m-> \u001B[39m\u001B[32m1571\u001B[39m     \u001B[43mevaluate_candidates\u001B[49m\u001B[43m(\u001B[49m\u001B[43mParameterGrid\u001B[49m\u001B[43m(\u001B[49m\u001B[38;5;28;43mself\u001B[39;49m\u001B[43m.\u001B[49m\u001B[43mparam_grid\u001B[49m\u001B[43m)\u001B[49m\u001B[43m)\u001B[49m\n",
      "\u001B[36mFile \u001B[39m\u001B[32m~/Documents/uni/ml/project/house_prices/venv/lib/python3.12/site-packages/sklearn/model_selection/_search.py:1001\u001B[39m, in \u001B[36mBaseSearchCV.fit.<locals>.evaluate_candidates\u001B[39m\u001B[34m(candidate_params, cv, more_results)\u001B[39m\n\u001B[32m    994\u001B[39m \u001B[38;5;28;01melif\u001B[39;00m \u001B[38;5;28mlen\u001B[39m(out) != n_candidates * n_splits:\n\u001B[32m    995\u001B[39m     \u001B[38;5;28;01mraise\u001B[39;00m \u001B[38;5;167;01mValueError\u001B[39;00m(\n\u001B[32m    996\u001B[39m         \u001B[33m\"\u001B[39m\u001B[33mcv.split and cv.get_n_splits returned \u001B[39m\u001B[33m\"\u001B[39m\n\u001B[32m    997\u001B[39m         \u001B[33m\"\u001B[39m\u001B[33minconsistent results. Expected \u001B[39m\u001B[38;5;132;01m{}\u001B[39;00m\u001B[33m \u001B[39m\u001B[33m\"\u001B[39m\n\u001B[32m    998\u001B[39m         \u001B[33m\"\u001B[39m\u001B[33msplits, got \u001B[39m\u001B[38;5;132;01m{}\u001B[39;00m\u001B[33m\"\u001B[39m.format(n_splits, \u001B[38;5;28mlen\u001B[39m(out) // n_candidates)\n\u001B[32m    999\u001B[39m     )\n\u001B[32m-> \u001B[39m\u001B[32m1001\u001B[39m \u001B[43m_warn_or_raise_about_fit_failures\u001B[49m\u001B[43m(\u001B[49m\u001B[43mout\u001B[49m\u001B[43m,\u001B[49m\u001B[43m \u001B[49m\u001B[38;5;28;43mself\u001B[39;49m\u001B[43m.\u001B[49m\u001B[43merror_score\u001B[49m\u001B[43m)\u001B[49m\n\u001B[32m   1003\u001B[39m \u001B[38;5;66;03m# For callable self.scoring, the return type is only know after\u001B[39;00m\n\u001B[32m   1004\u001B[39m \u001B[38;5;66;03m# calling. If the return type is a dictionary, the error scores\u001B[39;00m\n\u001B[32m   1005\u001B[39m \u001B[38;5;66;03m# can now be inserted with the correct key. The type checking\u001B[39;00m\n\u001B[32m   1006\u001B[39m \u001B[38;5;66;03m# of out will be done in `_insert_error_scores`.\u001B[39;00m\n\u001B[32m   1007\u001B[39m \u001B[38;5;28;01mif\u001B[39;00m \u001B[38;5;28mcallable\u001B[39m(\u001B[38;5;28mself\u001B[39m.scoring):\n",
      "\u001B[36mFile \u001B[39m\u001B[32m~/Documents/uni/ml/project/house_prices/venv/lib/python3.12/site-packages/sklearn/model_selection/_validation.py:517\u001B[39m, in \u001B[36m_warn_or_raise_about_fit_failures\u001B[39m\u001B[34m(results, error_score)\u001B[39m\n\u001B[32m    510\u001B[39m \u001B[38;5;28;01mif\u001B[39;00m num_failed_fits == num_fits:\n\u001B[32m    511\u001B[39m     all_fits_failed_message = (\n\u001B[32m    512\u001B[39m         \u001B[33mf\u001B[39m\u001B[33m\"\u001B[39m\u001B[38;5;130;01m\\n\u001B[39;00m\u001B[33mAll the \u001B[39m\u001B[38;5;132;01m{\u001B[39;00mnum_fits\u001B[38;5;132;01m}\u001B[39;00m\u001B[33m fits failed.\u001B[39m\u001B[38;5;130;01m\\n\u001B[39;00m\u001B[33m\"\u001B[39m\n\u001B[32m    513\u001B[39m         \u001B[33m\"\u001B[39m\u001B[33mIt is very likely that your model is misconfigured.\u001B[39m\u001B[38;5;130;01m\\n\u001B[39;00m\u001B[33m\"\u001B[39m\n\u001B[32m    514\u001B[39m         \u001B[33m\"\u001B[39m\u001B[33mYou can try to debug the error by setting error_score=\u001B[39m\u001B[33m'\u001B[39m\u001B[33mraise\u001B[39m\u001B[33m'\u001B[39m\u001B[33m.\u001B[39m\u001B[38;5;130;01m\\n\u001B[39;00m\u001B[38;5;130;01m\\n\u001B[39;00m\u001B[33m\"\u001B[39m\n\u001B[32m    515\u001B[39m         \u001B[33mf\u001B[39m\u001B[33m\"\u001B[39m\u001B[33mBelow are more details about the failures:\u001B[39m\u001B[38;5;130;01m\\n\u001B[39;00m\u001B[38;5;132;01m{\u001B[39;00mfit_errors_summary\u001B[38;5;132;01m}\u001B[39;00m\u001B[33m\"\u001B[39m\n\u001B[32m    516\u001B[39m     )\n\u001B[32m--> \u001B[39m\u001B[32m517\u001B[39m     \u001B[38;5;28;01mraise\u001B[39;00m \u001B[38;5;167;01mValueError\u001B[39;00m(all_fits_failed_message)\n\u001B[32m    519\u001B[39m \u001B[38;5;28;01melse\u001B[39;00m:\n\u001B[32m    520\u001B[39m     some_fits_failed_message = (\n\u001B[32m    521\u001B[39m         \u001B[33mf\u001B[39m\u001B[33m\"\u001B[39m\u001B[38;5;130;01m\\n\u001B[39;00m\u001B[38;5;132;01m{\u001B[39;00mnum_failed_fits\u001B[38;5;132;01m}\u001B[39;00m\u001B[33m fits failed out of a total of \u001B[39m\u001B[38;5;132;01m{\u001B[39;00mnum_fits\u001B[38;5;132;01m}\u001B[39;00m\u001B[33m.\u001B[39m\u001B[38;5;130;01m\\n\u001B[39;00m\u001B[33m\"\u001B[39m\n\u001B[32m    522\u001B[39m         \u001B[33m\"\u001B[39m\u001B[33mThe score on these train-test partitions for these parameters\u001B[39m\u001B[33m\"\u001B[39m\n\u001B[32m   (...)\u001B[39m\u001B[32m    526\u001B[39m         \u001B[33mf\u001B[39m\u001B[33m\"\u001B[39m\u001B[33mBelow are more details about the failures:\u001B[39m\u001B[38;5;130;01m\\n\u001B[39;00m\u001B[38;5;132;01m{\u001B[39;00mfit_errors_summary\u001B[38;5;132;01m}\u001B[39;00m\u001B[33m\"\u001B[39m\n\u001B[32m    527\u001B[39m     )\n",
      "\u001B[31mValueError\u001B[39m: \nAll the 6 fits failed.\nIt is very likely that your model is misconfigured.\nYou can try to debug the error by setting error_score='raise'.\n\nBelow are more details about the failures:\n--------------------------------------------------------------------------------\n6 fits failed with the following error:\nTraceback (most recent call last):\n  File \"/Users/nikamatcharadze/Documents/uni/ml/project/house_prices/venv/lib/python3.12/site-packages/sklearn/model_selection/_validation.py\", line 866, in _fit_and_score\n    estimator.fit(X_train, y_train, **fit_params)\n  File \"/Users/nikamatcharadze/Documents/uni/ml/project/house_prices/venv/lib/python3.12/site-packages/sklearn/base.py\", line 1389, in wrapper\n    return fit_method(estimator, *args, **kwargs)\n           ^^^^^^^^^^^^^^^^^^^^^^^^^^^^^^^^^^^^^^\n  File \"/Users/nikamatcharadze/Documents/uni/ml/project/house_prices/venv/lib/python3.12/site-packages/sklearn/pipeline.py\", line 662, in fit\n    self._final_estimator.fit(Xt, y, **last_step_params[\"fit\"])\n  File \"/Users/nikamatcharadze/Documents/uni/ml/project/house_prices/venv/lib/python3.12/site-packages/sklearn/base.py\", line 1389, in wrapper\n    return fit_method(estimator, *args, **kwargs)\n           ^^^^^^^^^^^^^^^^^^^^^^^^^^^^^^^^^^^^^^\n  File \"/Users/nikamatcharadze/Documents/uni/ml/project/house_prices/venv/lib/python3.12/site-packages/sklearn/ensemble/_forest.py\", line 360, in fit\n    X, y = validate_data(\n           ^^^^^^^^^^^^^^\n  File \"/Users/nikamatcharadze/Documents/uni/ml/project/house_prices/venv/lib/python3.12/site-packages/sklearn/utils/validation.py\", line 2961, in validate_data\n    X, y = check_X_y(X, y, **check_params)\n           ^^^^^^^^^^^^^^^^^^^^^^^^^^^^^^^\n  File \"/Users/nikamatcharadze/Documents/uni/ml/project/house_prices/venv/lib/python3.12/site-packages/sklearn/utils/validation.py\", line 1370, in check_X_y\n    X = check_array(\n        ^^^^^^^^^^^^\n  File \"/Users/nikamatcharadze/Documents/uni/ml/project/house_prices/venv/lib/python3.12/site-packages/sklearn/utils/validation.py\", line 1055, in check_array\n    array = _asarray_with_order(array, order=order, dtype=dtype, xp=xp)\n            ^^^^^^^^^^^^^^^^^^^^^^^^^^^^^^^^^^^^^^^^^^^^^^^^^^^^^^^^^^^\n  File \"/Users/nikamatcharadze/Documents/uni/ml/project/house_prices/venv/lib/python3.12/site-packages/sklearn/utils/_array_api.py\", line 839, in _asarray_with_order\n    array = numpy.asarray(array, order=order, dtype=dtype)\n            ^^^^^^^^^^^^^^^^^^^^^^^^^^^^^^^^^^^^^^^^^^^^^^\n  File \"/Users/nikamatcharadze/Documents/uni/ml/project/house_prices/venv/lib/python3.12/site-packages/pandas/core/generic.py\", line 2153, in __array__\n    arr = np.asarray(values, dtype=dtype)\n          ^^^^^^^^^^^^^^^^^^^^^^^^^^^^^^^\nValueError: could not convert string to float: 'RL'\n"
     ]
    }
   ],
   "execution_count": 528
  },
  {
   "metadata": {
    "ExecuteTime": {
     "end_time": "2025-04-07T14:02:15.586493Z",
     "start_time": "2025-04-07T14:02:15.584775Z"
    }
   },
   "cell_type": "code",
   "source": "best_model = grid_search.best_estimator_",
   "outputs": [],
   "execution_count": 509
  },
  {
   "metadata": {
    "ExecuteTime": {
     "end_time": "2025-04-07T14:02:39.669331Z",
     "start_time": "2025-04-07T14:02:39.639153Z"
    }
   },
   "cell_type": "code",
   "source": [
    "print(grid_search.best_params_)\n",
    "print(-1 * grid_search.best_score_)"
   ],
   "outputs": [
    {
     "name": "stdout",
     "output_type": "stream",
     "text": [
      "{'model__max_depth': None, 'model__min_samples_split': 2, 'model__n_estimators': 100, 'scaler': None}\n",
      "0.012633466408639063\n"
     ]
    }
   ],
   "execution_count": 511
  },
  {
   "metadata": {
    "ExecuteTime": {
     "end_time": "2025-04-07T14:02:46.591846Z",
     "start_time": "2025-04-07T14:02:46.519258Z"
    }
   },
   "cell_type": "code",
   "source": [
    "y_pred_log = best_model.predict(X_test)\n",
    "y_pred = np.exp(y_pred_log)"
   ],
   "outputs": [],
   "execution_count": 512
  },
  {
   "metadata": {
    "ExecuteTime": {
     "end_time": "2025-04-07T14:02:49.858147Z",
     "start_time": "2025-04-07T14:02:49.847698Z"
    }
   },
   "cell_type": "code",
   "source": "y_pred",
   "outputs": [
    {
     "data": {
      "text/plain": [
       "array([173196.56600029, 166365.23396732, 274411.29171842, 174766.92121086,\n",
       "       257371.60812018, 102397.55214553, 142507.53432705,  83461.66239247,\n",
       "       119572.8399398 , 214711.47165976, 106779.30263116, 288408.28656697,\n",
       "       191227.9931854 , 103789.97087228, 133794.70299645, 281846.88664552,\n",
       "       176782.67604072, 315922.37701032, 402645.61479996, 143816.87394776,\n",
       "       189840.80516005, 167799.37156415, 134747.90261671, 144392.53037281,\n",
       "       152797.26778851, 128475.92074325, 262628.37591037, 211065.27283071,\n",
       "       146235.62153646, 188752.06534486, 137127.89916078, 231934.37437443,\n",
       "       144255.99976898, 160317.33960705, 154349.55916821, 143030.33670533,\n",
       "       162218.21027715, 309205.62316571, 202715.08891336, 311859.62386836,\n",
       "        81589.7472211 , 130475.86297781, 131617.79994477, 174106.48054936,\n",
       "       104904.62492303,  97324.96982566, 254733.70833214, 271047.89594925,\n",
       "       148490.82058436, 197413.96761301, 195687.01815771, 255051.09686127,\n",
       "       141071.49860672, 133803.38916538, 185266.22168952, 238237.24533742,\n",
       "        85774.7122041 , 220725.98547119, 131163.99969453,  90334.48356525,\n",
       "       133098.87536273, 131722.88533489, 238482.34992797, 132769.05794542,\n",
       "       120157.07392307, 323139.76305146, 266834.22534479, 145435.67019838,\n",
       "       117782.30920283, 210535.22918895, 225068.47086462,  96284.89518224,\n",
       "       168670.670312  , 155408.71720358, 313144.5832054 , 144547.90959315,\n",
       "       250131.21062148, 220937.70095224, 129983.01819051, 218098.39583928,\n",
       "       165280.46777922, 140930.29187152, 130666.39152155, 134606.96346527,\n",
       "       151344.22570966, 259862.05389494, 377201.56997683, 179038.28424266,\n",
       "       132760.59975378, 170021.91150302, 132908.51215787, 130732.45942736,\n",
       "       153978.1445992 , 131269.88973158, 183509.65865172,  67879.25162265,\n",
       "       131363.58820274, 148494.26530372, 119418.06328351, 203490.95610911,\n",
       "       170762.3807532 ,  88472.60813721, 229594.37298287, 206806.57865206,\n",
       "       155982.66293691, 164327.89881076, 189542.38915871, 177700.94548013,\n",
       "       174644.32306502, 297361.9973174 , 128095.75630697, 172808.87509509,\n",
       "       215107.30095441, 117744.71566043, 262566.25074931,  94352.37991279,\n",
       "       123370.61870004, 130679.9264274 , 178525.97987386, 289661.93241706,\n",
       "       124466.31912829, 254570.50500524, 155614.26943487, 142814.80222567,\n",
       "       126860.71940927, 150673.30374875, 130877.60854612, 165195.73820681,\n",
       "       171246.34826718, 125521.91643292, 130509.89545749, 124470.47162412,\n",
       "       177369.17955743, 190565.54293837, 265653.66069515, 302084.24903088,\n",
       "       246511.73940672, 164231.57593539, 100619.9262172 , 120723.01169037,\n",
       "        86023.46572047, 146037.06035548, 300311.01335228, 229688.78906628,\n",
       "       116402.85749335,  96892.58979095, 120433.26485612, 177241.40135038,\n",
       "       147866.62448028, 203028.4243539 , 104208.99654901, 214819.7594708 ,\n",
       "       138423.88022172, 225819.18145297, 174470.40821033, 143337.91802579,\n",
       "       126767.76037739, 189835.74532972, 137801.35427682, 154378.74936225,\n",
       "       101495.62411193, 121068.5889293 , 161223.13797549, 141306.7565805 ,\n",
       "        97287.05877319, 150348.0369342 , 191707.87873984, 215234.39705605,\n",
       "       260740.68997429, 170236.37496878, 169724.26461254, 492664.02225852,\n",
       "       150748.81929034, 341689.00703961, 246077.74647827, 253409.11694803,\n",
       "       232642.61034958, 245186.26797967, 283981.29031887, 106587.60142186,\n",
       "        89719.28119244, 199424.85399656, 181167.94503761, 318691.27102397,\n",
       "       319030.728104  , 185418.75219013, 138665.01917274, 127110.4678011 ,\n",
       "       146372.79670254, 370334.27546175, 209796.00409705,  89211.69450473,\n",
       "       183569.0066126 , 132979.02615775, 217587.42764029, 136456.25565738,\n",
       "       309450.24042257, 121581.05217928, 165906.85340123, 196707.54081912,\n",
       "       129628.54754771, 103996.21736351, 135019.33677737, 170388.55555766,\n",
       "       150273.77829102, 119236.53915905, 270784.88340953, 165506.80541233,\n",
       "       142078.15225336, 119913.5568617 , 152246.8209108 , 273500.91244257,\n",
       "       199055.28162524, 129332.74014826, 174340.45754042, 275287.57390326,\n",
       "       331863.7690765 , 235198.96137699, 124127.39970419, 129250.65532184,\n",
       "       129205.44135046, 133986.72658533, 257797.26011867, 193790.12659133,\n",
       "       104361.27029742, 143602.24694825, 123209.1345415 , 130591.78872286,\n",
       "       216299.41975596, 168852.38311044, 189139.86101647, 124528.38121723,\n",
       "       177767.32799312, 174071.27481523, 229726.13148755,  89404.77564111,\n",
       "       185719.14999883, 336175.14295447, 130025.18901598, 140176.81728855,\n",
       "        61512.59033549, 168443.97283992, 124405.98545969, 284929.59614932,\n",
       "       246737.07113828, 209766.43438031, 118662.73807303, 194252.77447527,\n",
       "       183295.83021863, 131452.43124277, 221925.22014665, 135490.36069   ,\n",
       "        81375.44873831, 140444.11009173, 184286.39873305, 117167.40282042,\n",
       "       174872.47602263,  69542.42115286, 211166.49537952, 156887.03377759,\n",
       "       311460.16874429, 167686.69582865, 100199.84317235, 124662.29834113,\n",
       "       144521.2264208 , 131674.72195585, 141204.50192095, 195267.20590659,\n",
       "       263648.5118415 , 152978.34314757, 267216.43502497, 242661.09987535,\n",
       "        89751.99119858, 123492.35949523, 131066.25012904, 263059.62441174,\n",
       "       174492.99709676, 218693.1730324 , 233683.21910657, 124781.14276359,\n",
       "       159284.94905227, 245284.73901497, 182720.23962851, 108924.44418841,\n",
       "       311581.53961911, 113473.34662489, 166220.01869436,  99930.00805053,\n",
       "       196750.98752554, 184922.93602778, 300402.98324982, 147224.29813848])"
      ]
     },
     "execution_count": 513,
     "metadata": {},
     "output_type": "execute_result"
    }
   ],
   "execution_count": 513
  },
  {
   "metadata": {
    "ExecuteTime": {
     "end_time": "2025-04-07T14:02:53.798010Z",
     "start_time": "2025-04-07T14:02:53.787814Z"
    }
   },
   "cell_type": "code",
   "source": [
    "rmse_y_pred_test = loss_fn(y_test, y_pred)\n",
    "rmse_y_pred_test"
   ],
   "outputs": [
    {
     "data": {
      "text/plain": [
       "0.12846843855031434"
      ]
     },
     "execution_count": 514,
     "metadata": {},
     "output_type": "execute_result"
    }
   ],
   "execution_count": 514
  },
  {
   "metadata": {
    "ExecuteTime": {
     "end_time": "2025-04-07T14:02:57.138025Z",
     "start_time": "2025-04-07T14:02:57.055586Z"
    }
   },
   "cell_type": "code",
   "source": [
    "y_pred_train_scaled = best_model.predict(X_train)\n",
    "y_pred_train = np.exp(y_pred_train_scaled)"
   ],
   "outputs": [],
   "execution_count": 515
  },
  {
   "metadata": {
    "ExecuteTime": {
     "end_time": "2025-04-07T14:03:00.071491Z",
     "start_time": "2025-04-07T14:03:00.064399Z"
    }
   },
   "cell_type": "code",
   "source": "y_pred_train",
   "outputs": [
    {
     "data": {
      "text/plain": [
       "array([120504.58159604, 243347.59644481, 165701.78069281, ...,\n",
       "       216471.88013596, 172626.9689717 , 179850.1220251 ], shape=(1168,))"
      ]
     },
     "execution_count": 516,
     "metadata": {},
     "output_type": "execute_result"
    }
   ],
   "execution_count": 516
  },
  {
   "metadata": {
    "ExecuteTime": {
     "end_time": "2025-04-07T14:03:01.424903Z",
     "start_time": "2025-04-07T14:03:01.419471Z"
    }
   },
   "cell_type": "code",
   "source": [
    "rmse_y_pred_train = loss_fn(y_train, y_pred_train)\n",
    "rmse_y_pred_train"
   ],
   "outputs": [
    {
     "data": {
      "text/plain": [
       "0.054332919718468854"
      ]
     },
     "execution_count": 517,
     "metadata": {},
     "output_type": "execute_result"
    }
   ],
   "execution_count": 517
  },
  {
   "cell_type": "code",
   "source": [
    "import matplotlib.pyplot as plt\n",
    "\n",
    "def draw_histogram_auto_bins(data, title=\"Histogram\", xlabel=\"price\", ylabel=\"Frequency\", bin_method='auto'):\n",
    "    plt.hist(data, bins=bin_method)\n",
    "    plt.title(title)\n",
    "    plt.xlabel(xlabel)\n",
    "    plt.ylabel(ylabel)\n",
    "    plt.show()"
   ],
   "metadata": {
    "trusted": true,
    "execution": {
     "iopub.status.busy": "2025-04-04T16:20:58.078895Z",
     "iopub.execute_input": "2025-04-04T16:20:58.079235Z",
     "iopub.status.idle": "2025-04-04T16:20:59.065359Z",
     "shell.execute_reply.started": "2025-04-04T16:20:58.079208Z",
     "shell.execute_reply": "2025-04-04T16:20:59.064352Z"
    },
    "ExecuteTime": {
     "end_time": "2025-04-07T14:03:05.836789Z",
     "start_time": "2025-04-07T14:03:05.821904Z"
    }
   },
   "outputs": [],
   "execution_count": 518
  },
  {
   "metadata": {
    "ExecuteTime": {
     "end_time": "2025-04-07T14:03:14.996397Z",
     "start_time": "2025-04-07T14:03:14.737987Z"
    }
   },
   "cell_type": "code",
   "source": [
    "draw_histogram_auto_bins(y_train, title='real training data prices')\n",
    "draw_histogram_auto_bins(y_pred_train, title='prediction training data prices')\n",
    "draw_histogram_auto_bins(y_pred, title='prediction X_test data prices')"
   ],
   "outputs": [
    {
     "data": {
      "text/plain": [
       "<Figure size 640x480 with 1 Axes>"
      ],
      "image/png": "[encoded data removed]"
     },
     "metadata": {},
     "output_type": "display_data"
    },
    {
     "data": {
      "text/plain": [
       "<Figure size 640x480 with 1 Axes>"
      ],
      "image/png": "[encoded data removed]"
     },
     "metadata": {},
     "output_type": "display_data"
    },
    {
     "data": {
      "text/plain": [
       "<Figure size 640x480 with 1 Axes>"
      ],
      "image/png": "[encoded data removed]"
     },
     "metadata": {},
     "output_type": "display_data"
    }
   ],
   "execution_count": 519
  },
  {
   "cell_type": "code",
   "source": "list(zip(y_test, y_pred))[:10]",
   "metadata": {
    "trusted": true,
    "execution": {
     "iopub.status.busy": "2025-04-04T16:21:00.413318Z",
     "iopub.execute_input": "2025-04-04T16:21:00.413647Z",
     "iopub.status.idle": "2025-04-04T16:21:00.420932Z",
     "shell.execute_reply.started": "2025-04-04T16:21:00.413620Z",
     "shell.execute_reply": "2025-04-04T16:21:00.419898Z"
    },
    "ExecuteTime": {
     "end_time": "2025-04-07T14:03:33.808637Z",
     "start_time": "2025-04-07T14:03:33.783519Z"
    }
   },
   "outputs": [
    {
     "data": {
      "text/plain": [
       "[(190000, np.float64(173196.56600028733)),\n",
       " (173000, np.float64(166365.23396732437)),\n",
       " (392500, np.float64(274411.2917184236)),\n",
       " (181000, np.float64(174766.92121085516)),\n",
       " (284000, np.float64(257371.6081201839)),\n",
       " (88000, np.float64(102397.5521455298)),\n",
       " (136900, np.float64(142507.53432705151)),\n",
       " (79900, np.float64(83461.66239247375)),\n",
       " (110000, np.float64(119572.8399398007)),\n",
       " (226700, np.float64(214711.4716597633))]"
      ]
     },
     "execution_count": 520,
     "metadata": {},
     "output_type": "execute_result"
    }
   ],
   "execution_count": 520
  },
  {
   "metadata": {
    "trusted": true,
    "execution": {
     "iopub.status.busy": "2025-04-04T14:50:06.922117Z",
     "iopub.execute_input": "2025-04-04T14:50:06.922517Z",
     "iopub.status.idle": "2025-04-04T14:50:10.683631Z",
     "shell.execute_reply.started": "2025-04-04T14:50:06.922482Z",
     "shell.execute_reply": "2025-04-04T14:50:10.682458Z"
    },
    "ExecuteTime": {
     "end_time": "2025-04-07T14:04:18.858399Z",
     "start_time": "2025-04-07T14:04:02.836265Z"
    }
   },
   "cell_type": "code",
   "source": [
    "import mlflow\n",
    "from mlflow.models.signature import infer_signature\n",
    "\n",
    "experiment_name = 'house-price-prediction'\n",
    "run_name = model.__class__.__name__ + '_with_StandardScaler_'\n",
    "\n",
    "mlflow.set_experiment(experiment_name)\n",
    "\n",
    "with mlflow.start_run(run_name=run_name):\n",
    "    mlflow.log_param(\"fillNA_numerical_value\", 0)\n",
    "    mlflow.log_param(\"fillNA_categorical_value\", 0)\n",
    "    mlflow.log_param(\"model_name\", model.__class__.__name__)\n",
    "    \n",
    "    # Log removed columns\n",
    "    columns_to_remove_str = ', '.join(columns_to_remove)\n",
    "    mlflow.log_param(\"removed columns\", columns_to_remove_str)\n",
    "    \n",
    "    # Log best parameters\n",
    "    for param, value in grid_search.best_params_.items():\n",
    "        mlflow.log_param(param, value)\n",
    "\n",
    "    mlflow.log_metric(\"rmse - test\", rmse_y_pred_test)\n",
    "    mlflow.log_metric(\"rmse - train\", rmse_y_pred_train)\n",
    "    mlflow.log_metric(\"random seed\", random_seed)\n",
    "    \n",
    "    # Log the entire pipeline\n",
    "    # Create a small input example from your training set\n",
    "    input_example = test_df\n",
    "    \n",
    "    # Get model predictions for signature\n",
    "    example_predictions = best_model.predict(input_example)\n",
    "    \n",
    "    # Infer the signature\n",
    "    signature = infer_signature(input_example, example_predictions)\n",
    "    \n",
    "    # Log the model with input_example and signature\n",
    "    mlflow.sklearn.log_model(\n",
    "        sk_model=best_model,\n",
    "        artifact_path=\"pipeline_model\",\n",
    "        input_example=input_example,\n",
    "        signature=signature,\n",
    "    )\n",
    "\n",
    "    print(f\"Logged run_id: {mlflow.active_run().info.run_id}\")"
   ],
   "outputs": [
    {
     "name": "stderr",
     "output_type": "stream",
     "text": [
      "/Users/nikamatcharadze/Documents/uni/ml/project/house_prices/venv/lib/python3.12/site-packages/mlflow/types/utils.py:452: UserWarning: Hint: Inferred schema contains integer column(s). Integer columns in Python cannot represent missing values. If your input data contains missing values at inference time, it will be encoded as floats and will cause a schema enforcement error. The best way to avoid this problem is to infer the model schema based on a realistic data sample (training dataset) that includes missing values. Alternatively, you can declare integer columns as doubles (float64) whenever these columns may have missing values. See `Handling Integers With Missing Values <https://www.mlflow.org/docs/latest/models.html#handling-integers-with-missing-values>`_ for more details.\n",
      "  warnings.warn(\n"
     ]
    },
    {
     "name": "stdout",
     "output_type": "stream",
     "text": [
      "Logged run_id: 904a3fb9a1554234a2ef0bbf38de61a6\n",
      "🏃 View run RandomForestRegressor_with_StandardScaler_ at: https://dagshub.com/nmach22/house-prices-ml.mlflow/#/experiments/1/runs/904a3fb9a1554234a2ef0bbf38de61a6\n",
      "🧪 View experiment at: https://dagshub.com/nmach22/house-prices-ml.mlflow/#/experiments/1\n"
     ]
    }
   ],
   "execution_count": 522
  },
  {
   "cell_type": "code",
   "source": "",
   "metadata": {
    "trusted": true
   },
   "outputs": [],
   "execution_count": null
  }
 ]
}

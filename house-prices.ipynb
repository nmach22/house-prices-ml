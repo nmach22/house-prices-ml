{
 "metadata": {
  "kernelspec": {
   "language": "python",
   "display_name": "Python 3",
   "name": "python3"
  },
  "language_info": {
   "name": "python",
   "version": "3.10.12",
   "mimetype": "text/x-python",
   "codemirror_mode": {
    "name": "ipython",
    "version": 3
   },
   "pygments_lexer": "ipython3",
   "nbconvert_exporter": "python",
   "file_extension": ".py"
  },
  "kaggle": {
   "accelerator": "none",
   "dataSources": [
    {
     "sourceId": 5407,
     "databundleVersionId": 868283,
     "isSourceIdPinned": false,
     "sourceType": "competition"
    }
   ],
   "dockerImageVersionId": 30918,
   "isInternetEnabled": true,
   "language": "python",
   "sourceType": "notebook",
   "isGpuEnabled": false
  }
 },
 "nbformat_minor": 4,
 "nbformat": 4,
 "cells": [
  {
   "cell_type": "code",
   "source": "!pip install --upgrade dagshub mlflow seaborn matplotlib scikit-learn numpy pandas",
   "metadata": {
    "trusted": true,
    "execution": {
     "iopub.status.busy": "2025-04-04T14:03:53.935769Z",
     "iopub.execute_input": "2025-04-04T14:03:53.936126Z",
     "iopub.status.idle": "2025-04-04T14:04:43.174352Z",
     "shell.execute_reply.started": "2025-04-04T14:03:53.936094Z",
     "shell.execute_reply": "2025-04-04T14:04:43.172599Z"
    },
    "ExecuteTime": {
     "end_time": "2025-04-09T17:27:07.627228Z",
     "start_time": "2025-04-09T17:26:56.961896Z"
    }
   },
   "outputs": [
    {
     "name": "stdout",
     "output_type": "stream",
     "text": [
      "Requirement already satisfied: dagshub in ./venv/lib/python3.12/site-packages (0.5.9)\r\n",
      "Requirement already satisfied: mlflow in ./venv/lib/python3.12/site-packages (2.21.3)\r\n",
      "Requirement already satisfied: seaborn in ./venv/lib/python3.12/site-packages (0.13.2)\r\n",
      "Requirement already satisfied: matplotlib in ./venv/lib/python3.12/site-packages (3.10.1)\r\n",
      "Requirement already satisfied: scikit-learn in ./venv/lib/python3.12/site-packages (1.6.1)\r\n",
      "Requirement already satisfied: numpy in ./venv/lib/python3.12/site-packages (2.2.4)\r\n",
      "Requirement already satisfied: pandas in ./venv/lib/python3.12/site-packages (2.2.3)\r\n",
      "Requirement already satisfied: PyYAML>=5 in ./venv/lib/python3.12/site-packages (from dagshub) (6.0.2)\r\n",
      "Requirement already satisfied: appdirs>=1.4.4 in ./venv/lib/python3.12/site-packages (from dagshub) (1.4.4)\r\n",
      "Requirement already satisfied: click>=8.0.4 in ./venv/lib/python3.12/site-packages (from dagshub) (8.1.8)\r\n",
      "Requirement already satisfied: httpx>=0.23.0 in ./venv/lib/python3.12/site-packages (from dagshub) (0.28.1)\r\n",
      "Requirement already satisfied: GitPython>=3.1.29 in ./venv/lib/python3.12/site-packages (from dagshub) (3.1.44)\r\n",
      "Requirement already satisfied: rich>=13.1.0 in ./venv/lib/python3.12/site-packages (from dagshub) (14.0.0)\r\n",
      "Requirement already satisfied: dacite~=1.6.0 in ./venv/lib/python3.12/site-packages (from dagshub) (1.6.0)\r\n",
      "Requirement already satisfied: tenacity>=8.2.2 in ./venv/lib/python3.12/site-packages (from dagshub) (9.1.2)\r\n",
      "Requirement already satisfied: gql[requests] in ./venv/lib/python3.12/site-packages (from dagshub) (3.5.2)\r\n",
      "Requirement already satisfied: dataclasses-json in ./venv/lib/python3.12/site-packages (from dagshub) (0.6.7)\r\n",
      "Requirement already satisfied: treelib>=1.6.4 in ./venv/lib/python3.12/site-packages (from dagshub) (1.7.1)\r\n",
      "Requirement already satisfied: pathvalidate>=3.0.0 in ./venv/lib/python3.12/site-packages (from dagshub) (3.2.3)\r\n",
      "Requirement already satisfied: python-dateutil in ./venv/lib/python3.12/site-packages (from dagshub) (2.9.0.post0)\r\n",
      "Requirement already satisfied: boto3 in ./venv/lib/python3.12/site-packages (from dagshub) (1.37.27)\r\n",
      "Requirement already satisfied: semver in ./venv/lib/python3.12/site-packages (from dagshub) (3.0.4)\r\n",
      "Requirement already satisfied: dagshub-annotation-converter>=0.1.5 in ./venv/lib/python3.12/site-packages (from dagshub) (0.1.8)\r\n",
      "Requirement already satisfied: mlflow-skinny==2.21.3 in ./venv/lib/python3.12/site-packages (from mlflow) (2.21.3)\r\n",
      "Requirement already satisfied: Flask<4 in ./venv/lib/python3.12/site-packages (from mlflow) (3.1.0)\r\n",
      "Requirement already satisfied: Jinja2<4,>=2.11 in ./venv/lib/python3.12/site-packages (from mlflow) (3.1.6)\r\n",
      "Requirement already satisfied: alembic!=1.10.0,<2 in ./venv/lib/python3.12/site-packages (from mlflow) (1.15.2)\r\n",
      "Requirement already satisfied: docker<8,>=4.0.0 in ./venv/lib/python3.12/site-packages (from mlflow) (7.1.0)\r\n",
      "Requirement already satisfied: graphene<4 in ./venv/lib/python3.12/site-packages (from mlflow) (3.4.3)\r\n",
      "Requirement already satisfied: gunicorn<24 in ./venv/lib/python3.12/site-packages (from mlflow) (23.0.0)\r\n",
      "Requirement already satisfied: markdown<4,>=3.3 in ./venv/lib/python3.12/site-packages (from mlflow) (3.7)\r\n",
      "Requirement already satisfied: pyarrow<20,>=4.0.0 in ./venv/lib/python3.12/site-packages (from mlflow) (19.0.1)\r\n",
      "Requirement already satisfied: scipy<2 in ./venv/lib/python3.12/site-packages (from mlflow) (1.15.2)\r\n",
      "Requirement already satisfied: sqlalchemy<3,>=1.4.0 in ./venv/lib/python3.12/site-packages (from mlflow) (2.0.40)\r\n",
      "Requirement already satisfied: cachetools<6,>=5.0.0 in ./venv/lib/python3.12/site-packages (from mlflow-skinny==2.21.3->mlflow) (5.5.2)\r\n",
      "Requirement already satisfied: cloudpickle<4 in ./venv/lib/python3.12/site-packages (from mlflow-skinny==2.21.3->mlflow) (3.1.1)\r\n",
      "Requirement already satisfied: databricks-sdk<1,>=0.20.0 in ./venv/lib/python3.12/site-packages (from mlflow-skinny==2.21.3->mlflow) (0.49.0)\r\n",
      "Requirement already satisfied: fastapi<1 in ./venv/lib/python3.12/site-packages (from mlflow-skinny==2.21.3->mlflow) (0.115.12)\r\n",
      "Requirement already satisfied: importlib_metadata!=4.7.0,<9,>=3.7.0 in ./venv/lib/python3.12/site-packages (from mlflow-skinny==2.21.3->mlflow) (8.6.1)\r\n",
      "Requirement already satisfied: opentelemetry-api<3,>=1.9.0 in ./venv/lib/python3.12/site-packages (from mlflow-skinny==2.21.3->mlflow) (1.31.1)\r\n",
      "Requirement already satisfied: opentelemetry-sdk<3,>=1.9.0 in ./venv/lib/python3.12/site-packages (from mlflow-skinny==2.21.3->mlflow) (1.31.1)\r\n",
      "Requirement already satisfied: packaging<25 in ./venv/lib/python3.12/site-packages (from mlflow-skinny==2.21.3->mlflow) (24.2)\r\n",
      "Requirement already satisfied: protobuf<6,>=3.12.0 in ./venv/lib/python3.12/site-packages (from mlflow-skinny==2.21.3->mlflow) (5.29.4)\r\n",
      "Requirement already satisfied: pydantic<3,>=1.10.8 in ./venv/lib/python3.12/site-packages (from mlflow-skinny==2.21.3->mlflow) (2.11.2)\r\n",
      "Requirement already satisfied: requests<3,>=2.17.3 in ./venv/lib/python3.12/site-packages (from mlflow-skinny==2.21.3->mlflow) (2.32.3)\r\n",
      "Requirement already satisfied: sqlparse<1,>=0.4.0 in ./venv/lib/python3.12/site-packages (from mlflow-skinny==2.21.3->mlflow) (0.5.3)\r\n",
      "Requirement already satisfied: typing-extensions<5,>=4.0.0 in ./venv/lib/python3.12/site-packages (from mlflow-skinny==2.21.3->mlflow) (4.13.1)\r\n",
      "Requirement already satisfied: uvicorn<1 in ./venv/lib/python3.12/site-packages (from mlflow-skinny==2.21.3->mlflow) (0.34.0)\r\n",
      "Requirement already satisfied: contourpy>=1.0.1 in ./venv/lib/python3.12/site-packages (from matplotlib) (1.3.1)\r\n",
      "Requirement already satisfied: cycler>=0.10 in ./venv/lib/python3.12/site-packages (from matplotlib) (0.12.1)\r\n",
      "Requirement already satisfied: fonttools>=4.22.0 in ./venv/lib/python3.12/site-packages (from matplotlib) (4.57.0)\r\n",
      "Requirement already satisfied: kiwisolver>=1.3.1 in ./venv/lib/python3.12/site-packages (from matplotlib) (1.4.8)\r\n",
      "Requirement already satisfied: pillow>=8 in ./venv/lib/python3.12/site-packages (from matplotlib) (11.1.0)\r\n",
      "Requirement already satisfied: pyparsing>=2.3.1 in ./venv/lib/python3.12/site-packages (from matplotlib) (3.2.3)\r\n",
      "Requirement already satisfied: joblib>=1.2.0 in ./venv/lib/python3.12/site-packages (from scikit-learn) (1.4.2)\r\n",
      "Requirement already satisfied: threadpoolctl>=3.1.0 in ./venv/lib/python3.12/site-packages (from scikit-learn) (3.6.0)\r\n",
      "Requirement already satisfied: pytz>=2020.1 in ./venv/lib/python3.12/site-packages (from pandas) (2025.2)\r\n",
      "Requirement already satisfied: tzdata>=2022.7 in ./venv/lib/python3.12/site-packages (from pandas) (2025.2)\r\n",
      "Requirement already satisfied: Mako in ./venv/lib/python3.12/site-packages (from alembic!=1.10.0,<2->mlflow) (1.3.9)\r\n",
      "Requirement already satisfied: lxml in ./venv/lib/python3.12/site-packages (from dagshub-annotation-converter>=0.1.5->dagshub) (5.3.1)\r\n",
      "Requirement already satisfied: urllib3>=1.26.0 in ./venv/lib/python3.12/site-packages (from docker<8,>=4.0.0->mlflow) (2.3.0)\r\n",
      "Requirement already satisfied: Werkzeug>=3.1 in ./venv/lib/python3.12/site-packages (from Flask<4->mlflow) (3.1.3)\r\n",
      "Requirement already satisfied: itsdangerous>=2.2 in ./venv/lib/python3.12/site-packages (from Flask<4->mlflow) (2.2.0)\r\n",
      "Requirement already satisfied: blinker>=1.9 in ./venv/lib/python3.12/site-packages (from Flask<4->mlflow) (1.9.0)\r\n",
      "Requirement already satisfied: gitdb<5,>=4.0.1 in ./venv/lib/python3.12/site-packages (from GitPython>=3.1.29->dagshub) (4.0.12)\r\n",
      "Requirement already satisfied: graphql-core<3.3,>=3.1 in ./venv/lib/python3.12/site-packages (from graphene<4->mlflow) (3.2.4)\r\n",
      "Requirement already satisfied: graphql-relay<3.3,>=3.1 in ./venv/lib/python3.12/site-packages (from graphene<4->mlflow) (3.2.0)\r\n",
      "Requirement already satisfied: anyio in ./venv/lib/python3.12/site-packages (from httpx>=0.23.0->dagshub) (4.9.0)\r\n",
      "Requirement already satisfied: certifi in ./venv/lib/python3.12/site-packages (from httpx>=0.23.0->dagshub) (2025.1.31)\r\n",
      "Requirement already satisfied: httpcore==1.* in ./venv/lib/python3.12/site-packages (from httpx>=0.23.0->dagshub) (1.0.7)\r\n",
      "Requirement already satisfied: idna in ./venv/lib/python3.12/site-packages (from httpx>=0.23.0->dagshub) (3.10)\r\n",
      "Requirement already satisfied: h11<0.15,>=0.13 in ./venv/lib/python3.12/site-packages (from httpcore==1.*->httpx>=0.23.0->dagshub) (0.14.0)\r\n",
      "Requirement already satisfied: MarkupSafe>=2.0 in ./venv/lib/python3.12/site-packages (from Jinja2<4,>=2.11->mlflow) (3.0.2)\r\n",
      "Requirement already satisfied: six>=1.5 in ./venv/lib/python3.12/site-packages (from python-dateutil->dagshub) (1.17.0)\r\n",
      "Requirement already satisfied: markdown-it-py>=2.2.0 in ./venv/lib/python3.12/site-packages (from rich>=13.1.0->dagshub) (3.0.0)\r\n",
      "Requirement already satisfied: pygments<3.0.0,>=2.13.0 in ./venv/lib/python3.12/site-packages (from rich>=13.1.0->dagshub) (2.19.1)\r\n",
      "Requirement already satisfied: botocore<1.38.0,>=1.37.27 in ./venv/lib/python3.12/site-packages (from boto3->dagshub) (1.37.27)\r\n",
      "Requirement already satisfied: jmespath<2.0.0,>=0.7.1 in ./venv/lib/python3.12/site-packages (from boto3->dagshub) (1.0.1)\r\n",
      "Requirement already satisfied: s3transfer<0.12.0,>=0.11.0 in ./venv/lib/python3.12/site-packages (from boto3->dagshub) (0.11.4)\r\n",
      "Requirement already satisfied: marshmallow<4.0.0,>=3.18.0 in ./venv/lib/python3.12/site-packages (from dataclasses-json->dagshub) (3.26.1)\r\n",
      "Requirement already satisfied: typing-inspect<1,>=0.4.0 in ./venv/lib/python3.12/site-packages (from dataclasses-json->dagshub) (0.9.0)\r\n",
      "Requirement already satisfied: yarl<2.0,>=1.6 in ./venv/lib/python3.12/site-packages (from gql[requests]->dagshub) (1.18.3)\r\n",
      "Requirement already satisfied: backoff<3.0,>=1.11.1 in ./venv/lib/python3.12/site-packages (from gql[requests]->dagshub) (2.2.1)\r\n",
      "Requirement already satisfied: requests-toolbelt<2,>=1.0.0 in ./venv/lib/python3.12/site-packages (from gql[requests]->dagshub) (1.0.0)\r\n",
      "Requirement already satisfied: sniffio>=1.1 in ./venv/lib/python3.12/site-packages (from anyio->httpx>=0.23.0->dagshub) (1.3.1)\r\n",
      "Requirement already satisfied: google-auth~=2.0 in ./venv/lib/python3.12/site-packages (from databricks-sdk<1,>=0.20.0->mlflow-skinny==2.21.3->mlflow) (2.38.0)\r\n",
      "Requirement already satisfied: starlette<0.47.0,>=0.40.0 in ./venv/lib/python3.12/site-packages (from fastapi<1->mlflow-skinny==2.21.3->mlflow) (0.46.1)\r\n",
      "Requirement already satisfied: smmap<6,>=3.0.1 in ./venv/lib/python3.12/site-packages (from gitdb<5,>=4.0.1->GitPython>=3.1.29->dagshub) (5.0.2)\r\n",
      "Requirement already satisfied: zipp>=3.20 in ./venv/lib/python3.12/site-packages (from importlib_metadata!=4.7.0,<9,>=3.7.0->mlflow-skinny==2.21.3->mlflow) (3.21.0)\r\n",
      "Requirement already satisfied: mdurl~=0.1 in ./venv/lib/python3.12/site-packages (from markdown-it-py>=2.2.0->rich>=13.1.0->dagshub) (0.1.2)\r\n",
      "Requirement already satisfied: deprecated>=1.2.6 in ./venv/lib/python3.12/site-packages (from opentelemetry-api<3,>=1.9.0->mlflow-skinny==2.21.3->mlflow) (1.2.18)\r\n",
      "Requirement already satisfied: opentelemetry-semantic-conventions==0.52b1 in ./venv/lib/python3.12/site-packages (from opentelemetry-sdk<3,>=1.9.0->mlflow-skinny==2.21.3->mlflow) (0.52b1)\r\n",
      "Requirement already satisfied: annotated-types>=0.6.0 in ./venv/lib/python3.12/site-packages (from pydantic<3,>=1.10.8->mlflow-skinny==2.21.3->mlflow) (0.7.0)\r\n",
      "Requirement already satisfied: pydantic-core==2.33.1 in ./venv/lib/python3.12/site-packages (from pydantic<3,>=1.10.8->mlflow-skinny==2.21.3->mlflow) (2.33.1)\r\n",
      "Requirement already satisfied: typing-inspection>=0.4.0 in ./venv/lib/python3.12/site-packages (from pydantic<3,>=1.10.8->mlflow-skinny==2.21.3->mlflow) (0.4.0)\r\n",
      "Requirement already satisfied: charset-normalizer<4,>=2 in ./venv/lib/python3.12/site-packages (from requests<3,>=2.17.3->mlflow-skinny==2.21.3->mlflow) (3.4.1)\r\n",
      "Requirement already satisfied: mypy-extensions>=0.3.0 in ./venv/lib/python3.12/site-packages (from typing-inspect<1,>=0.4.0->dataclasses-json->dagshub) (1.0.0)\r\n",
      "Requirement already satisfied: multidict>=4.0 in ./venv/lib/python3.12/site-packages (from yarl<2.0,>=1.6->gql[requests]->dagshub) (6.3.2)\r\n",
      "Requirement already satisfied: propcache>=0.2.0 in ./venv/lib/python3.12/site-packages (from yarl<2.0,>=1.6->gql[requests]->dagshub) (0.3.1)\r\n",
      "Requirement already satisfied: wrapt<2,>=1.10 in ./venv/lib/python3.12/site-packages (from deprecated>=1.2.6->opentelemetry-api<3,>=1.9.0->mlflow-skinny==2.21.3->mlflow) (1.17.2)\r\n",
      "Requirement already satisfied: pyasn1-modules>=0.2.1 in ./venv/lib/python3.12/site-packages (from google-auth~=2.0->databricks-sdk<1,>=0.20.0->mlflow-skinny==2.21.3->mlflow) (0.4.2)\r\n",
      "Requirement already satisfied: rsa<5,>=3.1.4 in ./venv/lib/python3.12/site-packages (from google-auth~=2.0->databricks-sdk<1,>=0.20.0->mlflow-skinny==2.21.3->mlflow) (4.9)\r\n",
      "Requirement already satisfied: pyasn1<0.7.0,>=0.6.1 in ./venv/lib/python3.12/site-packages (from pyasn1-modules>=0.2.1->google-auth~=2.0->databricks-sdk<1,>=0.20.0->mlflow-skinny==2.21.3->mlflow) (0.6.1)\r\n"
     ]
    }
   ],
   "execution_count": 32
  },
  {
   "cell_type": "code",
   "source": "import dagshub\ndagshub.init(repo_owner='nmach22', repo_name='house-prices-ml', mlflow=True)",
   "metadata": {
    "trusted": true,
    "execution": {
     "iopub.status.busy": "2025-04-04T14:04:43.176067Z",
     "iopub.execute_input": "2025-04-04T14:04:43.176514Z",
     "iopub.status.idle": "2025-04-04T14:04:50.342122Z",
     "shell.execute_reply.started": "2025-04-04T14:04:43.176473Z",
     "shell.execute_reply": "2025-04-04T14:04:50.340558Z"
    },
    "ExecuteTime": {
     "end_time": "2025-04-09T17:11:25.454337Z",
     "start_time": "2025-04-09T17:11:23.094704Z"
    }
   },
   "outputs": [
    {
     "data": {
      "text/plain": [
       "Accessing as nmach22\n"
      ],
      "text/html": [
       "<pre style=\"white-space:pre;overflow-x:auto;line-height:normal;font-family:Menlo,'DejaVu Sans Mono',consolas,'Courier New',monospace\">Accessing as nmach22\n",
       "</pre>\n"
      ]
     },
     "metadata": {},
     "output_type": "display_data"
    },
    {
     "data": {
      "text/plain": [
       "Initialized MLflow to track repo \u001B[32m\"nmach22/house-prices-ml\"\u001B[0m\n"
      ],
      "text/html": [
       "<pre style=\"white-space:pre;overflow-x:auto;line-height:normal;font-family:Menlo,'DejaVu Sans Mono',consolas,'Courier New',monospace\">Initialized MLflow to track repo <span style=\"color: #008000; text-decoration-color: #008000\">\"nmach22/house-prices-ml\"</span>\n",
       "</pre>\n"
      ]
     },
     "metadata": {},
     "output_type": "display_data"
    },
    {
     "data": {
      "text/plain": [
       "Repository nmach22/house-prices-ml initialized!\n"
      ],
      "text/html": [
       "<pre style=\"white-space:pre;overflow-x:auto;line-height:normal;font-family:Menlo,'DejaVu Sans Mono',consolas,'Courier New',monospace\">Repository nmach22/house-prices-ml initialized!\n",
       "</pre>\n"
      ]
     },
     "metadata": {},
     "output_type": "display_data"
    }
   ],
   "execution_count": 3
  },
  {
   "metadata": {
    "ExecuteTime": {
     "end_time": "2025-04-09T17:11:16.720093Z",
     "start_time": "2025-04-09T17:11:16.717307Z"
    }
   },
   "cell_type": "code",
   "source": "data_path =  './data/house-prices-advanced-regression-techniques'",
   "outputs": [],
   "execution_count": 2
  },
  {
   "cell_type": "code",
   "source": [
    "# This Python 3 environment comes with many helpful analytics libraries installed\n",
    "# It is defined by the kaggle/python Docker image: https://github.com/kaggle/docker-python\n",
    "# For example, here's several helpful packages to load\n",
    "\n",
    "import numpy as np # linear algebra\n",
    "import pandas as pd # data processing, CSV file I/O (e.g. pd.read_csv)\n",
    "\n",
    "# Input data files are available in the read-only \"../input/\" directory\n",
    "# For example, running this (by clicking run or pressing Shift+Enter) will list all files under the input directory\n",
    "\n",
    "import os\n",
    "for dirname, _, filenames in os.walk(data_path):\n",
    "    for filename in filenames:\n",
    "        print(os.path.join(dirname, filename))\n",
    "\n",
    "# You can write up to 20GB to the current directory (/kaggle/working/) that gets preserved as output when you create a version using \"Save & Run All\" \n",
    "# You can also write temporary files to /kaggle/temp/, but they won't be saved outside of the current session"
   ],
   "metadata": {
    "_uuid": "8f2839f25d086af736a60e9eeb907d3b93b6e0e5",
    "_cell_guid": "b1076dfc-b9ad-4769-8c92-a6c4dae69d19",
    "trusted": true,
    "execution": {
     "iopub.status.busy": "2025-04-04T14:04:50.345149Z",
     "iopub.execute_input": "2025-04-04T14:04:50.345778Z",
     "iopub.status.idle": "2025-04-04T14:04:50.806564Z",
     "shell.execute_reply.started": "2025-04-04T14:04:50.345740Z",
     "shell.execute_reply": "2025-04-04T14:04:50.805367Z"
    },
    "ExecuteTime": {
     "end_time": "2025-04-09T17:11:29.820607Z",
     "start_time": "2025-04-09T17:11:29.815093Z"
    }
   },
   "outputs": [
    {
     "name": "stdout",
     "output_type": "stream",
     "text": [
      "./data/house-prices-advanced-regression-techniques/test.csv\n",
      "./data/house-prices-advanced-regression-techniques/data_description.txt\n",
      "./data/house-prices-advanced-regression-techniques/train.csv\n",
      "./data/house-prices-advanced-regression-techniques/sample_submission.csv\n"
     ]
    }
   ],
   "execution_count": 4
  },
  {
   "cell_type": "code",
   "source": [
    "df = pd.read_csv(os.path.join(data_path, 'train.csv'))\n",
    "df.shape"
   ],
   "metadata": {
    "trusted": true,
    "execution": {
     "iopub.status.busy": "2025-04-04T14:04:50.815730Z",
     "iopub.execute_input": "2025-04-04T14:04:50.816146Z",
     "iopub.status.idle": "2025-04-04T14:04:50.882078Z",
     "shell.execute_reply.started": "2025-04-04T14:04:50.816105Z",
     "shell.execute_reply": "2025-04-04T14:04:50.880717Z"
    },
    "ExecuteTime": {
     "end_time": "2025-04-09T17:11:32.914667Z",
     "start_time": "2025-04-09T17:11:32.885834Z"
    }
   },
   "outputs": [
    {
     "data": {
      "text/plain": [
       "(1460, 81)"
      ]
     },
     "execution_count": 5,
     "metadata": {},
     "output_type": "execute_result"
    }
   ],
   "execution_count": 5
  },
  {
   "cell_type": "code",
   "source": [
    "test_df = pd.read_csv(os.path.join(data_path, 'test.csv'))\n",
    "test_df.shape"
   ],
   "metadata": {
    "trusted": true,
    "execution": {
     "iopub.status.busy": "2025-04-04T14:04:50.883339Z",
     "iopub.execute_input": "2025-04-04T14:04:50.883754Z",
     "iopub.status.idle": "2025-04-04T14:04:50.918159Z",
     "shell.execute_reply.started": "2025-04-04T14:04:50.883714Z",
     "shell.execute_reply": "2025-04-04T14:04:50.917286Z"
    },
    "ExecuteTime": {
     "end_time": "2025-04-09T17:11:34.915669Z",
     "start_time": "2025-04-09T17:11:34.902067Z"
    }
   },
   "outputs": [
    {
     "data": {
      "text/plain": [
       "(1459, 80)"
      ]
     },
     "execution_count": 6,
     "metadata": {},
     "output_type": "execute_result"
    }
   ],
   "execution_count": 6
  },
  {
   "cell_type": "code",
   "source": [
    "from sklearn.model_selection import train_test_split\n",
    "\n",
    "X = df.drop(columns=['SalePrice'])\n",
    "y = df['SalePrice']\n",
    "\n",
    "random_seed = 40\n",
    "\n",
    "X_train, X_test, y_train, y_test = train_test_split(X, y, test_size=0.2, random_state=random_seed)"
   ],
   "metadata": {
    "trusted": true,
    "execution": {
     "iopub.status.busy": "2025-04-04T16:20:12.856592Z",
     "iopub.execute_input": "2025-04-04T16:20:12.857060Z",
     "iopub.status.idle": "2025-04-04T16:20:12.869835Z",
     "shell.execute_reply.started": "2025-04-04T16:20:12.857021Z",
     "shell.execute_reply": "2025-04-04T16:20:12.868617Z"
    },
    "ExecuteTime": {
     "end_time": "2025-04-09T18:17:02.559499Z",
     "start_time": "2025-04-09T18:17:02.545225Z"
    }
   },
   "outputs": [],
   "execution_count": 133
  },
  {
   "cell_type": "code",
   "source": "X_train.shape, X_test.shape, y_train.shape, y_test.shape",
   "metadata": {
    "trusted": true,
    "execution": {
     "iopub.status.busy": "2025-04-04T16:20:13.689298Z",
     "iopub.execute_input": "2025-04-04T16:20:13.689627Z",
     "iopub.status.idle": "2025-04-04T16:20:13.697421Z",
     "shell.execute_reply.started": "2025-04-04T16:20:13.689600Z",
     "shell.execute_reply": "2025-04-04T16:20:13.696035Z"
    },
    "ExecuteTime": {
     "end_time": "2025-04-09T18:17:02.940581Z",
     "start_time": "2025-04-09T18:17:02.938173Z"
    }
   },
   "outputs": [
    {
     "data": {
      "text/plain": [
       "((1168, 80), (292, 80), (1168,), (292,))"
      ]
     },
     "execution_count": 134,
     "metadata": {},
     "output_type": "execute_result"
    }
   ],
   "execution_count": 134
  },
  {
   "cell_type": "code",
   "source": "# print column which contains nans:\ncolumns_with_nulls = {}\nfor column_name, count in X_train.isna().sum(axis=0).items():\n    if count > 0:\n        print(f'{column_name}: {count} - {X_train[column_name].dtype}')\n        columns_with_nulls[column_name] = count",
   "metadata": {
    "trusted": true,
    "execution": {
     "iopub.status.busy": "2025-04-04T16:20:18.505685Z",
     "iopub.execute_input": "2025-04-04T16:20:18.506052Z",
     "iopub.status.idle": "2025-04-04T16:20:18.520338Z",
     "shell.execute_reply.started": "2025-04-04T16:20:18.506025Z",
     "shell.execute_reply": "2025-04-04T16:20:18.518497Z"
    },
    "ExecuteTime": {
     "end_time": "2025-04-09T18:17:03.140213Z",
     "start_time": "2025-04-09T18:17:03.134555Z"
    }
   },
   "outputs": [
    {
     "name": "stdout",
     "output_type": "stream",
     "text": [
      "LotFrontage: 212 - float64\n",
      "Alley: 1104 - object\n",
      "MasVnrType: 699 - object\n",
      "MasVnrArea: 7 - float64\n",
      "BsmtQual: 33 - object\n",
      "BsmtCond: 33 - object\n",
      "BsmtExposure: 34 - object\n",
      "BsmtFinType1: 33 - object\n",
      "BsmtFinType2: 34 - object\n",
      "Electrical: 1 - object\n",
      "FireplaceQu: 540 - object\n",
      "GarageType: 67 - object\n",
      "GarageYrBlt: 67 - float64\n",
      "GarageFinish: 67 - object\n",
      "GarageQual: 67 - object\n",
      "GarageCond: 67 - object\n",
      "PoolQC: 1162 - object\n",
      "Fence: 937 - object\n",
      "MiscFeature: 1123 - object\n"
     ]
    }
   ],
   "execution_count": 135
  },
  {
   "metadata": {
    "ExecuteTime": {
     "end_time": "2025-04-09T18:17:03.324477Z",
     "start_time": "2025-04-09T18:17:03.321864Z"
    }
   },
   "cell_type": "code",
   "source": "len(columns_with_nulls)",
   "outputs": [
    {
     "data": {
      "text/plain": [
       "19"
      ]
     },
     "execution_count": 136,
     "metadata": {},
     "output_type": "execute_result"
    }
   ],
   "execution_count": 136
  },
  {
   "cell_type": "code",
   "source": "cat_cols = [col for col in X_train.columns if X_train[col].dtype == 'object']\nnum_cols = [col for col in X_train.columns if X_train[col].dtype != 'object']",
   "metadata": {
    "trusted": true,
    "execution": {
     "iopub.status.busy": "2025-04-04T16:20:19.128923Z",
     "iopub.execute_input": "2025-04-04T16:20:19.129303Z",
     "iopub.status.idle": "2025-04-04T16:20:19.137639Z",
     "shell.execute_reply.started": "2025-04-04T16:20:19.129260Z",
     "shell.execute_reply": "2025-04-04T16:20:19.135834Z"
    },
    "ExecuteTime": {
     "end_time": "2025-04-09T18:17:03.511484Z",
     "start_time": "2025-04-09T18:17:03.508549Z"
    }
   },
   "outputs": [],
   "execution_count": 137
  },
  {
   "metadata": {
    "ExecuteTime": {
     "end_time": "2025-04-09T21:40:05.638769Z",
     "start_time": "2025-04-09T21:40:05.629585Z"
    }
   },
   "cell_type": "code",
   "source": "num_cols",
   "outputs": [
    {
     "data": {
      "text/plain": [
       "['Id',\n",
       " 'MSSubClass',\n",
       " 'LotFrontage',\n",
       " 'LotArea',\n",
       " 'OverallQual',\n",
       " 'OverallCond',\n",
       " 'YearBuilt',\n",
       " 'YearRemodAdd',\n",
       " 'MasVnrArea',\n",
       " 'BsmtFinSF1',\n",
       " 'BsmtFinSF2',\n",
       " 'BsmtUnfSF',\n",
       " 'TotalBsmtSF',\n",
       " '1stFlrSF',\n",
       " '2ndFlrSF',\n",
       " 'LowQualFinSF',\n",
       " 'GrLivArea',\n",
       " 'BsmtFullBath',\n",
       " 'BsmtHalfBath',\n",
       " 'FullBath',\n",
       " 'HalfBath',\n",
       " 'BedroomAbvGr',\n",
       " 'KitchenAbvGr',\n",
       " 'TotRmsAbvGrd',\n",
       " 'Fireplaces',\n",
       " 'GarageYrBlt',\n",
       " 'GarageCars',\n",
       " 'GarageArea',\n",
       " 'WoodDeckSF',\n",
       " 'OpenPorchSF',\n",
       " 'EnclosedPorch',\n",
       " '3SsnPorch',\n",
       " 'ScreenPorch',\n",
       " 'PoolArea',\n",
       " 'MiscVal',\n",
       " 'MoSold',\n",
       " 'YrSold']"
      ]
     },
     "execution_count": 229,
     "metadata": {},
     "output_type": "execute_result"
    }
   ],
   "execution_count": 229
  },
  {
   "metadata": {
    "ExecuteTime": {
     "end_time": "2025-04-09T21:42:41.183611Z",
     "start_time": "2025-04-09T21:42:41.158032Z"
    }
   },
   "cell_type": "code",
   "source": "X_train['MSSubClass'].unique()",
   "outputs": [
    {
     "data": {
      "text/plain": [
       "array([ 20,  50,  60,  80,  90,  45,  70, 190, 120,  75, 160,  30,  85,\n",
       "       180,  40])"
      ]
     },
     "execution_count": 232,
     "metadata": {},
     "output_type": "execute_result"
    }
   ],
   "execution_count": 232
  },
  {
   "cell_type": "code",
   "source": [
    "columns_to_remove = ['Id']\n",
    "# columns_to_remove += [col for col, count in columns_with_nulls.items() if count > 500]"
   ],
   "metadata": {
    "trusted": true,
    "execution": {
     "iopub.status.busy": "2025-04-04T16:20:22.603531Z",
     "iopub.execute_input": "2025-04-04T16:20:22.603889Z",
     "iopub.status.idle": "2025-04-04T16:20:22.608610Z",
     "shell.execute_reply.started": "2025-04-04T16:20:22.603860Z",
     "shell.execute_reply": "2025-04-04T16:20:22.607450Z"
    },
    "ExecuteTime": {
     "end_time": "2025-04-09T18:17:03.909917Z",
     "start_time": "2025-04-09T18:17:03.908053Z"
    }
   },
   "outputs": [],
   "execution_count": 139
  },
  {
   "metadata": {
    "ExecuteTime": {
     "end_time": "2025-04-09T18:17:04.148472Z",
     "start_time": "2025-04-09T18:17:04.144184Z"
    }
   },
   "cell_type": "code",
   "source": [
    "columns_to_change_nans = ['Alley', 'MasVnrType', 'BsmtQual', 'BsmtCond', 'BsmtExposure', 'BsmtFinType1', 'BsmtFinType2', 'FireplaceQu', 'GarageType', 'GarageFinish', 'Fence']\n",
    "X_train[columns_to_change_nans].dtypes"
   ],
   "outputs": [
    {
     "data": {
      "text/plain": [
       "Alley           object\n",
       "MasVnrType      object\n",
       "BsmtQual        object\n",
       "BsmtCond        object\n",
       "BsmtExposure    object\n",
       "BsmtFinType1    object\n",
       "BsmtFinType2    object\n",
       "FireplaceQu     object\n",
       "GarageType      object\n",
       "GarageFinish    object\n",
       "Fence           object\n",
       "dtype: object"
      ]
     },
     "execution_count": 140,
     "metadata": {},
     "output_type": "execute_result"
    }
   ],
   "execution_count": 140
  },
  {
   "cell_type": "code",
   "source": "columns_to_remove",
   "metadata": {
    "trusted": true,
    "execution": {
     "iopub.status.busy": "2025-04-04T16:20:23.297335Z",
     "iopub.execute_input": "2025-04-04T16:20:23.297711Z",
     "iopub.status.idle": "2025-04-04T16:20:23.303921Z",
     "shell.execute_reply.started": "2025-04-04T16:20:23.297660Z",
     "shell.execute_reply": "2025-04-04T16:20:23.302660Z"
    },
    "ExecuteTime": {
     "end_time": "2025-04-09T18:17:04.347120Z",
     "start_time": "2025-04-09T18:17:04.343765Z"
    }
   },
   "outputs": [
    {
     "data": {
      "text/plain": [
       "['Id']"
      ]
     },
     "execution_count": 141,
     "metadata": {},
     "output_type": "execute_result"
    }
   ],
   "execution_count": 141
  },
  {
   "cell_type": "code",
   "source": [
    "one_hot_columns = list(X_train[cat_cols].nunique().index)\n",
    "len(one_hot_columns)"
   ],
   "metadata": {
    "trusted": true,
    "execution": {
     "iopub.status.busy": "2025-04-04T16:20:38.376620Z",
     "iopub.execute_input": "2025-04-04T16:20:38.377025Z",
     "iopub.status.idle": "2025-04-04T16:20:38.393405Z",
     "shell.execute_reply.started": "2025-04-04T16:20:38.376994Z",
     "shell.execute_reply": "2025-04-04T16:20:38.392179Z"
    },
    "ExecuteTime": {
     "end_time": "2025-04-09T18:17:04.590609Z",
     "start_time": "2025-04-09T18:17:04.582184Z"
    }
   },
   "outputs": [
    {
     "data": {
      "text/plain": [
       "43"
      ]
     },
     "execution_count": 142,
     "metadata": {},
     "output_type": "execute_result"
    }
   ],
   "execution_count": 142
  },
  {
   "metadata": {
    "ExecuteTime": {
     "end_time": "2025-04-09T18:17:04.809548Z",
     "start_time": "2025-04-09T18:17:04.803553Z"
    }
   },
   "cell_type": "code",
   "source": "X_train[list(set(one_hot_columns) - set(columns_to_remove) - set(columns_to_change_nans))].isna().sum()",
   "outputs": [
    {
     "data": {
      "text/plain": [
       "CentralAir          0\n",
       "Condition2          0\n",
       "LandContour         0\n",
       "ExterQual           0\n",
       "LotShape            0\n",
       "KitchenQual         0\n",
       "SaleCondition       0\n",
       "RoofMatl            0\n",
       "GarageCond         67\n",
       "Heating             0\n",
       "ExterCond           0\n",
       "MSZoning            0\n",
       "Exterior2nd         0\n",
       "RoofStyle           0\n",
       "Condition1          0\n",
       "Exterior1st         0\n",
       "Electrical          1\n",
       "LotConfig           0\n",
       "BldgType            0\n",
       "HeatingQC           0\n",
       "MiscFeature      1123\n",
       "SaleType            0\n",
       "GarageQual         67\n",
       "PavedDrive          0\n",
       "LandSlope           0\n",
       "HouseStyle          0\n",
       "Street              0\n",
       "Utilities           0\n",
       "Foundation          0\n",
       "Neighborhood        0\n",
       "Functional          0\n",
       "PoolQC           1162\n",
       "dtype: int64"
      ]
     },
     "execution_count": 143,
     "metadata": {},
     "output_type": "execute_result"
    }
   ],
   "execution_count": 143
  },
  {
   "metadata": {
    "ExecuteTime": {
     "end_time": "2025-04-09T18:17:05.389900Z",
     "start_time": "2025-04-09T18:17:05.386548Z"
    }
   },
   "cell_type": "code",
   "source": "len(columns_to_remove)",
   "outputs": [
    {
     "data": {
      "text/plain": [
       "1"
      ]
     },
     "execution_count": 144,
     "metadata": {},
     "output_type": "execute_result"
    }
   ],
   "execution_count": 144
  },
  {
   "metadata": {
    "ExecuteTime": {
     "end_time": "2025-04-09T18:17:06.001652Z",
     "start_time": "2025-04-09T18:17:05.999050Z"
    }
   },
   "cell_type": "code",
   "source": "len(columns_to_change_nans)",
   "outputs": [
    {
     "data": {
      "text/plain": [
       "11"
      ]
     },
     "execution_count": 145,
     "metadata": {},
     "output_type": "execute_result"
    }
   ],
   "execution_count": 145
  },
  {
   "metadata": {
    "ExecuteTime": {
     "end_time": "2025-04-09T18:17:06.691228Z",
     "start_time": "2025-04-09T18:17:06.687964Z"
    }
   },
   "cell_type": "code",
   "source": "len(one_hot_columns)",
   "outputs": [
    {
     "data": {
      "text/plain": [
       "43"
      ]
     },
     "execution_count": 146,
     "metadata": {},
     "output_type": "execute_result"
    }
   ],
   "execution_count": 146
  },
  {
   "metadata": {
    "ExecuteTime": {
     "end_time": "2025-04-09T18:17:07.124905Z",
     "start_time": "2025-04-09T18:17:07.121003Z"
    }
   },
   "cell_type": "code",
   "source": "len(num_cols)",
   "outputs": [
    {
     "data": {
      "text/plain": [
       "37"
      ]
     },
     "execution_count": 147,
     "metadata": {},
     "output_type": "execute_result"
    }
   ],
   "execution_count": 147
  },
  {
   "metadata": {
    "ExecuteTime": {
     "end_time": "2025-04-09T18:17:07.666423Z",
     "start_time": "2025-04-09T18:17:07.662160Z"
    }
   },
   "cell_type": "code",
   "source": "len(one_hot_columns) + len(num_cols)",
   "outputs": [
    {
     "data": {
      "text/plain": [
       "80"
      ]
     },
     "execution_count": 148,
     "metadata": {},
     "output_type": "execute_result"
    }
   ],
   "execution_count": 148
  },
  {
   "cell_type": "markdown",
   "source": "## Preprocess",
   "metadata": {}
  },
  {
   "cell_type": "code",
   "source": [
    "from sklearn.base import BaseEstimator, TransformerMixin\n",
    "from sklearn.preprocessing import OneHotEncoder, MinMaxScaler\n",
    "from sklearn.preprocessing import TargetEncoder\n",
    "\n",
    "\n",
    "class CustomPreprocessor(BaseEstimator, TransformerMixin):\n",
    "    def __init__(self, categorical_columns, unnecessary_columns, columns_to_change,  smooth, change_value='nan'):\n",
    "        self.categorical_columns = categorical_columns\n",
    "        self.unnecessary_columns = unnecessary_columns\n",
    "        self.columns_to_change = columns_to_change\n",
    "        self.smooth = smooth\n",
    "        self.change_value = change_value\n",
    "\n",
    "    def fit(self, X, y):\n",
    "         # one hot encoder\n",
    "        self.enc = OneHotEncoder(handle_unknown='ignore', sparse_output=False)\n",
    "        # self.enc = TargetEncoder(target_type='continuous', smooth=self.smooth)\n",
    "        self.enc.set_output(transform=\"pandas\")\n",
    "         \n",
    "        self.numerical_columns = [col for col in X.columns if X[col].dtype != 'object' and col != 'Id']\n",
    "        self.categorical_columns = list(set(self.categorical_columns) - set(self.unnecessary_columns))\n",
    "\n",
    "        self.enc.fit(X[self.categorical_columns], y)\n",
    "        \n",
    "        return self\n",
    "\n",
    "    def transform(self, X):\n",
    "        # Drop columns unnecessary columns\n",
    "        X_transformed = X.drop(columns = self.unnecessary_columns)\n",
    "        \n",
    "        # Change several categorical column, which has meaningful nan values\n",
    "        X_transformed[self.columns_to_change] = X_transformed[self.columns_to_change].fillna(self.change_value)\n",
    "        \n",
    "        # Change numerical column nan values\n",
    "        X_transformed = X_transformed.fillna(value={col: 0 for col in self.numerical_columns})\n",
    "        \n",
    "        # Change categorical nan values with mode\n",
    "        X_transformed = X_transformed.fillna(value={col: X_transformed[col].mode()[0] for col in self.categorical_columns})\n",
    "        \n",
    "        # make encoder\n",
    "        target_encoded = self.enc.transform(X_transformed[self.categorical_columns])\n",
    "        X_transformed = pd.concat([X_transformed.drop(columns=self.categorical_columns), target_encoded], axis=1)\n",
    "\n",
    "        assert not X_transformed.isna().any().any()\n",
    "            \n",
    "        return X_transformed"
   ],
   "metadata": {
    "trusted": true,
    "execution": {
     "iopub.status.busy": "2025-04-04T16:20:42.063346Z",
     "iopub.execute_input": "2025-04-04T16:20:42.063682Z",
     "iopub.status.idle": "2025-04-04T16:20:42.073065Z",
     "shell.execute_reply.started": "2025-04-04T16:20:42.063655Z",
     "shell.execute_reply": "2025-04-04T16:20:42.071534Z"
    },
    "ExecuteTime": {
     "end_time": "2025-04-09T21:47:37.145234Z",
     "start_time": "2025-04-09T21:47:37.124434Z"
    }
   },
   "outputs": [],
   "execution_count": 238
  },
  {
   "metadata": {
    "ExecuteTime": {
     "end_time": "2025-04-09T21:47:37.671190Z",
     "start_time": "2025-04-09T21:47:37.668361Z"
    }
   },
   "cell_type": "code",
   "source": [
    "from sklearn.metrics import root_mean_squared_error\n",
    "\n",
    "def loss_fn(y_true, y_prediction):\n",
    "    return root_mean_squared_error(np.log(y_true), np.log(y_prediction))\n"
   ],
   "outputs": [],
   "execution_count": 239
  },
  {
   "metadata": {
    "trusted": true,
    "execution": {
     "iopub.status.busy": "2025-04-04T16:20:43.180416Z",
     "iopub.execute_input": "2025-04-04T16:20:43.180798Z",
     "iopub.status.idle": "2025-04-04T16:20:46.738943Z",
     "shell.execute_reply.started": "2025-04-04T16:20:43.180767Z",
     "shell.execute_reply": "2025-04-04T16:20:46.737881Z"
    },
    "ExecuteTime": {
     "end_time": "2025-04-09T22:26:25.345940Z",
     "start_time": "2025-04-09T22:26:25.305835Z"
    }
   },
   "cell_type": "code",
   "source": [
    "from sklearn.feature_selection import RFE\n",
    "from sklearn.pipeline import Pipeline\n",
    "from sklearn.preprocessing import StandardScaler, MinMaxScaler\n",
    "from sklearn.ensemble import RandomForestRegressor\n",
    "from sklearn.linear_model import RANSACRegressor, LinearRegression, Lasso\n",
    "from sklearn.model_selection import GridSearchCV, KFold\n",
    "from sklearn.metrics import make_scorer\n",
    "\n",
    "neg_rmse_scorer = make_scorer(loss_fn, greater_is_better=False)\n",
    "\n",
    "min_samples_options = [0.9, 0.92]\n",
    "\n",
    "# model = RandomForestRegressor(random_state=0)\n",
    "# model = RANSACRegressor(random_state=random_seed)\n",
    "model = LinearRegression()\n",
    "scalers = [\n",
    "    StandardScaler(),\n",
    "    None  # Option to use no scaler\n",
    "]\n",
    "\n",
    "kfold = KFold(n_splits=5, shuffle=True, random_state=40)\n",
    "\n",
    "rfe = RFE(estimator=model)\n",
    "\n",
    "param_grid = {\n",
    "    'scaler': scalers,\n",
    "    'rfe__n_features_to_select': [25, 30],\n",
    "    'rfe__step': [1, 5, 10],\n",
    "    # 'model__alpha': [0.1, 0.2, 0.3, 0.4, 0.5, 0.6, 0.7, 0.8, 0.9, 1.0],\n",
    "    # 'preprocess__smooth': ['auto', 1, 2],\n",
    "    # 'model__n_estimators': [100, 150, 200],\n",
    "    # 'model__max_depth': [None, 10, 20],\n",
    "    # 'model__min_samples_split': [2]\n",
    "    # 'model__min_samples': min_samples_options\n",
    "}\n",
    "\n",
    "y_train_scaled = np.log(y_train)\n",
    "\n",
    "pipeline = Pipeline([\n",
    "    ('preprocess', CustomPreprocessor(categorical_columns=one_hot_columns, unnecessary_columns=columns_to_remove, smooth='auto', columns_to_change=columns_to_change_nans)),\n",
    "    ('scaler', StandardScaler()),\n",
    "    ('rfe', rfe),\n",
    "    ('model', model)\n",
    "])\n"
   ],
   "outputs": [],
   "execution_count": 340
  },
  {
   "metadata": {
    "ExecuteTime": {
     "end_time": "2025-04-09T22:26:25.969031Z",
     "start_time": "2025-04-09T22:26:25.962491Z"
    }
   },
   "cell_type": "code",
   "source": [
    "grid_search = GridSearchCV(\n",
    "    pipeline,\n",
    "    param_grid=param_grid,\n",
    "    # cv=kfold,\n",
    "    scoring=neg_rmse_scorer,\n",
    "    verbose=2,\n",
    "    return_train_score=True,\n",
    "    n_jobs=-1,\n",
    ")"
   ],
   "outputs": [],
   "execution_count": 341
  },
  {
   "metadata": {
    "ExecuteTime": {
     "end_time": "2025-04-09T22:26:58.987Z",
     "start_time": "2025-04-09T22:26:26.925602Z"
    }
   },
   "cell_type": "code",
   "source": [
    "# Fit\n",
    "grid_search.fit(X_train.reset_index(drop=True), y_train_scaled.reset_index(drop=True))"
   ],
   "outputs": [
    {
     "name": "stdout",
     "output_type": "stream",
     "text": [
      "Fitting 5 folds for each of 12 candidates, totalling 60 fits\n"
     ]
    },
    {
     "data": {
      "text/plain": [
       "GridSearchCV(estimator=Pipeline(steps=[('preprocess',\n",
       "                                        CustomPreprocessor(categorical_columns=['MSZoning',\n",
       "                                                                                'Street',\n",
       "                                                                                'Alley',\n",
       "                                                                                'LotShape',\n",
       "                                                                                'LandContour',\n",
       "                                                                                'Utilities',\n",
       "                                                                                'LotConfig',\n",
       "                                                                                'LandSlope',\n",
       "                                                                                'Neighborhood',\n",
       "                                                                                'Condition1',\n",
       "                                                                                'Condition2',\n",
       "                                                                                'BldgType',\n",
       "                                                                                'HouseStyle',\n",
       "                                                                                'RoofStyle',\n",
       "                                                                                'RoofMatl',\n",
       "                                                                                'Exterior1st',\n",
       "                                                                                'Exterior2nd',\n",
       "                                                                                'MasVnrType',\n",
       "                                                                                'ExterQual',\n",
       "                                                                                'ExterCond',\n",
       "                                                                                'Foundation',\n",
       "                                                                                'B...\n",
       "                                                           unnecessary_columns=['Id'])),\n",
       "                                       ('scaler', StandardScaler()),\n",
       "                                       ('rfe',\n",
       "                                        RFE(estimator=LinearRegression())),\n",
       "                                       ('model', LinearRegression())]),\n",
       "             n_jobs=-1,\n",
       "             param_grid={'rfe__n_features_to_select': [25, 30],\n",
       "                         'rfe__step': [1, 5, 10],\n",
       "                         'scaler': [StandardScaler(), None]},\n",
       "             return_train_score=True,\n",
       "             scoring=make_scorer(loss_fn, greater_is_better=False, response_method='predict'),\n",
       "             verbose=2)"
      ],
      "text/html": [
       "<style>#sk-container-id-28 {\n",
       "  /* Definition of color scheme common for light and dark mode */\n",
       "  --sklearn-color-text: #000;\n",
       "  --sklearn-color-text-muted: #666;\n",
       "  --sklearn-color-line: gray;\n",
       "  /* Definition of color scheme for unfitted estimators */\n",
       "  --sklearn-color-unfitted-level-0: #fff5e6;\n",
       "  --sklearn-color-unfitted-level-1: #f6e4d2;\n",
       "  --sklearn-color-unfitted-level-2: #ffe0b3;\n",
       "  --sklearn-color-unfitted-level-3: chocolate;\n",
       "  /* Definition of color scheme for fitted estimators */\n",
       "  --sklearn-color-fitted-level-0: #f0f8ff;\n",
       "  --sklearn-color-fitted-level-1: #d4ebff;\n",
       "  --sklearn-color-fitted-level-2: #b3dbfd;\n",
       "  --sklearn-color-fitted-level-3: cornflowerblue;\n",
       "\n",
       "  /* Specific color for light theme */\n",
       "  --sklearn-color-text-on-default-background: var(--sg-text-color, var(--theme-code-foreground, var(--jp-content-font-color1, black)));\n",
       "  --sklearn-color-background: var(--sg-background-color, var(--theme-background, var(--jp-layout-color0, white)));\n",
       "  --sklearn-color-border-box: var(--sg-text-color, var(--theme-code-foreground, var(--jp-content-font-color1, black)));\n",
       "  --sklearn-color-icon: #696969;\n",
       "\n",
       "  @media (prefers-color-scheme: dark) {\n",
       "    /* Redefinition of color scheme for dark theme */\n",
       "    --sklearn-color-text-on-default-background: var(--sg-text-color, var(--theme-code-foreground, var(--jp-content-font-color1, white)));\n",
       "    --sklearn-color-background: var(--sg-background-color, var(--theme-background, var(--jp-layout-color0, #111)));\n",
       "    --sklearn-color-border-box: var(--sg-text-color, var(--theme-code-foreground, var(--jp-content-font-color1, white)));\n",
       "    --sklearn-color-icon: #878787;\n",
       "  }\n",
       "}\n",
       "\n",
       "#sk-container-id-28 {\n",
       "  color: var(--sklearn-color-text);\n",
       "}\n",
       "\n",
       "#sk-container-id-28 pre {\n",
       "  padding: 0;\n",
       "}\n",
       "\n",
       "#sk-container-id-28 input.sk-hidden--visually {\n",
       "  border: 0;\n",
       "  clip: rect(1px 1px 1px 1px);\n",
       "  clip: rect(1px, 1px, 1px, 1px);\n",
       "  height: 1px;\n",
       "  margin: -1px;\n",
       "  overflow: hidden;\n",
       "  padding: 0;\n",
       "  position: absolute;\n",
       "  width: 1px;\n",
       "}\n",
       "\n",
       "#sk-container-id-28 div.sk-dashed-wrapped {\n",
       "  border: 1px dashed var(--sklearn-color-line);\n",
       "  margin: 0 0.4em 0.5em 0.4em;\n",
       "  box-sizing: border-box;\n",
       "  padding-bottom: 0.4em;\n",
       "  background-color: var(--sklearn-color-background);\n",
       "}\n",
       "\n",
       "#sk-container-id-28 div.sk-container {\n",
       "  /* jupyter's `normalize.less` sets `[hidden] { display: none; }`\n",
       "     but bootstrap.min.css set `[hidden] { display: none !important; }`\n",
       "     so we also need the `!important` here to be able to override the\n",
       "     default hidden behavior on the sphinx rendered scikit-learn.org.\n",
       "     See: https://github.com/scikit-learn/scikit-learn/issues/21755 */\n",
       "  display: inline-block !important;\n",
       "  position: relative;\n",
       "}\n",
       "\n",
       "#sk-container-id-28 div.sk-text-repr-fallback {\n",
       "  display: none;\n",
       "}\n",
       "\n",
       "div.sk-parallel-item,\n",
       "div.sk-serial,\n",
       "div.sk-item {\n",
       "  /* draw centered vertical line to link estimators */\n",
       "  background-image: linear-gradient(var(--sklearn-color-text-on-default-background), var(--sklearn-color-text-on-default-background));\n",
       "  background-size: 2px 100%;\n",
       "  background-repeat: no-repeat;\n",
       "  background-position: center center;\n",
       "}\n",
       "\n",
       "/* Parallel-specific style estimator block */\n",
       "\n",
       "#sk-container-id-28 div.sk-parallel-item::after {\n",
       "  content: \"\";\n",
       "  width: 100%;\n",
       "  border-bottom: 2px solid var(--sklearn-color-text-on-default-background);\n",
       "  flex-grow: 1;\n",
       "}\n",
       "\n",
       "#sk-container-id-28 div.sk-parallel {\n",
       "  display: flex;\n",
       "  align-items: stretch;\n",
       "  justify-content: center;\n",
       "  background-color: var(--sklearn-color-background);\n",
       "  position: relative;\n",
       "}\n",
       "\n",
       "#sk-container-id-28 div.sk-parallel-item {\n",
       "  display: flex;\n",
       "  flex-direction: column;\n",
       "}\n",
       "\n",
       "#sk-container-id-28 div.sk-parallel-item:first-child::after {\n",
       "  align-self: flex-end;\n",
       "  width: 50%;\n",
       "}\n",
       "\n",
       "#sk-container-id-28 div.sk-parallel-item:last-child::after {\n",
       "  align-self: flex-start;\n",
       "  width: 50%;\n",
       "}\n",
       "\n",
       "#sk-container-id-28 div.sk-parallel-item:only-child::after {\n",
       "  width: 0;\n",
       "}\n",
       "\n",
       "/* Serial-specific style estimator block */\n",
       "\n",
       "#sk-container-id-28 div.sk-serial {\n",
       "  display: flex;\n",
       "  flex-direction: column;\n",
       "  align-items: center;\n",
       "  background-color: var(--sklearn-color-background);\n",
       "  padding-right: 1em;\n",
       "  padding-left: 1em;\n",
       "}\n",
       "\n",
       "\n",
       "/* Toggleable style: style used for estimator/Pipeline/ColumnTransformer box that is\n",
       "clickable and can be expanded/collapsed.\n",
       "- Pipeline and ColumnTransformer use this feature and define the default style\n",
       "- Estimators will overwrite some part of the style using the `sk-estimator` class\n",
       "*/\n",
       "\n",
       "/* Pipeline and ColumnTransformer style (default) */\n",
       "\n",
       "#sk-container-id-28 div.sk-toggleable {\n",
       "  /* Default theme specific background. It is overwritten whether we have a\n",
       "  specific estimator or a Pipeline/ColumnTransformer */\n",
       "  background-color: var(--sklearn-color-background);\n",
       "}\n",
       "\n",
       "/* Toggleable label */\n",
       "#sk-container-id-28 label.sk-toggleable__label {\n",
       "  cursor: pointer;\n",
       "  display: flex;\n",
       "  width: 100%;\n",
       "  margin-bottom: 0;\n",
       "  padding: 0.5em;\n",
       "  box-sizing: border-box;\n",
       "  text-align: center;\n",
       "  align-items: start;\n",
       "  justify-content: space-between;\n",
       "  gap: 0.5em;\n",
       "}\n",
       "\n",
       "#sk-container-id-28 label.sk-toggleable__label .caption {\n",
       "  font-size: 0.6rem;\n",
       "  font-weight: lighter;\n",
       "  color: var(--sklearn-color-text-muted);\n",
       "}\n",
       "\n",
       "#sk-container-id-28 label.sk-toggleable__label-arrow:before {\n",
       "  /* Arrow on the left of the label */\n",
       "  content: \"▸\";\n",
       "  float: left;\n",
       "  margin-right: 0.25em;\n",
       "  color: var(--sklearn-color-icon);\n",
       "}\n",
       "\n",
       "#sk-container-id-28 label.sk-toggleable__label-arrow:hover:before {\n",
       "  color: var(--sklearn-color-text);\n",
       "}\n",
       "\n",
       "/* Toggleable content - dropdown */\n",
       "\n",
       "#sk-container-id-28 div.sk-toggleable__content {\n",
       "  max-height: 0;\n",
       "  max-width: 0;\n",
       "  overflow: hidden;\n",
       "  text-align: left;\n",
       "  /* unfitted */\n",
       "  background-color: var(--sklearn-color-unfitted-level-0);\n",
       "}\n",
       "\n",
       "#sk-container-id-28 div.sk-toggleable__content.fitted {\n",
       "  /* fitted */\n",
       "  background-color: var(--sklearn-color-fitted-level-0);\n",
       "}\n",
       "\n",
       "#sk-container-id-28 div.sk-toggleable__content pre {\n",
       "  margin: 0.2em;\n",
       "  border-radius: 0.25em;\n",
       "  color: var(--sklearn-color-text);\n",
       "  /* unfitted */\n",
       "  background-color: var(--sklearn-color-unfitted-level-0);\n",
       "}\n",
       "\n",
       "#sk-container-id-28 div.sk-toggleable__content.fitted pre {\n",
       "  /* unfitted */\n",
       "  background-color: var(--sklearn-color-fitted-level-0);\n",
       "}\n",
       "\n",
       "#sk-container-id-28 input.sk-toggleable__control:checked~div.sk-toggleable__content {\n",
       "  /* Expand drop-down */\n",
       "  max-height: 200px;\n",
       "  max-width: 100%;\n",
       "  overflow: auto;\n",
       "}\n",
       "\n",
       "#sk-container-id-28 input.sk-toggleable__control:checked~label.sk-toggleable__label-arrow:before {\n",
       "  content: \"▾\";\n",
       "}\n",
       "\n",
       "/* Pipeline/ColumnTransformer-specific style */\n",
       "\n",
       "#sk-container-id-28 div.sk-label input.sk-toggleable__control:checked~label.sk-toggleable__label {\n",
       "  color: var(--sklearn-color-text);\n",
       "  background-color: var(--sklearn-color-unfitted-level-2);\n",
       "}\n",
       "\n",
       "#sk-container-id-28 div.sk-label.fitted input.sk-toggleable__control:checked~label.sk-toggleable__label {\n",
       "  background-color: var(--sklearn-color-fitted-level-2);\n",
       "}\n",
       "\n",
       "/* Estimator-specific style */\n",
       "\n",
       "/* Colorize estimator box */\n",
       "#sk-container-id-28 div.sk-estimator input.sk-toggleable__control:checked~label.sk-toggleable__label {\n",
       "  /* unfitted */\n",
       "  background-color: var(--sklearn-color-unfitted-level-2);\n",
       "}\n",
       "\n",
       "#sk-container-id-28 div.sk-estimator.fitted input.sk-toggleable__control:checked~label.sk-toggleable__label {\n",
       "  /* fitted */\n",
       "  background-color: var(--sklearn-color-fitted-level-2);\n",
       "}\n",
       "\n",
       "#sk-container-id-28 div.sk-label label.sk-toggleable__label,\n",
       "#sk-container-id-28 div.sk-label label {\n",
       "  /* The background is the default theme color */\n",
       "  color: var(--sklearn-color-text-on-default-background);\n",
       "}\n",
       "\n",
       "/* On hover, darken the color of the background */\n",
       "#sk-container-id-28 div.sk-label:hover label.sk-toggleable__label {\n",
       "  color: var(--sklearn-color-text);\n",
       "  background-color: var(--sklearn-color-unfitted-level-2);\n",
       "}\n",
       "\n",
       "/* Label box, darken color on hover, fitted */\n",
       "#sk-container-id-28 div.sk-label.fitted:hover label.sk-toggleable__label.fitted {\n",
       "  color: var(--sklearn-color-text);\n",
       "  background-color: var(--sklearn-color-fitted-level-2);\n",
       "}\n",
       "\n",
       "/* Estimator label */\n",
       "\n",
       "#sk-container-id-28 div.sk-label label {\n",
       "  font-family: monospace;\n",
       "  font-weight: bold;\n",
       "  display: inline-block;\n",
       "  line-height: 1.2em;\n",
       "}\n",
       "\n",
       "#sk-container-id-28 div.sk-label-container {\n",
       "  text-align: center;\n",
       "}\n",
       "\n",
       "/* Estimator-specific */\n",
       "#sk-container-id-28 div.sk-estimator {\n",
       "  font-family: monospace;\n",
       "  border: 1px dotted var(--sklearn-color-border-box);\n",
       "  border-radius: 0.25em;\n",
       "  box-sizing: border-box;\n",
       "  margin-bottom: 0.5em;\n",
       "  /* unfitted */\n",
       "  background-color: var(--sklearn-color-unfitted-level-0);\n",
       "}\n",
       "\n",
       "#sk-container-id-28 div.sk-estimator.fitted {\n",
       "  /* fitted */\n",
       "  background-color: var(--sklearn-color-fitted-level-0);\n",
       "}\n",
       "\n",
       "/* on hover */\n",
       "#sk-container-id-28 div.sk-estimator:hover {\n",
       "  /* unfitted */\n",
       "  background-color: var(--sklearn-color-unfitted-level-2);\n",
       "}\n",
       "\n",
       "#sk-container-id-28 div.sk-estimator.fitted:hover {\n",
       "  /* fitted */\n",
       "  background-color: var(--sklearn-color-fitted-level-2);\n",
       "}\n",
       "\n",
       "/* Specification for estimator info (e.g. \"i\" and \"?\") */\n",
       "\n",
       "/* Common style for \"i\" and \"?\" */\n",
       "\n",
       ".sk-estimator-doc-link,\n",
       "a:link.sk-estimator-doc-link,\n",
       "a:visited.sk-estimator-doc-link {\n",
       "  float: right;\n",
       "  font-size: smaller;\n",
       "  line-height: 1em;\n",
       "  font-family: monospace;\n",
       "  background-color: var(--sklearn-color-background);\n",
       "  border-radius: 1em;\n",
       "  height: 1em;\n",
       "  width: 1em;\n",
       "  text-decoration: none !important;\n",
       "  margin-left: 0.5em;\n",
       "  text-align: center;\n",
       "  /* unfitted */\n",
       "  border: var(--sklearn-color-unfitted-level-1) 1pt solid;\n",
       "  color: var(--sklearn-color-unfitted-level-1);\n",
       "}\n",
       "\n",
       ".sk-estimator-doc-link.fitted,\n",
       "a:link.sk-estimator-doc-link.fitted,\n",
       "a:visited.sk-estimator-doc-link.fitted {\n",
       "  /* fitted */\n",
       "  border: var(--sklearn-color-fitted-level-1) 1pt solid;\n",
       "  color: var(--sklearn-color-fitted-level-1);\n",
       "}\n",
       "\n",
       "/* On hover */\n",
       "div.sk-estimator:hover .sk-estimator-doc-link:hover,\n",
       ".sk-estimator-doc-link:hover,\n",
       "div.sk-label-container:hover .sk-estimator-doc-link:hover,\n",
       ".sk-estimator-doc-link:hover {\n",
       "  /* unfitted */\n",
       "  background-color: var(--sklearn-color-unfitted-level-3);\n",
       "  color: var(--sklearn-color-background);\n",
       "  text-decoration: none;\n",
       "}\n",
       "\n",
       "div.sk-estimator.fitted:hover .sk-estimator-doc-link.fitted:hover,\n",
       ".sk-estimator-doc-link.fitted:hover,\n",
       "div.sk-label-container:hover .sk-estimator-doc-link.fitted:hover,\n",
       ".sk-estimator-doc-link.fitted:hover {\n",
       "  /* fitted */\n",
       "  background-color: var(--sklearn-color-fitted-level-3);\n",
       "  color: var(--sklearn-color-background);\n",
       "  text-decoration: none;\n",
       "}\n",
       "\n",
       "/* Span, style for the box shown on hovering the info icon */\n",
       ".sk-estimator-doc-link span {\n",
       "  display: none;\n",
       "  z-index: 9999;\n",
       "  position: relative;\n",
       "  font-weight: normal;\n",
       "  right: .2ex;\n",
       "  padding: .5ex;\n",
       "  margin: .5ex;\n",
       "  width: min-content;\n",
       "  min-width: 20ex;\n",
       "  max-width: 50ex;\n",
       "  color: var(--sklearn-color-text);\n",
       "  box-shadow: 2pt 2pt 4pt #999;\n",
       "  /* unfitted */\n",
       "  background: var(--sklearn-color-unfitted-level-0);\n",
       "  border: .5pt solid var(--sklearn-color-unfitted-level-3);\n",
       "}\n",
       "\n",
       ".sk-estimator-doc-link.fitted span {\n",
       "  /* fitted */\n",
       "  background: var(--sklearn-color-fitted-level-0);\n",
       "  border: var(--sklearn-color-fitted-level-3);\n",
       "}\n",
       "\n",
       ".sk-estimator-doc-link:hover span {\n",
       "  display: block;\n",
       "}\n",
       "\n",
       "/* \"?\"-specific style due to the `<a>` HTML tag */\n",
       "\n",
       "#sk-container-id-28 a.estimator_doc_link {\n",
       "  float: right;\n",
       "  font-size: 1rem;\n",
       "  line-height: 1em;\n",
       "  font-family: monospace;\n",
       "  background-color: var(--sklearn-color-background);\n",
       "  border-radius: 1rem;\n",
       "  height: 1rem;\n",
       "  width: 1rem;\n",
       "  text-decoration: none;\n",
       "  /* unfitted */\n",
       "  color: var(--sklearn-color-unfitted-level-1);\n",
       "  border: var(--sklearn-color-unfitted-level-1) 1pt solid;\n",
       "}\n",
       "\n",
       "#sk-container-id-28 a.estimator_doc_link.fitted {\n",
       "  /* fitted */\n",
       "  border: var(--sklearn-color-fitted-level-1) 1pt solid;\n",
       "  color: var(--sklearn-color-fitted-level-1);\n",
       "}\n",
       "\n",
       "/* On hover */\n",
       "#sk-container-id-28 a.estimator_doc_link:hover {\n",
       "  /* unfitted */\n",
       "  background-color: var(--sklearn-color-unfitted-level-3);\n",
       "  color: var(--sklearn-color-background);\n",
       "  text-decoration: none;\n",
       "}\n",
       "\n",
       "#sk-container-id-28 a.estimator_doc_link.fitted:hover {\n",
       "  /* fitted */\n",
       "  background-color: var(--sklearn-color-fitted-level-3);\n",
       "}\n",
       "</style><div id=\"sk-container-id-28\" class=\"sk-top-container\"><div class=\"sk-text-repr-fallback\"><pre>GridSearchCV(estimator=Pipeline(steps=[(&#x27;preprocess&#x27;,\n",
       "                                        CustomPreprocessor(categorical_columns=[&#x27;MSZoning&#x27;,\n",
       "                                                                                &#x27;Street&#x27;,\n",
       "                                                                                &#x27;Alley&#x27;,\n",
       "                                                                                &#x27;LotShape&#x27;,\n",
       "                                                                                &#x27;LandContour&#x27;,\n",
       "                                                                                &#x27;Utilities&#x27;,\n",
       "                                                                                &#x27;LotConfig&#x27;,\n",
       "                                                                                &#x27;LandSlope&#x27;,\n",
       "                                                                                &#x27;Neighborhood&#x27;,\n",
       "                                                                                &#x27;Condition1&#x27;,\n",
       "                                                                                &#x27;Condition2&#x27;,\n",
       "                                                                                &#x27;BldgType&#x27;,\n",
       "                                                                                &#x27;HouseStyle&#x27;,\n",
       "                                                                                &#x27;RoofStyle&#x27;,\n",
       "                                                                                &#x27;RoofMatl&#x27;,\n",
       "                                                                                &#x27;Exterior1st&#x27;,\n",
       "                                                                                &#x27;Exterior2nd&#x27;,\n",
       "                                                                                &#x27;MasVnrType&#x27;,\n",
       "                                                                                &#x27;ExterQual&#x27;,\n",
       "                                                                                &#x27;ExterCond&#x27;,\n",
       "                                                                                &#x27;Foundation&#x27;,\n",
       "                                                                                &#x27;B...\n",
       "                                                           unnecessary_columns=[&#x27;Id&#x27;])),\n",
       "                                       (&#x27;scaler&#x27;, StandardScaler()),\n",
       "                                       (&#x27;rfe&#x27;,\n",
       "                                        RFE(estimator=LinearRegression())),\n",
       "                                       (&#x27;model&#x27;, LinearRegression())]),\n",
       "             n_jobs=-1,\n",
       "             param_grid={&#x27;rfe__n_features_to_select&#x27;: [25, 30],\n",
       "                         &#x27;rfe__step&#x27;: [1, 5, 10],\n",
       "                         &#x27;scaler&#x27;: [StandardScaler(), None]},\n",
       "             return_train_score=True,\n",
       "             scoring=make_scorer(loss_fn, greater_is_better=False, response_method=&#x27;predict&#x27;),\n",
       "             verbose=2)</pre><b>In a Jupyter environment, please rerun this cell to show the HTML representation or trust the notebook. <br />On GitHub, the HTML representation is unable to render, please try loading this page with nbviewer.org.</b></div><div class=\"sk-container\" hidden><div class=\"sk-item sk-dashed-wrapped\"><div class=\"sk-label-container\"><div class=\"sk-label fitted sk-toggleable\"><input class=\"sk-toggleable__control sk-hidden--visually\" id=\"sk-estimator-id-166\" type=\"checkbox\" ><label for=\"sk-estimator-id-166\" class=\"sk-toggleable__label fitted sk-toggleable__label-arrow\"><div><div>GridSearchCV</div></div><div><a class=\"sk-estimator-doc-link fitted\" rel=\"noreferrer\" target=\"_blank\" href=\"https://scikit-learn.org/1.6/modules/generated/sklearn.model_selection.GridSearchCV.html\">?<span>Documentation for GridSearchCV</span></a><span class=\"sk-estimator-doc-link fitted\">i<span>Fitted</span></span></div></label><div class=\"sk-toggleable__content fitted\"><pre>GridSearchCV(estimator=Pipeline(steps=[(&#x27;preprocess&#x27;,\n",
       "                                        CustomPreprocessor(categorical_columns=[&#x27;MSZoning&#x27;,\n",
       "                                                                                &#x27;Street&#x27;,\n",
       "                                                                                &#x27;Alley&#x27;,\n",
       "                                                                                &#x27;LotShape&#x27;,\n",
       "                                                                                &#x27;LandContour&#x27;,\n",
       "                                                                                &#x27;Utilities&#x27;,\n",
       "                                                                                &#x27;LotConfig&#x27;,\n",
       "                                                                                &#x27;LandSlope&#x27;,\n",
       "                                                                                &#x27;Neighborhood&#x27;,\n",
       "                                                                                &#x27;Condition1&#x27;,\n",
       "                                                                                &#x27;Condition2&#x27;,\n",
       "                                                                                &#x27;BldgType&#x27;,\n",
       "                                                                                &#x27;HouseStyle&#x27;,\n",
       "                                                                                &#x27;RoofStyle&#x27;,\n",
       "                                                                                &#x27;RoofMatl&#x27;,\n",
       "                                                                                &#x27;Exterior1st&#x27;,\n",
       "                                                                                &#x27;Exterior2nd&#x27;,\n",
       "                                                                                &#x27;MasVnrType&#x27;,\n",
       "                                                                                &#x27;ExterQual&#x27;,\n",
       "                                                                                &#x27;ExterCond&#x27;,\n",
       "                                                                                &#x27;Foundation&#x27;,\n",
       "                                                                                &#x27;B...\n",
       "                                                           unnecessary_columns=[&#x27;Id&#x27;])),\n",
       "                                       (&#x27;scaler&#x27;, StandardScaler()),\n",
       "                                       (&#x27;rfe&#x27;,\n",
       "                                        RFE(estimator=LinearRegression())),\n",
       "                                       (&#x27;model&#x27;, LinearRegression())]),\n",
       "             n_jobs=-1,\n",
       "             param_grid={&#x27;rfe__n_features_to_select&#x27;: [25, 30],\n",
       "                         &#x27;rfe__step&#x27;: [1, 5, 10],\n",
       "                         &#x27;scaler&#x27;: [StandardScaler(), None]},\n",
       "             return_train_score=True,\n",
       "             scoring=make_scorer(loss_fn, greater_is_better=False, response_method=&#x27;predict&#x27;),\n",
       "             verbose=2)</pre></div> </div></div><div class=\"sk-parallel\"><div class=\"sk-parallel-item\"><div class=\"sk-item\"><div class=\"sk-label-container\"><div class=\"sk-label fitted sk-toggleable\"><input class=\"sk-toggleable__control sk-hidden--visually\" id=\"sk-estimator-id-167\" type=\"checkbox\" ><label for=\"sk-estimator-id-167\" class=\"sk-toggleable__label fitted sk-toggleable__label-arrow\"><div><div>best_estimator_: Pipeline</div></div></label><div class=\"sk-toggleable__content fitted\"><pre>Pipeline(steps=[(&#x27;preprocess&#x27;,\n",
       "                 CustomPreprocessor(categorical_columns=[&#x27;CentralAir&#x27;,\n",
       "                                                         &#x27;Condition2&#x27;,\n",
       "                                                         &#x27;LandContour&#x27;,\n",
       "                                                         &#x27;ExterQual&#x27;,\n",
       "                                                         &#x27;BsmtExposure&#x27;,\n",
       "                                                         &#x27;LotShape&#x27;, &#x27;Fence&#x27;,\n",
       "                                                         &#x27;KitchenQual&#x27;,\n",
       "                                                         &#x27;RoofMatl&#x27;,\n",
       "                                                         &#x27;FireplaceQu&#x27;,\n",
       "                                                         &#x27;MasVnrType&#x27;,\n",
       "                                                         &#x27;GarageCond&#x27;,\n",
       "                                                         &#x27;SaleCondition&#x27;,\n",
       "                                                         &#x27;Heating&#x27;, &#x27;ExterCond&#x27;,\n",
       "                                                         &#x27;MSZoning&#x27;,\n",
       "                                                         &#x27;Exterior2nd&#x27;,\n",
       "                                                         &#x27;RoofStyle&#x27;,\n",
       "                                                         &#x27;BsmtCond&#x27;,\n",
       "                                                         &#x27;Condition1&#x27;,\n",
       "                                                         &#x27;Exterior1st&#x27;,\n",
       "                                                         &#x27;Electrical&#x27;,\n",
       "                                                         &#x27;Ga...\n",
       "                                                         &#x27;GarageQual&#x27;,\n",
       "                                                         &#x27;PavedDrive&#x27;, ...],\n",
       "                                    columns_to_change=[&#x27;Alley&#x27;, &#x27;MasVnrType&#x27;,\n",
       "                                                       &#x27;BsmtQual&#x27;, &#x27;BsmtCond&#x27;,\n",
       "                                                       &#x27;BsmtExposure&#x27;,\n",
       "                                                       &#x27;BsmtFinType1&#x27;,\n",
       "                                                       &#x27;BsmtFinType2&#x27;,\n",
       "                                                       &#x27;FireplaceQu&#x27;,\n",
       "                                                       &#x27;GarageType&#x27;,\n",
       "                                                       &#x27;GarageFinish&#x27;,\n",
       "                                                       &#x27;Fence&#x27;],\n",
       "                                    smooth=&#x27;auto&#x27;,\n",
       "                                    unnecessary_columns=[&#x27;Id&#x27;])),\n",
       "                (&#x27;scaler&#x27;, StandardScaler()),\n",
       "                (&#x27;rfe&#x27;,\n",
       "                 RFE(estimator=LinearRegression(), n_features_to_select=30)),\n",
       "                (&#x27;model&#x27;, LinearRegression())])</pre></div> </div></div><div class=\"sk-serial\"><div class=\"sk-item\"><div class=\"sk-serial\"><div class=\"sk-item\"><div class=\"sk-estimator fitted sk-toggleable\"><input class=\"sk-toggleable__control sk-hidden--visually\" id=\"sk-estimator-id-168\" type=\"checkbox\" ><label for=\"sk-estimator-id-168\" class=\"sk-toggleable__label fitted sk-toggleable__label-arrow\"><div><div>CustomPreprocessor</div></div></label><div class=\"sk-toggleable__content fitted\"><pre>CustomPreprocessor(categorical_columns=[&#x27;CentralAir&#x27;, &#x27;Condition2&#x27;,\n",
       "                                        &#x27;LandContour&#x27;, &#x27;ExterQual&#x27;,\n",
       "                                        &#x27;BsmtExposure&#x27;, &#x27;LotShape&#x27;, &#x27;Fence&#x27;,\n",
       "                                        &#x27;KitchenQual&#x27;, &#x27;RoofMatl&#x27;,\n",
       "                                        &#x27;FireplaceQu&#x27;, &#x27;MasVnrType&#x27;,\n",
       "                                        &#x27;GarageCond&#x27;, &#x27;SaleCondition&#x27;,\n",
       "                                        &#x27;Heating&#x27;, &#x27;ExterCond&#x27;, &#x27;MSZoning&#x27;,\n",
       "                                        &#x27;Exterior2nd&#x27;, &#x27;RoofStyle&#x27;, &#x27;BsmtCond&#x27;,\n",
       "                                        &#x27;Condition1&#x27;, &#x27;Exterior1st&#x27;,\n",
       "                                        &#x27;Electrical&#x27;, &#x27;GarageFinish&#x27;,\n",
       "                                        &#x27;BldgType&#x27;, &#x27;LotConfig&#x27;, &#x27;HeatingQC&#x27;,\n",
       "                                        &#x27;MiscFeature&#x27;, &#x27;SaleType&#x27;, &#x27;GarageQual&#x27;,\n",
       "                                        &#x27;PavedDrive&#x27;, ...],\n",
       "                   columns_to_change=[&#x27;Alley&#x27;, &#x27;MasVnrType&#x27;, &#x27;BsmtQual&#x27;,\n",
       "                                      &#x27;BsmtCond&#x27;, &#x27;BsmtExposure&#x27;,\n",
       "                                      &#x27;BsmtFinType1&#x27;, &#x27;BsmtFinType2&#x27;,\n",
       "                                      &#x27;FireplaceQu&#x27;, &#x27;GarageType&#x27;,\n",
       "                                      &#x27;GarageFinish&#x27;, &#x27;Fence&#x27;],\n",
       "                   smooth=&#x27;auto&#x27;, unnecessary_columns=[&#x27;Id&#x27;])</pre></div> </div></div><div class=\"sk-item\"><div class=\"sk-estimator fitted sk-toggleable\"><input class=\"sk-toggleable__control sk-hidden--visually\" id=\"sk-estimator-id-169\" type=\"checkbox\" ><label for=\"sk-estimator-id-169\" class=\"sk-toggleable__label fitted sk-toggleable__label-arrow\"><div><div>StandardScaler</div></div><div><a class=\"sk-estimator-doc-link fitted\" rel=\"noreferrer\" target=\"_blank\" href=\"https://scikit-learn.org/1.6/modules/generated/sklearn.preprocessing.StandardScaler.html\">?<span>Documentation for StandardScaler</span></a></div></label><div class=\"sk-toggleable__content fitted\"><pre>StandardScaler()</pre></div> </div></div><div class=\"sk-item sk-dashed-wrapped\"><div class=\"sk-label-container\"><div class=\"sk-label fitted sk-toggleable\"><input class=\"sk-toggleable__control sk-hidden--visually\" id=\"sk-estimator-id-170\" type=\"checkbox\" ><label for=\"sk-estimator-id-170\" class=\"sk-toggleable__label fitted sk-toggleable__label-arrow\"><div><div>rfe: RFE</div></div><div><a class=\"sk-estimator-doc-link fitted\" rel=\"noreferrer\" target=\"_blank\" href=\"https://scikit-learn.org/1.6/modules/generated/sklearn.feature_selection.RFE.html\">?<span>Documentation for rfe: RFE</span></a></div></label><div class=\"sk-toggleable__content fitted\"><pre>RFE(estimator=LinearRegression(), n_features_to_select=30)</pre></div> </div></div><div class=\"sk-parallel\"><div class=\"sk-parallel-item\"><div class=\"sk-item\"><div class=\"sk-label-container\"><div class=\"sk-label fitted sk-toggleable\"><input class=\"sk-toggleable__control sk-hidden--visually\" id=\"sk-estimator-id-171\" type=\"checkbox\" ><label for=\"sk-estimator-id-171\" class=\"sk-toggleable__label fitted sk-toggleable__label-arrow\"><div><div>estimator: LinearRegression</div></div></label><div class=\"sk-toggleable__content fitted\"><pre>LinearRegression()</pre></div> </div></div><div class=\"sk-serial\"><div class=\"sk-item\"><div class=\"sk-estimator fitted sk-toggleable\"><input class=\"sk-toggleable__control sk-hidden--visually\" id=\"sk-estimator-id-172\" type=\"checkbox\" ><label for=\"sk-estimator-id-172\" class=\"sk-toggleable__label fitted sk-toggleable__label-arrow\"><div><div>LinearRegression</div></div><div><a class=\"sk-estimator-doc-link fitted\" rel=\"noreferrer\" target=\"_blank\" href=\"https://scikit-learn.org/1.6/modules/generated/sklearn.linear_model.LinearRegression.html\">?<span>Documentation for LinearRegression</span></a></div></label><div class=\"sk-toggleable__content fitted\"><pre>LinearRegression()</pre></div> </div></div></div></div></div></div></div><div class=\"sk-item\"><div class=\"sk-estimator fitted sk-toggleable\"><input class=\"sk-toggleable__control sk-hidden--visually\" id=\"sk-estimator-id-173\" type=\"checkbox\" ><label for=\"sk-estimator-id-173\" class=\"sk-toggleable__label fitted sk-toggleable__label-arrow\"><div><div>LinearRegression</div></div><div><a class=\"sk-estimator-doc-link fitted\" rel=\"noreferrer\" target=\"_blank\" href=\"https://scikit-learn.org/1.6/modules/generated/sklearn.linear_model.LinearRegression.html\">?<span>Documentation for LinearRegression</span></a></div></label><div class=\"sk-toggleable__content fitted\"><pre>LinearRegression()</pre></div> </div></div></div></div></div></div></div></div></div></div></div>"
      ]
     },
     "execution_count": 342,
     "metadata": {},
     "output_type": "execute_result"
    }
   ],
   "execution_count": 342
  },
  {
   "metadata": {
    "ExecuteTime": {
     "end_time": "2025-04-09T22:26:59.018841Z",
     "start_time": "2025-04-09T22:26:59.016142Z"
    }
   },
   "cell_type": "code",
   "source": "best_model = grid_search.best_estimator_",
   "outputs": [],
   "execution_count": 343
  },
  {
   "metadata": {
    "ExecuteTime": {
     "end_time": "2025-04-09T22:26:59.061540Z",
     "start_time": "2025-04-09T22:26:59.058367Z"
    }
   },
   "cell_type": "code",
   "source": [
    "print(grid_search.best_params_)\n",
    "print(-1 * grid_search.best_score_)"
   ],
   "outputs": [
    {
     "name": "stdout",
     "output_type": "stream",
     "text": [
      "{'rfe__n_features_to_select': 30, 'rfe__step': 1, 'scaler': StandardScaler()}\n",
      "0.012767338854638752\n"
     ]
    }
   ],
   "execution_count": 344
  },
  {
   "metadata": {
    "ExecuteTime": {
     "end_time": "2025-04-09T22:26:59.123732Z",
     "start_time": "2025-04-09T22:26:59.096287Z"
    }
   },
   "cell_type": "code",
   "source": [
    "y_pred_log = best_model.predict(X_test)\n",
    "y_pred = np.exp(y_pred_log)"
   ],
   "outputs": [],
   "execution_count": 345
  },
  {
   "metadata": {
    "ExecuteTime": {
     "end_time": "2025-04-09T22:26:59.159273Z",
     "start_time": "2025-04-09T22:26:59.155104Z"
    }
   },
   "cell_type": "code",
   "source": "y_pred",
   "outputs": [
    {
     "data": {
      "text/plain": [
       "array([183828.54234212, 177765.79721776, 281661.0562061 , 170554.53411455,\n",
       "       284466.90818084,  96327.7459873 , 146194.46549484,  94745.11433113,\n",
       "       104216.81052758, 208186.74389964,  71735.23114416, 296261.93409389,\n",
       "       187066.10752424,  98148.71396408, 140308.89902218, 262999.940851  ,\n",
       "       170995.44114063, 303642.56127096, 521841.41695679, 160552.30038667,\n",
       "       196855.31825167, 160249.17351967, 130900.28351539, 146229.45795675,\n",
       "       209290.40993533, 121278.36621573, 263166.97351164, 189455.97634807,\n",
       "       134885.89788084, 192166.11836201, 131257.25953579, 229733.19795165,\n",
       "       148181.99593424, 158193.40136989, 151148.00827393, 134108.79009747,\n",
       "       166786.02750936, 292494.03764779, 198373.14130511, 317659.68073783,\n",
       "        92071.26802033, 115998.51227699, 132434.91825212, 172685.74902235,\n",
       "        99516.31672885, 101639.10199116, 269291.73801208, 273228.11606466,\n",
       "       156614.54898794, 196190.78630262, 213334.90594417, 194435.83589527,\n",
       "       144776.87139058, 117185.25998529, 174839.40418246, 241083.38437174,\n",
       "        84227.17551424, 205165.45794213, 125395.27347511,  82848.40649501,\n",
       "       122557.80143318, 137774.68876432, 233686.31592037, 142053.95894596,\n",
       "        99590.14861613, 317865.13547171, 258396.18530815, 152746.71290091,\n",
       "       113744.02028277, 213356.93597683, 208375.85552554,  99992.33939406,\n",
       "       177984.48552865, 159756.8189276 , 294303.82086145, 146006.67153243,\n",
       "       248079.23405982, 196487.01634927, 138983.26961094, 212123.83007594,\n",
       "       146264.9547468 , 141744.19579779, 135180.81243578, 149597.03561515,\n",
       "       179137.70393608, 273026.79201296, 446362.59608049, 178746.44105422,\n",
       "       134209.42379369, 168946.52596833, 142192.21635901, 119694.73218235,\n",
       "       158963.78653323, 133982.51158168, 200897.05178374,  72212.3583808 ,\n",
       "       149844.95239911, 161542.56818049, 105512.84501936, 247781.8268648 ,\n",
       "       176405.85412486,  88715.2989178 , 203671.29094508, 203438.25411949,\n",
       "       154122.70158336, 157928.07320983, 201728.51802718, 179623.16794517,\n",
       "       200726.41028399, 338839.62669727, 128318.35536092, 172822.51678441,\n",
       "       219526.85846159, 119518.0389132 , 247730.56964135, 106197.51104046,\n",
       "       113234.39327684, 123555.86094918, 193517.03261074, 313129.43772277,\n",
       "       122574.91926598, 222049.63219253, 149546.21755587, 160843.01181358,\n",
       "       125044.00591239, 165585.41987946, 130441.92501752, 159653.67624343,\n",
       "       187773.90166748, 126462.73541952, 123428.70404669, 116715.97151256,\n",
       "       180572.64130427, 180600.47286304, 293733.71700131, 316061.45833871,\n",
       "       253375.39628886, 149171.46732642, 103586.05235112,  95237.99383919,\n",
       "        87935.12760592, 155585.90358882, 311153.69230128, 232174.10825838,\n",
       "       120058.05187968, 117163.82714624, 106176.91360616, 190375.10942744,\n",
       "       149395.88725394, 189874.17493821, 116416.34823317, 207726.03899674,\n",
       "       134896.31393064, 222613.38113113, 175347.66161237, 147822.03909314,\n",
       "       117539.25034159, 178812.79237327, 135391.15972528, 139263.93865339,\n",
       "        93519.45397329, 119528.505682  , 171191.44072306, 147000.1025887 ,\n",
       "       110371.65224577, 143689.97527002, 195596.2032435 , 239367.85067047,\n",
       "       297828.78132452, 181939.79431806, 172116.26058982, 471451.0262085 ,\n",
       "       149498.88511729, 382705.58603108, 229882.28096598, 238214.88172656,\n",
       "       221892.3552648 , 249117.06059243, 268983.54955105, 114361.70298034,\n",
       "        98776.08906139, 197307.12752031, 170605.49545473, 277650.45565369,\n",
       "       307581.74210025, 186433.45513653, 138921.03255473, 121504.71928047,\n",
       "       150077.27757234, 351322.46827584, 212093.60618822,  85550.08036895,\n",
       "       189479.99990154, 135289.64430099, 230775.43609046, 118386.10280974,\n",
       "       320586.07317149, 107709.88481623, 159732.81600169, 214525.34677242,\n",
       "       117504.64009807,  81419.81429795, 143891.31547086, 158007.71906056,\n",
       "       156863.46086699, 125066.13387069, 280879.73730144, 170366.15182208,\n",
       "       130304.12558108, 126927.01029348, 140248.89398183, 279777.53028867,\n",
       "       204326.48338222, 120214.94690565, 161975.06900965, 257769.39691175,\n",
       "       313256.37153348, 241421.40555432, 130069.71617726, 118597.98563699,\n",
       "       144279.04351441, 131369.32251678, 259278.38775045, 185686.14600709,\n",
       "       116549.26604338, 130347.55654683, 121233.28317155, 139742.5765222 ,\n",
       "       215211.67417296, 174193.80472285, 201291.91592401, 119695.4384711 ,\n",
       "       193028.90284427, 177451.50586042, 217962.00039739,  94785.11613174,\n",
       "       179373.29358295, 310953.21338258, 107810.45263878, 136858.67119846,\n",
       "        58917.93800703, 205351.35614387, 125466.60899014, 255627.14681363,\n",
       "       269071.1889587 , 207286.52517758, 127168.27172946, 207444.4039904 ,\n",
       "       180144.72326124, 126848.6905144 , 216350.96529228, 113968.47650636,\n",
       "        93910.13500077, 116622.58077847, 194484.14364258, 114567.23100003,\n",
       "       225581.29778746,  41388.43278252, 263349.86741288, 169539.09408053,\n",
       "       301459.51302995, 157669.3352481 , 106055.38823456, 116766.66632781,\n",
       "       145933.67449363, 124126.7522715 , 153296.97164491, 201718.71484882,\n",
       "       261676.48230856, 134942.14332817, 269137.10613924, 247243.86397356,\n",
       "        87672.03761493, 132881.63621934, 128330.79867838, 211683.41592201,\n",
       "       116234.15293649, 214589.724033  , 229917.95218912, 125712.89826835,\n",
       "       146110.85541224, 234232.43855064, 169868.29298878, 111109.85825258,\n",
       "       330040.84544675, 114051.79890819, 163373.0645226 ,  60155.04464672,\n",
       "       198820.17498945, 188508.81272636, 320848.70669599, 138385.25125865])"
      ]
     },
     "execution_count": 346,
     "metadata": {},
     "output_type": "execute_result"
    }
   ],
   "execution_count": 346
  },
  {
   "metadata": {
    "ExecuteTime": {
     "end_time": "2025-04-09T22:26:59.196312Z",
     "start_time": "2025-04-09T22:26:59.192034Z"
    }
   },
   "cell_type": "code",
   "source": [
    "rmse_y_pred_test = loss_fn(y_test, y_pred)\n",
    "rmse_y_pred_test"
   ],
   "outputs": [
    {
     "data": {
      "text/plain": [
       "0.12000304613824493"
      ]
     },
     "execution_count": 347,
     "metadata": {},
     "output_type": "execute_result"
    }
   ],
   "execution_count": 347
  },
  {
   "metadata": {
    "ExecuteTime": {
     "end_time": "2025-04-09T22:31:20.827282Z",
     "start_time": "2025-04-09T22:31:20.760505Z"
    }
   },
   "cell_type": "code",
   "source": [
    "y_pred_train_scaled = best_model.predict(X_train)\n",
    "y_pred_train = np.exp(y_pred_train_scaled)"
   ],
   "outputs": [],
   "execution_count": 348
  },
  {
   "metadata": {
    "ExecuteTime": {
     "end_time": "2025-04-09T22:31:22.172834Z",
     "start_time": "2025-04-09T22:31:22.169492Z"
    }
   },
   "cell_type": "code",
   "source": "y_pred_train",
   "outputs": [
    {
     "data": {
      "text/plain": [
       "array([114107.87856662, 268925.92520212, 149120.37773257, ...,\n",
       "       231501.51684028, 176393.24972276, 220898.26439614], shape=(1168,))"
      ]
     },
     "execution_count": 349,
     "metadata": {},
     "output_type": "execute_result"
    }
   ],
   "execution_count": 349
  },
  {
   "metadata": {
    "ExecuteTime": {
     "end_time": "2025-04-09T22:31:23.413757Z",
     "start_time": "2025-04-09T22:31:23.408116Z"
    }
   },
   "cell_type": "code",
   "source": [
    "rmse_y_pred_train = loss_fn(y_train, y_pred_train)\n",
    "rmse_y_pred_train"
   ],
   "outputs": [
    {
     "data": {
      "text/plain": [
       "0.11332358579409288"
      ]
     },
     "execution_count": 350,
     "metadata": {},
     "output_type": "execute_result"
    }
   ],
   "execution_count": 350
  },
  {
   "cell_type": "code",
   "source": [
    "import matplotlib.pyplot as plt\n",
    "\n",
    "def draw_histogram_auto_bins(data, title=\"Histogram\", xlabel=\"price\", ylabel=\"Frequency\", bin_method='auto'):\n",
    "    plt.hist(data, bins=bin_method)\n",
    "    plt.title(title)\n",
    "    plt.xlabel(xlabel)\n",
    "    plt.ylabel(ylabel)\n",
    "    plt.show()"
   ],
   "metadata": {
    "trusted": true,
    "execution": {
     "iopub.status.busy": "2025-04-04T16:20:58.078895Z",
     "iopub.execute_input": "2025-04-04T16:20:58.079235Z",
     "iopub.status.idle": "2025-04-04T16:20:59.065359Z",
     "shell.execute_reply.started": "2025-04-04T16:20:58.079208Z",
     "shell.execute_reply": "2025-04-04T16:20:59.064352Z"
    },
    "ExecuteTime": {
     "end_time": "2025-04-09T22:31:25.440148Z",
     "start_time": "2025-04-09T22:31:25.413014Z"
    }
   },
   "outputs": [],
   "execution_count": 351
  },
  {
   "metadata": {
    "ExecuteTime": {
     "end_time": "2025-04-09T22:31:26.813820Z",
     "start_time": "2025-04-09T22:31:26.482483Z"
    }
   },
   "cell_type": "code",
   "source": [
    "draw_histogram_auto_bins(y_train, title='real training data prices')\n",
    "draw_histogram_auto_bins(y_pred_train, title='prediction training data prices')\n",
    "draw_histogram_auto_bins(y_pred, title='prediction X_test data prices')"
   ],
   "outputs": [
    {
     "data": {
      "text/plain": [
       "<Figure size 640x480 with 1 Axes>"
      ],
      "image/png": "[encoded data removed]"
     },
     "metadata": {},
     "output_type": "display_data"
    },
    {
     "data": {
      "text/plain": [
       "<Figure size 640x480 with 1 Axes>"
      ],
      "image/png": "[encoded data removed]"
     },
     "metadata": {},
     "output_type": "display_data"
    },
    {
     "data": {
      "text/plain": [
       "<Figure size 640x480 with 1 Axes>"
      ],
      "image/png": "[encoded data removed]"
     },
     "metadata": {},
     "output_type": "display_data"
    }
   ],
   "execution_count": 352
  },
  {
   "cell_type": "code",
   "source": "list(zip(y_test, y_pred))[:10]",
   "metadata": {
    "trusted": true,
    "execution": {
     "iopub.status.busy": "2025-04-04T16:21:00.413318Z",
     "iopub.execute_input": "2025-04-04T16:21:00.413647Z",
     "iopub.status.idle": "2025-04-04T16:21:00.420932Z",
     "shell.execute_reply.started": "2025-04-04T16:21:00.413620Z",
     "shell.execute_reply": "2025-04-04T16:21:00.419898Z"
    },
    "ExecuteTime": {
     "end_time": "2025-04-09T22:31:28.215114Z",
     "start_time": "2025-04-09T22:31:28.207634Z"
    }
   },
   "outputs": [
    {
     "data": {
      "text/plain": [
       "[(190000, np.float64(183828.54234211962)),\n",
       " (173000, np.float64(177765.7972177555)),\n",
       " (392500, np.float64(281661.0562061029)),\n",
       " (181000, np.float64(170554.53411455138)),\n",
       " (284000, np.float64(284466.9081808381)),\n",
       " (88000, np.float64(96327.74598730006)),\n",
       " (136900, np.float64(146194.46549483808)),\n",
       " (79900, np.float64(94745.11433112879)),\n",
       " (110000, np.float64(104216.81052757926)),\n",
       " (226700, np.float64(208186.7438996377))]"
      ]
     },
     "execution_count": 353,
     "metadata": {},
     "output_type": "execute_result"
    }
   ],
   "execution_count": 353
  },
  {
   "metadata": {
    "trusted": true,
    "execution": {
     "iopub.status.busy": "2025-04-04T14:50:06.922117Z",
     "iopub.execute_input": "2025-04-04T14:50:06.922517Z",
     "iopub.status.idle": "2025-04-04T14:50:10.683631Z",
     "shell.execute_reply.started": "2025-04-04T14:50:06.922482Z",
     "shell.execute_reply": "2025-04-04T14:50:10.682458Z"
    },
    "ExecuteTime": {
     "end_time": "2025-04-09T22:32:47.329112Z",
     "start_time": "2025-04-09T22:32:34.829607Z"
    }
   },
   "cell_type": "code",
   "source": [
    "import mlflow\n",
    "from mlflow.models.signature import infer_signature\n",
    "\n",
    "experiment_name = 'Linear Regression'\n",
    "run_name = model.__class__.__name__ + '_best_linear_run'\n",
    "\n",
    "mlflow.set_experiment(experiment_name)\n",
    "\n",
    "with mlflow.start_run(run_name=run_name):\n",
    "    mlflow.log_param(\"fillNA_numerical_value\", 0)\n",
    "    mlflow.log_param(\"fillNA_categorical_value\", 0)\n",
    "    mlflow.log_param(\"model_name\", model.__class__.__name__)\n",
    "    \n",
    "    # Log removed columns\n",
    "    columns_to_remove_str = ', '.join(columns_to_remove)\n",
    "    mlflow.log_param(\"removed columns\", columns_to_remove_str)\n",
    "    \n",
    "    # Log best parameters\n",
    "    for param, value in grid_search.best_params_.items():\n",
    "        mlflow.log_param(param, value)\n",
    "\n",
    "    mlflow.log_metric(\"rmse - test\", rmse_y_pred_test)\n",
    "    mlflow.log_metric(\"rmse - train\", rmse_y_pred_train)\n",
    "    mlflow.log_metric(\"random seed\", random_seed)\n",
    "    \n",
    "    # Log the entire pipeline\n",
    "    # Create a small input example from your training set\n",
    "    input_example = test_df\n",
    "    \n",
    "    # Get model predictions for signature\n",
    "    example_predictions = best_model.predict(input_example)\n",
    "    \n",
    "    # Infer the signature\n",
    "    signature = infer_signature(input_example, example_predictions)\n",
    "    \n",
    "    # Log the model with input_example and signature\n",
    "    mlflow.sklearn.log_model(\n",
    "        sk_model=best_model,\n",
    "        artifact_path=\"pipeline_model\",\n",
    "        input_example=input_example,\n",
    "        signature=signature,\n",
    "    )\n",
    "\n",
    "    print(f\"Logged run_id: {mlflow.active_run().info.run_id}\")"
   ],
   "outputs": [
    {
     "name": "stderr",
     "output_type": "stream",
     "text": [
      "2025/04/10 02:32:35 INFO mlflow.tracking.fluent: Experiment with name 'Linear Regression' does not exist. Creating a new experiment.\n",
      "/Users/nikamatcharadze/Documents/uni/ml/project/house_prices/venv/lib/python3.12/site-packages/mlflow/types/utils.py:452: UserWarning: Hint: Inferred schema contains integer column(s). Integer columns in Python cannot represent missing values. If your input data contains missing values at inference time, it will be encoded as floats and will cause a schema enforcement error. The best way to avoid this problem is to infer the model schema based on a realistic data sample (training dataset) that includes missing values. Alternatively, you can declare integer columns as doubles (float64) whenever these columns may have missing values. See `Handling Integers With Missing Values <https://www.mlflow.org/docs/latest/models.html#handling-integers-with-missing-values>`_ for more details.\n",
      "  warnings.warn(\n"
     ]
    },
    {
     "name": "stdout",
     "output_type": "stream",
     "text": [
      "Logged run_id: 8b949a1397384ff3aa328e46f62516fc\n",
      "🏃 View run LinearRegression_best_linear_run at: https://dagshub.com/nmach22/house-prices-ml.mlflow/#/experiments/2/runs/8b949a1397384ff3aa328e46f62516fc\n",
      "🧪 View experiment at: https://dagshub.com/nmach22/house-prices-ml.mlflow/#/experiments/2\n"
     ]
    }
   ],
   "execution_count": 355
  },
  {
   "cell_type": "code",
   "source": "",
   "metadata": {
    "trusted": true
   },
   "outputs": [],
   "execution_count": null
  }
 ]
}

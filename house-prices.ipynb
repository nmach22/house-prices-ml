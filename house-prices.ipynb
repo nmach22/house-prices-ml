{
 "metadata": {
  "kernelspec": {
   "language": "python",
   "display_name": "Python 3",
   "name": "python3"
  },
  "language_info": {
   "name": "python",
   "version": "3.10.12",
   "mimetype": "text/x-python",
   "codemirror_mode": {
    "name": "ipython",
    "version": 3
   },
   "pygments_lexer": "ipython3",
   "nbconvert_exporter": "python",
   "file_extension": ".py"
  },
  "kaggle": {
   "accelerator": "none",
   "dataSources": [
    {
     "sourceId": 5407,
     "databundleVersionId": 868283,
     "isSourceIdPinned": false,
     "sourceType": "competition"
    }
   ],
   "dockerImageVersionId": 30918,
   "isInternetEnabled": true,
   "language": "python",
   "sourceType": "notebook",
   "isGpuEnabled": false
  }
 },
 "nbformat_minor": 4,
 "nbformat": 4,
 "cells": [
  {
   "cell_type": "code",
   "source": "!pip install --upgrade dagshub mlflow seaborn matplotlib scikit-learn numpy pandas",
   "metadata": {
    "trusted": true,
    "execution": {
     "iopub.status.busy": "2025-04-04T14:03:53.935769Z",
     "iopub.execute_input": "2025-04-04T14:03:53.936126Z",
     "iopub.status.idle": "2025-04-04T14:04:43.174352Z",
     "shell.execute_reply.started": "2025-04-04T14:03:53.936094Z",
     "shell.execute_reply": "2025-04-04T14:04:43.172599Z"
    },
    "ExecuteTime": {
     "end_time": "2025-04-09T17:27:07.627228Z",
     "start_time": "2025-04-09T17:26:56.961896Z"
    }
   },
   "outputs": [
    {
     "name": "stdout",
     "output_type": "stream",
     "text": [
      "Requirement already satisfied: dagshub in ./venv/lib/python3.12/site-packages (0.5.9)\r\n",
      "Requirement already satisfied: mlflow in ./venv/lib/python3.12/site-packages (2.21.3)\r\n",
      "Requirement already satisfied: seaborn in ./venv/lib/python3.12/site-packages (0.13.2)\r\n",
      "Requirement already satisfied: matplotlib in ./venv/lib/python3.12/site-packages (3.10.1)\r\n",
      "Requirement already satisfied: scikit-learn in ./venv/lib/python3.12/site-packages (1.6.1)\r\n",
      "Requirement already satisfied: numpy in ./venv/lib/python3.12/site-packages (2.2.4)\r\n",
      "Requirement already satisfied: pandas in ./venv/lib/python3.12/site-packages (2.2.3)\r\n",
      "Requirement already satisfied: PyYAML>=5 in ./venv/lib/python3.12/site-packages (from dagshub) (6.0.2)\r\n",
      "Requirement already satisfied: appdirs>=1.4.4 in ./venv/lib/python3.12/site-packages (from dagshub) (1.4.4)\r\n",
      "Requirement already satisfied: click>=8.0.4 in ./venv/lib/python3.12/site-packages (from dagshub) (8.1.8)\r\n",
      "Requirement already satisfied: httpx>=0.23.0 in ./venv/lib/python3.12/site-packages (from dagshub) (0.28.1)\r\n",
      "Requirement already satisfied: GitPython>=3.1.29 in ./venv/lib/python3.12/site-packages (from dagshub) (3.1.44)\r\n",
      "Requirement already satisfied: rich>=13.1.0 in ./venv/lib/python3.12/site-packages (from dagshub) (14.0.0)\r\n",
      "Requirement already satisfied: dacite~=1.6.0 in ./venv/lib/python3.12/site-packages (from dagshub) (1.6.0)\r\n",
      "Requirement already satisfied: tenacity>=8.2.2 in ./venv/lib/python3.12/site-packages (from dagshub) (9.1.2)\r\n",
      "Requirement already satisfied: gql[requests] in ./venv/lib/python3.12/site-packages (from dagshub) (3.5.2)\r\n",
      "Requirement already satisfied: dataclasses-json in ./venv/lib/python3.12/site-packages (from dagshub) (0.6.7)\r\n",
      "Requirement already satisfied: treelib>=1.6.4 in ./venv/lib/python3.12/site-packages (from dagshub) (1.7.1)\r\n",
      "Requirement already satisfied: pathvalidate>=3.0.0 in ./venv/lib/python3.12/site-packages (from dagshub) (3.2.3)\r\n",
      "Requirement already satisfied: python-dateutil in ./venv/lib/python3.12/site-packages (from dagshub) (2.9.0.post0)\r\n",
      "Requirement already satisfied: boto3 in ./venv/lib/python3.12/site-packages (from dagshub) (1.37.27)\r\n",
      "Requirement already satisfied: semver in ./venv/lib/python3.12/site-packages (from dagshub) (3.0.4)\r\n",
      "Requirement already satisfied: dagshub-annotation-converter>=0.1.5 in ./venv/lib/python3.12/site-packages (from dagshub) (0.1.8)\r\n",
      "Requirement already satisfied: mlflow-skinny==2.21.3 in ./venv/lib/python3.12/site-packages (from mlflow) (2.21.3)\r\n",
      "Requirement already satisfied: Flask<4 in ./venv/lib/python3.12/site-packages (from mlflow) (3.1.0)\r\n",
      "Requirement already satisfied: Jinja2<4,>=2.11 in ./venv/lib/python3.12/site-packages (from mlflow) (3.1.6)\r\n",
      "Requirement already satisfied: alembic!=1.10.0,<2 in ./venv/lib/python3.12/site-packages (from mlflow) (1.15.2)\r\n",
      "Requirement already satisfied: docker<8,>=4.0.0 in ./venv/lib/python3.12/site-packages (from mlflow) (7.1.0)\r\n",
      "Requirement already satisfied: graphene<4 in ./venv/lib/python3.12/site-packages (from mlflow) (3.4.3)\r\n",
      "Requirement already satisfied: gunicorn<24 in ./venv/lib/python3.12/site-packages (from mlflow) (23.0.0)\r\n",
      "Requirement already satisfied: markdown<4,>=3.3 in ./venv/lib/python3.12/site-packages (from mlflow) (3.7)\r\n",
      "Requirement already satisfied: pyarrow<20,>=4.0.0 in ./venv/lib/python3.12/site-packages (from mlflow) (19.0.1)\r\n",
      "Requirement already satisfied: scipy<2 in ./venv/lib/python3.12/site-packages (from mlflow) (1.15.2)\r\n",
      "Requirement already satisfied: sqlalchemy<3,>=1.4.0 in ./venv/lib/python3.12/site-packages (from mlflow) (2.0.40)\r\n",
      "Requirement already satisfied: cachetools<6,>=5.0.0 in ./venv/lib/python3.12/site-packages (from mlflow-skinny==2.21.3->mlflow) (5.5.2)\r\n",
      "Requirement already satisfied: cloudpickle<4 in ./venv/lib/python3.12/site-packages (from mlflow-skinny==2.21.3->mlflow) (3.1.1)\r\n",
      "Requirement already satisfied: databricks-sdk<1,>=0.20.0 in ./venv/lib/python3.12/site-packages (from mlflow-skinny==2.21.3->mlflow) (0.49.0)\r\n",
      "Requirement already satisfied: fastapi<1 in ./venv/lib/python3.12/site-packages (from mlflow-skinny==2.21.3->mlflow) (0.115.12)\r\n",
      "Requirement already satisfied: importlib_metadata!=4.7.0,<9,>=3.7.0 in ./venv/lib/python3.12/site-packages (from mlflow-skinny==2.21.3->mlflow) (8.6.1)\r\n",
      "Requirement already satisfied: opentelemetry-api<3,>=1.9.0 in ./venv/lib/python3.12/site-packages (from mlflow-skinny==2.21.3->mlflow) (1.31.1)\r\n",
      "Requirement already satisfied: opentelemetry-sdk<3,>=1.9.0 in ./venv/lib/python3.12/site-packages (from mlflow-skinny==2.21.3->mlflow) (1.31.1)\r\n",
      "Requirement already satisfied: packaging<25 in ./venv/lib/python3.12/site-packages (from mlflow-skinny==2.21.3->mlflow) (24.2)\r\n",
      "Requirement already satisfied: protobuf<6,>=3.12.0 in ./venv/lib/python3.12/site-packages (from mlflow-skinny==2.21.3->mlflow) (5.29.4)\r\n",
      "Requirement already satisfied: pydantic<3,>=1.10.8 in ./venv/lib/python3.12/site-packages (from mlflow-skinny==2.21.3->mlflow) (2.11.2)\r\n",
      "Requirement already satisfied: requests<3,>=2.17.3 in ./venv/lib/python3.12/site-packages (from mlflow-skinny==2.21.3->mlflow) (2.32.3)\r\n",
      "Requirement already satisfied: sqlparse<1,>=0.4.0 in ./venv/lib/python3.12/site-packages (from mlflow-skinny==2.21.3->mlflow) (0.5.3)\r\n",
      "Requirement already satisfied: typing-extensions<5,>=4.0.0 in ./venv/lib/python3.12/site-packages (from mlflow-skinny==2.21.3->mlflow) (4.13.1)\r\n",
      "Requirement already satisfied: uvicorn<1 in ./venv/lib/python3.12/site-packages (from mlflow-skinny==2.21.3->mlflow) (0.34.0)\r\n",
      "Requirement already satisfied: contourpy>=1.0.1 in ./venv/lib/python3.12/site-packages (from matplotlib) (1.3.1)\r\n",
      "Requirement already satisfied: cycler>=0.10 in ./venv/lib/python3.12/site-packages (from matplotlib) (0.12.1)\r\n",
      "Requirement already satisfied: fonttools>=4.22.0 in ./venv/lib/python3.12/site-packages (from matplotlib) (4.57.0)\r\n",
      "Requirement already satisfied: kiwisolver>=1.3.1 in ./venv/lib/python3.12/site-packages (from matplotlib) (1.4.8)\r\n",
      "Requirement already satisfied: pillow>=8 in ./venv/lib/python3.12/site-packages (from matplotlib) (11.1.0)\r\n",
      "Requirement already satisfied: pyparsing>=2.3.1 in ./venv/lib/python3.12/site-packages (from matplotlib) (3.2.3)\r\n",
      "Requirement already satisfied: joblib>=1.2.0 in ./venv/lib/python3.12/site-packages (from scikit-learn) (1.4.2)\r\n",
      "Requirement already satisfied: threadpoolctl>=3.1.0 in ./venv/lib/python3.12/site-packages (from scikit-learn) (3.6.0)\r\n",
      "Requirement already satisfied: pytz>=2020.1 in ./venv/lib/python3.12/site-packages (from pandas) (2025.2)\r\n",
      "Requirement already satisfied: tzdata>=2022.7 in ./venv/lib/python3.12/site-packages (from pandas) (2025.2)\r\n",
      "Requirement already satisfied: Mako in ./venv/lib/python3.12/site-packages (from alembic!=1.10.0,<2->mlflow) (1.3.9)\r\n",
      "Requirement already satisfied: lxml in ./venv/lib/python3.12/site-packages (from dagshub-annotation-converter>=0.1.5->dagshub) (5.3.1)\r\n",
      "Requirement already satisfied: urllib3>=1.26.0 in ./venv/lib/python3.12/site-packages (from docker<8,>=4.0.0->mlflow) (2.3.0)\r\n",
      "Requirement already satisfied: Werkzeug>=3.1 in ./venv/lib/python3.12/site-packages (from Flask<4->mlflow) (3.1.3)\r\n",
      "Requirement already satisfied: itsdangerous>=2.2 in ./venv/lib/python3.12/site-packages (from Flask<4->mlflow) (2.2.0)\r\n",
      "Requirement already satisfied: blinker>=1.9 in ./venv/lib/python3.12/site-packages (from Flask<4->mlflow) (1.9.0)\r\n",
      "Requirement already satisfied: gitdb<5,>=4.0.1 in ./venv/lib/python3.12/site-packages (from GitPython>=3.1.29->dagshub) (4.0.12)\r\n",
      "Requirement already satisfied: graphql-core<3.3,>=3.1 in ./venv/lib/python3.12/site-packages (from graphene<4->mlflow) (3.2.4)\r\n",
      "Requirement already satisfied: graphql-relay<3.3,>=3.1 in ./venv/lib/python3.12/site-packages (from graphene<4->mlflow) (3.2.0)\r\n",
      "Requirement already satisfied: anyio in ./venv/lib/python3.12/site-packages (from httpx>=0.23.0->dagshub) (4.9.0)\r\n",
      "Requirement already satisfied: certifi in ./venv/lib/python3.12/site-packages (from httpx>=0.23.0->dagshub) (2025.1.31)\r\n",
      "Requirement already satisfied: httpcore==1.* in ./venv/lib/python3.12/site-packages (from httpx>=0.23.0->dagshub) (1.0.7)\r\n",
      "Requirement already satisfied: idna in ./venv/lib/python3.12/site-packages (from httpx>=0.23.0->dagshub) (3.10)\r\n",
      "Requirement already satisfied: h11<0.15,>=0.13 in ./venv/lib/python3.12/site-packages (from httpcore==1.*->httpx>=0.23.0->dagshub) (0.14.0)\r\n",
      "Requirement already satisfied: MarkupSafe>=2.0 in ./venv/lib/python3.12/site-packages (from Jinja2<4,>=2.11->mlflow) (3.0.2)\r\n",
      "Requirement already satisfied: six>=1.5 in ./venv/lib/python3.12/site-packages (from python-dateutil->dagshub) (1.17.0)\r\n",
      "Requirement already satisfied: markdown-it-py>=2.2.0 in ./venv/lib/python3.12/site-packages (from rich>=13.1.0->dagshub) (3.0.0)\r\n",
      "Requirement already satisfied: pygments<3.0.0,>=2.13.0 in ./venv/lib/python3.12/site-packages (from rich>=13.1.0->dagshub) (2.19.1)\r\n",
      "Requirement already satisfied: botocore<1.38.0,>=1.37.27 in ./venv/lib/python3.12/site-packages (from boto3->dagshub) (1.37.27)\r\n",
      "Requirement already satisfied: jmespath<2.0.0,>=0.7.1 in ./venv/lib/python3.12/site-packages (from boto3->dagshub) (1.0.1)\r\n",
      "Requirement already satisfied: s3transfer<0.12.0,>=0.11.0 in ./venv/lib/python3.12/site-packages (from boto3->dagshub) (0.11.4)\r\n",
      "Requirement already satisfied: marshmallow<4.0.0,>=3.18.0 in ./venv/lib/python3.12/site-packages (from dataclasses-json->dagshub) (3.26.1)\r\n",
      "Requirement already satisfied: typing-inspect<1,>=0.4.0 in ./venv/lib/python3.12/site-packages (from dataclasses-json->dagshub) (0.9.0)\r\n",
      "Requirement already satisfied: yarl<2.0,>=1.6 in ./venv/lib/python3.12/site-packages (from gql[requests]->dagshub) (1.18.3)\r\n",
      "Requirement already satisfied: backoff<3.0,>=1.11.1 in ./venv/lib/python3.12/site-packages (from gql[requests]->dagshub) (2.2.1)\r\n",
      "Requirement already satisfied: requests-toolbelt<2,>=1.0.0 in ./venv/lib/python3.12/site-packages (from gql[requests]->dagshub) (1.0.0)\r\n",
      "Requirement already satisfied: sniffio>=1.1 in ./venv/lib/python3.12/site-packages (from anyio->httpx>=0.23.0->dagshub) (1.3.1)\r\n",
      "Requirement already satisfied: google-auth~=2.0 in ./venv/lib/python3.12/site-packages (from databricks-sdk<1,>=0.20.0->mlflow-skinny==2.21.3->mlflow) (2.38.0)\r\n",
      "Requirement already satisfied: starlette<0.47.0,>=0.40.0 in ./venv/lib/python3.12/site-packages (from fastapi<1->mlflow-skinny==2.21.3->mlflow) (0.46.1)\r\n",
      "Requirement already satisfied: smmap<6,>=3.0.1 in ./venv/lib/python3.12/site-packages (from gitdb<5,>=4.0.1->GitPython>=3.1.29->dagshub) (5.0.2)\r\n",
      "Requirement already satisfied: zipp>=3.20 in ./venv/lib/python3.12/site-packages (from importlib_metadata!=4.7.0,<9,>=3.7.0->mlflow-skinny==2.21.3->mlflow) (3.21.0)\r\n",
      "Requirement already satisfied: mdurl~=0.1 in ./venv/lib/python3.12/site-packages (from markdown-it-py>=2.2.0->rich>=13.1.0->dagshub) (0.1.2)\r\n",
      "Requirement already satisfied: deprecated>=1.2.6 in ./venv/lib/python3.12/site-packages (from opentelemetry-api<3,>=1.9.0->mlflow-skinny==2.21.3->mlflow) (1.2.18)\r\n",
      "Requirement already satisfied: opentelemetry-semantic-conventions==0.52b1 in ./venv/lib/python3.12/site-packages (from opentelemetry-sdk<3,>=1.9.0->mlflow-skinny==2.21.3->mlflow) (0.52b1)\r\n",
      "Requirement already satisfied: annotated-types>=0.6.0 in ./venv/lib/python3.12/site-packages (from pydantic<3,>=1.10.8->mlflow-skinny==2.21.3->mlflow) (0.7.0)\r\n",
      "Requirement already satisfied: pydantic-core==2.33.1 in ./venv/lib/python3.12/site-packages (from pydantic<3,>=1.10.8->mlflow-skinny==2.21.3->mlflow) (2.33.1)\r\n",
      "Requirement already satisfied: typing-inspection>=0.4.0 in ./venv/lib/python3.12/site-packages (from pydantic<3,>=1.10.8->mlflow-skinny==2.21.3->mlflow) (0.4.0)\r\n",
      "Requirement already satisfied: charset-normalizer<4,>=2 in ./venv/lib/python3.12/site-packages (from requests<3,>=2.17.3->mlflow-skinny==2.21.3->mlflow) (3.4.1)\r\n",
      "Requirement already satisfied: mypy-extensions>=0.3.0 in ./venv/lib/python3.12/site-packages (from typing-inspect<1,>=0.4.0->dataclasses-json->dagshub) (1.0.0)\r\n",
      "Requirement already satisfied: multidict>=4.0 in ./venv/lib/python3.12/site-packages (from yarl<2.0,>=1.6->gql[requests]->dagshub) (6.3.2)\r\n",
      "Requirement already satisfied: propcache>=0.2.0 in ./venv/lib/python3.12/site-packages (from yarl<2.0,>=1.6->gql[requests]->dagshub) (0.3.1)\r\n",
      "Requirement already satisfied: wrapt<2,>=1.10 in ./venv/lib/python3.12/site-packages (from deprecated>=1.2.6->opentelemetry-api<3,>=1.9.0->mlflow-skinny==2.21.3->mlflow) (1.17.2)\r\n",
      "Requirement already satisfied: pyasn1-modules>=0.2.1 in ./venv/lib/python3.12/site-packages (from google-auth~=2.0->databricks-sdk<1,>=0.20.0->mlflow-skinny==2.21.3->mlflow) (0.4.2)\r\n",
      "Requirement already satisfied: rsa<5,>=3.1.4 in ./venv/lib/python3.12/site-packages (from google-auth~=2.0->databricks-sdk<1,>=0.20.0->mlflow-skinny==2.21.3->mlflow) (4.9)\r\n",
      "Requirement already satisfied: pyasn1<0.7.0,>=0.6.1 in ./venv/lib/python3.12/site-packages (from pyasn1-modules>=0.2.1->google-auth~=2.0->databricks-sdk<1,>=0.20.0->mlflow-skinny==2.21.3->mlflow) (0.6.1)\r\n"
     ]
    }
   ],
   "execution_count": 32
  },
  {
   "cell_type": "code",
   "source": "import dagshub\ndagshub.init(repo_owner='nmach22', repo_name='house-prices-ml', mlflow=True)",
   "metadata": {
    "trusted": true,
    "execution": {
     "iopub.status.busy": "2025-04-04T14:04:43.176067Z",
     "iopub.execute_input": "2025-04-04T14:04:43.176514Z",
     "iopub.status.idle": "2025-04-04T14:04:50.342122Z",
     "shell.execute_reply.started": "2025-04-04T14:04:43.176473Z",
     "shell.execute_reply": "2025-04-04T14:04:50.340558Z"
    },
    "ExecuteTime": {
     "end_time": "2025-04-09T17:11:25.454337Z",
     "start_time": "2025-04-09T17:11:23.094704Z"
    }
   },
   "outputs": [
    {
     "data": {
      "text/plain": [
       "Accessing as nmach22\n"
      ],
      "text/html": [
       "<pre style=\"white-space:pre;overflow-x:auto;line-height:normal;font-family:Menlo,'DejaVu Sans Mono',consolas,'Courier New',monospace\">Accessing as nmach22\n",
       "</pre>\n"
      ]
     },
     "metadata": {},
     "output_type": "display_data"
    },
    {
     "data": {
      "text/plain": [
       "Initialized MLflow to track repo \u001B[32m\"nmach22/house-prices-ml\"\u001B[0m\n"
      ],
      "text/html": [
       "<pre style=\"white-space:pre;overflow-x:auto;line-height:normal;font-family:Menlo,'DejaVu Sans Mono',consolas,'Courier New',monospace\">Initialized MLflow to track repo <span style=\"color: #008000; text-decoration-color: #008000\">\"nmach22/house-prices-ml\"</span>\n",
       "</pre>\n"
      ]
     },
     "metadata": {},
     "output_type": "display_data"
    },
    {
     "data": {
      "text/plain": [
       "Repository nmach22/house-prices-ml initialized!\n"
      ],
      "text/html": [
       "<pre style=\"white-space:pre;overflow-x:auto;line-height:normal;font-family:Menlo,'DejaVu Sans Mono',consolas,'Courier New',monospace\">Repository nmach22/house-prices-ml initialized!\n",
       "</pre>\n"
      ]
     },
     "metadata": {},
     "output_type": "display_data"
    }
   ],
   "execution_count": 3
  },
  {
   "metadata": {
    "ExecuteTime": {
     "end_time": "2025-04-09T17:11:16.720093Z",
     "start_time": "2025-04-09T17:11:16.717307Z"
    }
   },
   "cell_type": "code",
   "source": "data_path =  './data/house-prices-advanced-regression-techniques'",
   "outputs": [],
   "execution_count": 2
  },
  {
   "cell_type": "code",
   "source": [
    "# This Python 3 environment comes with many helpful analytics libraries installed\n",
    "# It is defined by the kaggle/python Docker image: https://github.com/kaggle/docker-python\n",
    "# For example, here's several helpful packages to load\n",
    "\n",
    "import numpy as np # linear algebra\n",
    "import pandas as pd # data processing, CSV file I/O (e.g. pd.read_csv)\n",
    "\n",
    "# Input data files are available in the read-only \"../input/\" directory\n",
    "# For example, running this (by clicking run or pressing Shift+Enter) will list all files under the input directory\n",
    "\n",
    "import os\n",
    "for dirname, _, filenames in os.walk(data_path):\n",
    "    for filename in filenames:\n",
    "        print(os.path.join(dirname, filename))\n",
    "\n",
    "# You can write up to 20GB to the current directory (/kaggle/working/) that gets preserved as output when you create a version using \"Save & Run All\" \n",
    "# You can also write temporary files to /kaggle/temp/, but they won't be saved outside of the current session"
   ],
   "metadata": {
    "_uuid": "8f2839f25d086af736a60e9eeb907d3b93b6e0e5",
    "_cell_guid": "b1076dfc-b9ad-4769-8c92-a6c4dae69d19",
    "trusted": true,
    "execution": {
     "iopub.status.busy": "2025-04-04T14:04:50.345149Z",
     "iopub.execute_input": "2025-04-04T14:04:50.345778Z",
     "iopub.status.idle": "2025-04-04T14:04:50.806564Z",
     "shell.execute_reply.started": "2025-04-04T14:04:50.345740Z",
     "shell.execute_reply": "2025-04-04T14:04:50.805367Z"
    },
    "ExecuteTime": {
     "end_time": "2025-04-09T17:11:29.820607Z",
     "start_time": "2025-04-09T17:11:29.815093Z"
    }
   },
   "outputs": [
    {
     "name": "stdout",
     "output_type": "stream",
     "text": [
      "./data/house-prices-advanced-regression-techniques/test.csv\n",
      "./data/house-prices-advanced-regression-techniques/data_description.txt\n",
      "./data/house-prices-advanced-regression-techniques/train.csv\n",
      "./data/house-prices-advanced-regression-techniques/sample_submission.csv\n"
     ]
    }
   ],
   "execution_count": 4
  },
  {
   "cell_type": "code",
   "source": [
    "df = pd.read_csv(os.path.join(data_path, 'train.csv'))\n",
    "df.shape"
   ],
   "metadata": {
    "trusted": true,
    "execution": {
     "iopub.status.busy": "2025-04-04T14:04:50.815730Z",
     "iopub.execute_input": "2025-04-04T14:04:50.816146Z",
     "iopub.status.idle": "2025-04-04T14:04:50.882078Z",
     "shell.execute_reply.started": "2025-04-04T14:04:50.816105Z",
     "shell.execute_reply": "2025-04-04T14:04:50.880717Z"
    },
    "ExecuteTime": {
     "end_time": "2025-04-09T17:11:32.914667Z",
     "start_time": "2025-04-09T17:11:32.885834Z"
    }
   },
   "outputs": [
    {
     "data": {
      "text/plain": [
       "(1460, 81)"
      ]
     },
     "execution_count": 5,
     "metadata": {},
     "output_type": "execute_result"
    }
   ],
   "execution_count": 5
  },
  {
   "cell_type": "code",
   "source": [
    "test_df = pd.read_csv(os.path.join(data_path, 'test.csv'))\n",
    "test_df.shape"
   ],
   "metadata": {
    "trusted": true,
    "execution": {
     "iopub.status.busy": "2025-04-04T14:04:50.883339Z",
     "iopub.execute_input": "2025-04-04T14:04:50.883754Z",
     "iopub.status.idle": "2025-04-04T14:04:50.918159Z",
     "shell.execute_reply.started": "2025-04-04T14:04:50.883714Z",
     "shell.execute_reply": "2025-04-04T14:04:50.917286Z"
    },
    "ExecuteTime": {
     "end_time": "2025-04-09T17:11:34.915669Z",
     "start_time": "2025-04-09T17:11:34.902067Z"
    }
   },
   "outputs": [
    {
     "data": {
      "text/plain": [
       "(1459, 80)"
      ]
     },
     "execution_count": 6,
     "metadata": {},
     "output_type": "execute_result"
    }
   ],
   "execution_count": 6
  },
  {
   "cell_type": "code",
   "source": [
    "from sklearn.model_selection import train_test_split\n",
    "\n",
    "X = df.drop(columns=['SalePrice'])\n",
    "y = df['SalePrice']\n",
    "\n",
    "random_seed = 40\n",
    "\n",
    "X_train, X_test, y_train, y_test = train_test_split(X, y, test_size=0.2, random_state=random_seed)"
   ],
   "metadata": {
    "trusted": true,
    "execution": {
     "iopub.status.busy": "2025-04-04T16:20:12.856592Z",
     "iopub.execute_input": "2025-04-04T16:20:12.857060Z",
     "iopub.status.idle": "2025-04-04T16:20:12.869835Z",
     "shell.execute_reply.started": "2025-04-04T16:20:12.857021Z",
     "shell.execute_reply": "2025-04-04T16:20:12.868617Z"
    },
    "ExecuteTime": {
     "end_time": "2025-04-09T18:17:02.559499Z",
     "start_time": "2025-04-09T18:17:02.545225Z"
    }
   },
   "outputs": [],
   "execution_count": 133
  },
  {
   "cell_type": "code",
   "source": "X_train.shape, X_test.shape, y_train.shape, y_test.shape",
   "metadata": {
    "trusted": true,
    "execution": {
     "iopub.status.busy": "2025-04-04T16:20:13.689298Z",
     "iopub.execute_input": "2025-04-04T16:20:13.689627Z",
     "iopub.status.idle": "2025-04-04T16:20:13.697421Z",
     "shell.execute_reply.started": "2025-04-04T16:20:13.689600Z",
     "shell.execute_reply": "2025-04-04T16:20:13.696035Z"
    },
    "ExecuteTime": {
     "end_time": "2025-04-09T18:17:02.940581Z",
     "start_time": "2025-04-09T18:17:02.938173Z"
    }
   },
   "outputs": [
    {
     "data": {
      "text/plain": [
       "((1168, 80), (292, 80), (1168,), (292,))"
      ]
     },
     "execution_count": 134,
     "metadata": {},
     "output_type": "execute_result"
    }
   ],
   "execution_count": 134
  },
  {
   "cell_type": "code",
   "source": "# print column which contains nans:\ncolumns_with_nulls = {}\nfor column_name, count in X_train.isna().sum(axis=0).items():\n    if count > 0:\n        print(f'{column_name}: {count} - {X_train[column_name].dtype}')\n        columns_with_nulls[column_name] = count",
   "metadata": {
    "trusted": true,
    "execution": {
     "iopub.status.busy": "2025-04-04T16:20:18.505685Z",
     "iopub.execute_input": "2025-04-04T16:20:18.506052Z",
     "iopub.status.idle": "2025-04-04T16:20:18.520338Z",
     "shell.execute_reply.started": "2025-04-04T16:20:18.506025Z",
     "shell.execute_reply": "2025-04-04T16:20:18.518497Z"
    },
    "ExecuteTime": {
     "end_time": "2025-04-09T18:17:03.140213Z",
     "start_time": "2025-04-09T18:17:03.134555Z"
    }
   },
   "outputs": [
    {
     "name": "stdout",
     "output_type": "stream",
     "text": [
      "LotFrontage: 212 - float64\n",
      "Alley: 1104 - object\n",
      "MasVnrType: 699 - object\n",
      "MasVnrArea: 7 - float64\n",
      "BsmtQual: 33 - object\n",
      "BsmtCond: 33 - object\n",
      "BsmtExposure: 34 - object\n",
      "BsmtFinType1: 33 - object\n",
      "BsmtFinType2: 34 - object\n",
      "Electrical: 1 - object\n",
      "FireplaceQu: 540 - object\n",
      "GarageType: 67 - object\n",
      "GarageYrBlt: 67 - float64\n",
      "GarageFinish: 67 - object\n",
      "GarageQual: 67 - object\n",
      "GarageCond: 67 - object\n",
      "PoolQC: 1162 - object\n",
      "Fence: 937 - object\n",
      "MiscFeature: 1123 - object\n"
     ]
    }
   ],
   "execution_count": 135
  },
  {
   "metadata": {
    "ExecuteTime": {
     "end_time": "2025-04-09T18:17:03.324477Z",
     "start_time": "2025-04-09T18:17:03.321864Z"
    }
   },
   "cell_type": "code",
   "source": "len(columns_with_nulls)",
   "outputs": [
    {
     "data": {
      "text/plain": [
       "19"
      ]
     },
     "execution_count": 136,
     "metadata": {},
     "output_type": "execute_result"
    }
   ],
   "execution_count": 136
  },
  {
   "cell_type": "code",
   "source": "cat_cols = [col for col in X_train.columns if X_train[col].dtype == 'object']\nnum_cols = [col for col in X_train.columns if X_train[col].dtype != 'object']",
   "metadata": {
    "trusted": true,
    "execution": {
     "iopub.status.busy": "2025-04-04T16:20:19.128923Z",
     "iopub.execute_input": "2025-04-04T16:20:19.129303Z",
     "iopub.status.idle": "2025-04-04T16:20:19.137639Z",
     "shell.execute_reply.started": "2025-04-04T16:20:19.129260Z",
     "shell.execute_reply": "2025-04-04T16:20:19.135834Z"
    },
    "ExecuteTime": {
     "end_time": "2025-04-09T18:17:03.511484Z",
     "start_time": "2025-04-09T18:17:03.508549Z"
    }
   },
   "outputs": [],
   "execution_count": 137
  },
  {
   "metadata": {
    "ExecuteTime": {
     "end_time": "2025-04-09T21:40:05.638769Z",
     "start_time": "2025-04-09T21:40:05.629585Z"
    }
   },
   "cell_type": "code",
   "source": "num_cols",
   "outputs": [
    {
     "data": {
      "text/plain": [
       "['Id',\n",
       " 'MSSubClass',\n",
       " 'LotFrontage',\n",
       " 'LotArea',\n",
       " 'OverallQual',\n",
       " 'OverallCond',\n",
       " 'YearBuilt',\n",
       " 'YearRemodAdd',\n",
       " 'MasVnrArea',\n",
       " 'BsmtFinSF1',\n",
       " 'BsmtFinSF2',\n",
       " 'BsmtUnfSF',\n",
       " 'TotalBsmtSF',\n",
       " '1stFlrSF',\n",
       " '2ndFlrSF',\n",
       " 'LowQualFinSF',\n",
       " 'GrLivArea',\n",
       " 'BsmtFullBath',\n",
       " 'BsmtHalfBath',\n",
       " 'FullBath',\n",
       " 'HalfBath',\n",
       " 'BedroomAbvGr',\n",
       " 'KitchenAbvGr',\n",
       " 'TotRmsAbvGrd',\n",
       " 'Fireplaces',\n",
       " 'GarageYrBlt',\n",
       " 'GarageCars',\n",
       " 'GarageArea',\n",
       " 'WoodDeckSF',\n",
       " 'OpenPorchSF',\n",
       " 'EnclosedPorch',\n",
       " '3SsnPorch',\n",
       " 'ScreenPorch',\n",
       " 'PoolArea',\n",
       " 'MiscVal',\n",
       " 'MoSold',\n",
       " 'YrSold']"
      ]
     },
     "execution_count": 229,
     "metadata": {},
     "output_type": "execute_result"
    }
   ],
   "execution_count": 229
  },
  {
   "metadata": {
    "ExecuteTime": {
     "end_time": "2025-04-09T21:42:41.183611Z",
     "start_time": "2025-04-09T21:42:41.158032Z"
    }
   },
   "cell_type": "code",
   "source": "X_train['MSSubClass'].unique()",
   "outputs": [
    {
     "data": {
      "text/plain": [
       "array([ 20,  50,  60,  80,  90,  45,  70, 190, 120,  75, 160,  30,  85,\n",
       "       180,  40])"
      ]
     },
     "execution_count": 232,
     "metadata": {},
     "output_type": "execute_result"
    }
   ],
   "execution_count": 232
  },
  {
   "cell_type": "code",
   "source": [
    "columns_to_remove = ['Id']\n",
    "# columns_to_remove += [col for col, count in columns_with_nulls.items() if count > 500]"
   ],
   "metadata": {
    "trusted": true,
    "execution": {
     "iopub.status.busy": "2025-04-04T16:20:22.603531Z",
     "iopub.execute_input": "2025-04-04T16:20:22.603889Z",
     "iopub.status.idle": "2025-04-04T16:20:22.608610Z",
     "shell.execute_reply.started": "2025-04-04T16:20:22.603860Z",
     "shell.execute_reply": "2025-04-04T16:20:22.607450Z"
    },
    "ExecuteTime": {
     "end_time": "2025-04-09T18:17:03.909917Z",
     "start_time": "2025-04-09T18:17:03.908053Z"
    }
   },
   "outputs": [],
   "execution_count": 139
  },
  {
   "metadata": {
    "ExecuteTime": {
     "end_time": "2025-04-09T18:17:04.148472Z",
     "start_time": "2025-04-09T18:17:04.144184Z"
    }
   },
   "cell_type": "code",
   "source": [
    "columns_to_change_nans = ['Alley', 'MasVnrType', 'BsmtQual', 'BsmtCond', 'BsmtExposure', 'BsmtFinType1', 'BsmtFinType2', 'FireplaceQu', 'GarageType', 'GarageFinish', 'Fence']\n",
    "X_train[columns_to_change_nans].dtypes"
   ],
   "outputs": [
    {
     "data": {
      "text/plain": [
       "Alley           object\n",
       "MasVnrType      object\n",
       "BsmtQual        object\n",
       "BsmtCond        object\n",
       "BsmtExposure    object\n",
       "BsmtFinType1    object\n",
       "BsmtFinType2    object\n",
       "FireplaceQu     object\n",
       "GarageType      object\n",
       "GarageFinish    object\n",
       "Fence           object\n",
       "dtype: object"
      ]
     },
     "execution_count": 140,
     "metadata": {},
     "output_type": "execute_result"
    }
   ],
   "execution_count": 140
  },
  {
   "cell_type": "code",
   "source": "columns_to_remove",
   "metadata": {
    "trusted": true,
    "execution": {
     "iopub.status.busy": "2025-04-04T16:20:23.297335Z",
     "iopub.execute_input": "2025-04-04T16:20:23.297711Z",
     "iopub.status.idle": "2025-04-04T16:20:23.303921Z",
     "shell.execute_reply.started": "2025-04-04T16:20:23.297660Z",
     "shell.execute_reply": "2025-04-04T16:20:23.302660Z"
    },
    "ExecuteTime": {
     "end_time": "2025-04-09T18:17:04.347120Z",
     "start_time": "2025-04-09T18:17:04.343765Z"
    }
   },
   "outputs": [
    {
     "data": {
      "text/plain": [
       "['Id']"
      ]
     },
     "execution_count": 141,
     "metadata": {},
     "output_type": "execute_result"
    }
   ],
   "execution_count": 141
  },
  {
   "cell_type": "code",
   "source": [
    "one_hot_columns = list(X_train[cat_cols].nunique().index)\n",
    "len(one_hot_columns)"
   ],
   "metadata": {
    "trusted": true,
    "execution": {
     "iopub.status.busy": "2025-04-04T16:20:38.376620Z",
     "iopub.execute_input": "2025-04-04T16:20:38.377025Z",
     "iopub.status.idle": "2025-04-04T16:20:38.393405Z",
     "shell.execute_reply.started": "2025-04-04T16:20:38.376994Z",
     "shell.execute_reply": "2025-04-04T16:20:38.392179Z"
    },
    "ExecuteTime": {
     "end_time": "2025-04-09T18:17:04.590609Z",
     "start_time": "2025-04-09T18:17:04.582184Z"
    }
   },
   "outputs": [
    {
     "data": {
      "text/plain": [
       "43"
      ]
     },
     "execution_count": 142,
     "metadata": {},
     "output_type": "execute_result"
    }
   ],
   "execution_count": 142
  },
  {
   "metadata": {
    "ExecuteTime": {
     "end_time": "2025-04-09T18:17:04.809548Z",
     "start_time": "2025-04-09T18:17:04.803553Z"
    }
   },
   "cell_type": "code",
   "source": "X_train[list(set(one_hot_columns) - set(columns_to_remove) - set(columns_to_change_nans))].isna().sum()",
   "outputs": [
    {
     "data": {
      "text/plain": [
       "CentralAir          0\n",
       "Condition2          0\n",
       "LandContour         0\n",
       "ExterQual           0\n",
       "LotShape            0\n",
       "KitchenQual         0\n",
       "SaleCondition       0\n",
       "RoofMatl            0\n",
       "GarageCond         67\n",
       "Heating             0\n",
       "ExterCond           0\n",
       "MSZoning            0\n",
       "Exterior2nd         0\n",
       "RoofStyle           0\n",
       "Condition1          0\n",
       "Exterior1st         0\n",
       "Electrical          1\n",
       "LotConfig           0\n",
       "BldgType            0\n",
       "HeatingQC           0\n",
       "MiscFeature      1123\n",
       "SaleType            0\n",
       "GarageQual         67\n",
       "PavedDrive          0\n",
       "LandSlope           0\n",
       "HouseStyle          0\n",
       "Street              0\n",
       "Utilities           0\n",
       "Foundation          0\n",
       "Neighborhood        0\n",
       "Functional          0\n",
       "PoolQC           1162\n",
       "dtype: int64"
      ]
     },
     "execution_count": 143,
     "metadata": {},
     "output_type": "execute_result"
    }
   ],
   "execution_count": 143
  },
  {
   "metadata": {
    "ExecuteTime": {
     "end_time": "2025-04-09T18:17:05.389900Z",
     "start_time": "2025-04-09T18:17:05.386548Z"
    }
   },
   "cell_type": "code",
   "source": "len(columns_to_remove)",
   "outputs": [
    {
     "data": {
      "text/plain": [
       "1"
      ]
     },
     "execution_count": 144,
     "metadata": {},
     "output_type": "execute_result"
    }
   ],
   "execution_count": 144
  },
  {
   "metadata": {
    "ExecuteTime": {
     "end_time": "2025-04-09T18:17:06.001652Z",
     "start_time": "2025-04-09T18:17:05.999050Z"
    }
   },
   "cell_type": "code",
   "source": "len(columns_to_change_nans)",
   "outputs": [
    {
     "data": {
      "text/plain": [
       "11"
      ]
     },
     "execution_count": 145,
     "metadata": {},
     "output_type": "execute_result"
    }
   ],
   "execution_count": 145
  },
  {
   "metadata": {
    "ExecuteTime": {
     "end_time": "2025-04-09T18:17:06.691228Z",
     "start_time": "2025-04-09T18:17:06.687964Z"
    }
   },
   "cell_type": "code",
   "source": "len(one_hot_columns)",
   "outputs": [
    {
     "data": {
      "text/plain": [
       "43"
      ]
     },
     "execution_count": 146,
     "metadata": {},
     "output_type": "execute_result"
    }
   ],
   "execution_count": 146
  },
  {
   "metadata": {
    "ExecuteTime": {
     "end_time": "2025-04-09T18:17:07.124905Z",
     "start_time": "2025-04-09T18:17:07.121003Z"
    }
   },
   "cell_type": "code",
   "source": "len(num_cols)",
   "outputs": [
    {
     "data": {
      "text/plain": [
       "37"
      ]
     },
     "execution_count": 147,
     "metadata": {},
     "output_type": "execute_result"
    }
   ],
   "execution_count": 147
  },
  {
   "metadata": {
    "ExecuteTime": {
     "end_time": "2025-04-09T18:17:07.666423Z",
     "start_time": "2025-04-09T18:17:07.662160Z"
    }
   },
   "cell_type": "code",
   "source": "len(one_hot_columns) + len(num_cols)",
   "outputs": [
    {
     "data": {
      "text/plain": [
       "80"
      ]
     },
     "execution_count": 148,
     "metadata": {},
     "output_type": "execute_result"
    }
   ],
   "execution_count": 148
  },
  {
   "cell_type": "markdown",
   "source": "## Preprocess",
   "metadata": {}
  },
  {
   "cell_type": "code",
   "source": [
    "from sklearn.base import BaseEstimator, TransformerMixin\n",
    "from sklearn.preprocessing import OneHotEncoder, MinMaxScaler\n",
    "from sklearn.preprocessing import TargetEncoder\n",
    "\n",
    "\n",
    "class CustomPreprocessor(BaseEstimator, TransformerMixin):\n",
    "    def __init__(self, categorical_columns, unnecessary_columns, columns_to_change,  smooth, change_value='nan'):\n",
    "        self.categorical_columns = categorical_columns\n",
    "        self.unnecessary_columns = unnecessary_columns\n",
    "        self.columns_to_change = columns_to_change\n",
    "        self.smooth = smooth\n",
    "        self.change_value = change_value\n",
    "\n",
    "    def fit(self, X, y):\n",
    "         # one hot encoder\n",
    "        # self.enc = OneHotEncoder(handle_unknown='ignore', sparse_output=False)\n",
    "        self.enc = TargetEncoder(target_type='continuous', smooth=self.smooth)\n",
    "        self.enc.set_output(transform=\"pandas\")\n",
    "         \n",
    "        self.numerical_columns = [col for col in X.columns if X[col].dtype != 'object' and col != 'Id']\n",
    "        self.categorical_columns = list(set(self.categorical_columns) - set(self.unnecessary_columns))\n",
    "\n",
    "        self.enc.fit(X[self.categorical_columns], y)\n",
    "        \n",
    "        return self\n",
    "\n",
    "    def transform(self, X):\n",
    "        # Drop columns unnecessary columns\n",
    "        X_transformed = X.drop(columns = self.unnecessary_columns)\n",
    "        \n",
    "        # Change several categorical column, which has meaningful nan values\n",
    "        X_transformed[self.columns_to_change] = X_transformed[self.columns_to_change].fillna(self.change_value)\n",
    "        \n",
    "        # Change numerical column nan values\n",
    "        X_transformed = X_transformed.fillna(value={col: 0 for col in self.numerical_columns})\n",
    "        \n",
    "        # Change categorical nan values with mode\n",
    "        X_transformed = X_transformed.fillna(value={col: X_transformed[col].mode()[0] for col in self.categorical_columns})\n",
    "        \n",
    "        # make encoder\n",
    "        target_encoded = self.enc.transform(X_transformed[self.categorical_columns])\n",
    "        X_transformed = pd.concat([X_transformed.drop(columns=self.categorical_columns), target_encoded], axis=1)\n",
    "\n",
    "        assert not X_transformed.isna().any().any()\n",
    "            \n",
    "        return X_transformed"
   ],
   "metadata": {
    "trusted": true,
    "execution": {
     "iopub.status.busy": "2025-04-04T16:20:42.063346Z",
     "iopub.execute_input": "2025-04-04T16:20:42.063682Z",
     "iopub.status.idle": "2025-04-04T16:20:42.073065Z",
     "shell.execute_reply.started": "2025-04-04T16:20:42.063655Z",
     "shell.execute_reply": "2025-04-04T16:20:42.071534Z"
    },
    "ExecuteTime": {
     "end_time": "2025-04-09T23:50:24.855476Z",
     "start_time": "2025-04-09T23:50:24.825168Z"
    }
   },
   "outputs": [],
   "execution_count": 503
  },
  {
   "metadata": {
    "ExecuteTime": {
     "end_time": "2025-04-09T23:50:25.911213Z",
     "start_time": "2025-04-09T23:50:25.907930Z"
    }
   },
   "cell_type": "code",
   "source": [
    "from sklearn.metrics import root_mean_squared_error\n",
    "\n",
    "def loss_fn(y_true, y_prediction):\n",
    "    return root_mean_squared_error(np.log(y_true), np.log(y_prediction))\n"
   ],
   "outputs": [],
   "execution_count": 504
  },
  {
   "metadata": {
    "trusted": true,
    "execution": {
     "iopub.status.busy": "2025-04-04T16:20:43.180416Z",
     "iopub.execute_input": "2025-04-04T16:20:43.180798Z",
     "iopub.status.idle": "2025-04-04T16:20:46.738943Z",
     "shell.execute_reply.started": "2025-04-04T16:20:43.180767Z",
     "shell.execute_reply": "2025-04-04T16:20:46.737881Z"
    },
    "ExecuteTime": {
     "end_time": "2025-04-09T23:54:15.719373Z",
     "start_time": "2025-04-09T23:54:15.707363Z"
    }
   },
   "cell_type": "code",
   "source": [
    "from sklearn.feature_selection import RFE\n",
    "from sklearn.pipeline import Pipeline\n",
    "from sklearn.preprocessing import StandardScaler, MinMaxScaler\n",
    "from sklearn.ensemble import RandomForestRegressor\n",
    "from sklearn.linear_model import RANSACRegressor, LinearRegression, Lasso, Ridge\n",
    "from sklearn.model_selection import GridSearchCV, KFold\n",
    "from sklearn.metrics import make_scorer\n",
    "\n",
    "neg_rmse_scorer = make_scorer(loss_fn, greater_is_better=False)\n",
    "\n",
    "# model = RandomForestRegressor(random_state=0)\n",
    "\n",
    "# Model (RANSACRegressor)\n",
    "model = RANSACRegressor(random_state=0)\n",
    "# model = Ridge()\n",
    "scalers = [\n",
    "    StandardScaler(),\n",
    "    None  # Option to use no scaler\n",
    "]\n",
    "\n",
    "kfold = KFold(n_splits=5, shuffle=True, random_state=40)\n",
    "\n",
    "# Feature Selection (RFE)\n",
    "rfe = RFE(estimator=model)\n",
    "\n",
    "param_grid = {\n",
    "    'scaler': scalers,\n",
    "    # 'rfe__n_features_to_select': [30],\n",
    "    # 'rfe__step': [1],\n",
    "    # 'model__alpha': [2, 2.5, 3],\n",
    "    # 'model__min_samples': [0.5, 0.75, 0.9],\n",
    "    # 'model__residual_threshold': [None, 5, 10, 50],\n",
    "    # 'model__max_trials': [100, 200],\n",
    "    # 'preprocess__smooth': ['auto', 1, 2],\n",
    "    # 'model__n_estimators': [100, 150, 200],\n",
    "    # 'model__max_depth': [None, 10, 20],\n",
    "    # 'model__min_samples_split': [2],\n",
    "    'model__min_samples': [0.90],\n",
    "}\n",
    "\n",
    "y_train_scaled = np.log(y_train)\n",
    "\n",
    "pipeline = Pipeline([\n",
    "    ('preprocess', CustomPreprocessor(categorical_columns=one_hot_columns, unnecessary_columns=columns_to_remove, smooth='auto', columns_to_change=columns_to_change_nans)),\n",
    "    ('scaler', StandardScaler()),\n",
    "    # ('rfe', rfe),\n",
    "    ('model', model)\n",
    "])\n"
   ],
   "outputs": [],
   "execution_count": 571
  },
  {
   "metadata": {
    "ExecuteTime": {
     "end_time": "2025-04-09T23:54:16.373855Z",
     "start_time": "2025-04-09T23:54:16.371302Z"
    }
   },
   "cell_type": "code",
   "source": [
    "grid_search = GridSearchCV(\n",
    "    pipeline,\n",
    "    param_grid=param_grid,\n",
    "    cv=kfold,\n",
    "    scoring=neg_rmse_scorer,\n",
    "    verbose=2,\n",
    "    return_train_score=True,\n",
    "    n_jobs=-1,\n",
    ")"
   ],
   "outputs": [],
   "execution_count": 572
  },
  {
   "metadata": {
    "ExecuteTime": {
     "end_time": "2025-04-09T23:54:20.606905Z",
     "start_time": "2025-04-09T23:54:17.225897Z"
    }
   },
   "cell_type": "code",
   "source": [
    "# Fit\n",
    "grid_search.fit(X_train.reset_index(drop=True), y_train_scaled.reset_index(drop=True))"
   ],
   "outputs": [
    {
     "name": "stdout",
     "output_type": "stream",
     "text": [
      "Fitting 5 folds for each of 2 candidates, totalling 10 fits\n"
     ]
    },
    {
     "name": "stderr",
     "output_type": "stream",
     "text": [
      "/Users/nikamatcharadze/Documents/uni/ml/project/house_prices/venv/lib/python3.12/site-packages/sklearn/model_selection/_validation.py:960: UserWarning: Scoring failed. The score on this train-test partition for these parameters will be set to nan. Details: \n",
      "Traceback (most recent call last):\n",
      "  File \"/Users/nikamatcharadze/Documents/uni/ml/project/house_prices/venv/lib/python3.12/site-packages/pandas/core/indexes/range.py\", line 413, in get_loc\n",
      "    return self._range.index(new_key)\n",
      "           ^^^^^^^^^^^^^^^^^^^^^^^^^^\n",
      "ValueError: 0 is not in range\n",
      "\n",
      "The above exception was the direct cause of the following exception:\n",
      "\n",
      "Traceback (most recent call last):\n",
      "  File \"/Users/nikamatcharadze/Documents/uni/ml/project/house_prices/venv/lib/python3.12/site-packages/sklearn/model_selection/_validation.py\", line 949, in _score\n",
      "    scores = scorer(estimator, X_test, y_test, **score_params)\n",
      "             ^^^^^^^^^^^^^^^^^^^^^^^^^^^^^^^^^^^^^^^^^^^^^^^^^\n",
      "  File \"/Users/nikamatcharadze/Documents/uni/ml/project/house_prices/venv/lib/python3.12/site-packages/sklearn/metrics/_scorer.py\", line 288, in __call__\n",
      "    return self._score(partial(_cached_call, None), estimator, X, y_true, **_kwargs)\n",
      "           ^^^^^^^^^^^^^^^^^^^^^^^^^^^^^^^^^^^^^^^^^^^^^^^^^^^^^^^^^^^^^^^^^^^^^^^^^\n",
      "  File \"/Users/nikamatcharadze/Documents/uni/ml/project/house_prices/venv/lib/python3.12/site-packages/sklearn/metrics/_scorer.py\", line 380, in _score\n",
      "    y_pred = method_caller(\n",
      "             ^^^^^^^^^^^^^^\n",
      "  File \"/Users/nikamatcharadze/Documents/uni/ml/project/house_prices/venv/lib/python3.12/site-packages/sklearn/metrics/_scorer.py\", line 90, in _cached_call\n",
      "    result, _ = _get_response_values(\n",
      "                ^^^^^^^^^^^^^^^^^^^^^\n",
      "  File \"/Users/nikamatcharadze/Documents/uni/ml/project/house_prices/venv/lib/python3.12/site-packages/sklearn/utils/_response.py\", line 242, in _get_response_values\n",
      "    y_pred, pos_label = prediction_method(X), None\n",
      "                        ^^^^^^^^^^^^^^^^^^^^\n",
      "  File \"/Users/nikamatcharadze/Documents/uni/ml/project/house_prices/venv/lib/python3.12/site-packages/sklearn/pipeline.py\", line 787, in predict\n",
      "    Xt = transform.transform(Xt)\n",
      "         ^^^^^^^^^^^^^^^^^^^^^^^\n",
      "  File \"/Users/nikamatcharadze/Documents/uni/ml/project/house_prices/venv/lib/python3.12/site-packages/sklearn/utils/_set_output.py\", line 319, in wrapped\n",
      "    data_to_wrap = f(self, X, *args, **kwargs)\n",
      "                   ^^^^^^^^^^^^^^^^^^^^^^^^^^^\n",
      "  File \"/var/folders/0j/h72dfd2d2q98bcwj6vn2qb_c0000gn/T/ipykernel_32796/2645286199.py\", line 38, in transform\n",
      "  File \"/Users/nikamatcharadze/Documents/uni/ml/project/house_prices/venv/lib/python3.12/site-packages/pandas/core/series.py\", line 1121, in __getitem__\n",
      "    return self._get_value(key)\n",
      "           ^^^^^^^^^^^^^^^^^^^^\n",
      "  File \"/Users/nikamatcharadze/Documents/uni/ml/project/house_prices/venv/lib/python3.12/site-packages/pandas/core/series.py\", line 1237, in _get_value\n",
      "    loc = self.index.get_loc(label)\n",
      "          ^^^^^^^^^^^^^^^^^^^^^^^^^\n",
      "  File \"/Users/nikamatcharadze/Documents/uni/ml/project/house_prices/venv/lib/python3.12/site-packages/pandas/core/indexes/range.py\", line 415, in get_loc\n",
      "    raise KeyError(key) from err\n",
      "KeyError: 0\n",
      "\n",
      "  warnings.warn(\n",
      "/Users/nikamatcharadze/Documents/uni/ml/project/house_prices/venv/lib/python3.12/site-packages/sklearn/model_selection/_validation.py:960: UserWarning: Scoring failed. The score on this train-test partition for these parameters will be set to nan. Details: \n",
      "Traceback (most recent call last):\n",
      "  File \"/Users/nikamatcharadze/Documents/uni/ml/project/house_prices/venv/lib/python3.12/site-packages/pandas/core/indexes/range.py\", line 413, in get_loc\n",
      "    return self._range.index(new_key)\n",
      "           ^^^^^^^^^^^^^^^^^^^^^^^^^^\n",
      "ValueError: 0 is not in range\n",
      "\n",
      "The above exception was the direct cause of the following exception:\n",
      "\n",
      "Traceback (most recent call last):\n",
      "  File \"/Users/nikamatcharadze/Documents/uni/ml/project/house_prices/venv/lib/python3.12/site-packages/sklearn/model_selection/_validation.py\", line 949, in _score\n",
      "    scores = scorer(estimator, X_test, y_test, **score_params)\n",
      "             ^^^^^^^^^^^^^^^^^^^^^^^^^^^^^^^^^^^^^^^^^^^^^^^^^\n",
      "  File \"/Users/nikamatcharadze/Documents/uni/ml/project/house_prices/venv/lib/python3.12/site-packages/sklearn/metrics/_scorer.py\", line 288, in __call__\n",
      "    return self._score(partial(_cached_call, None), estimator, X, y_true, **_kwargs)\n",
      "           ^^^^^^^^^^^^^^^^^^^^^^^^^^^^^^^^^^^^^^^^^^^^^^^^^^^^^^^^^^^^^^^^^^^^^^^^^\n",
      "  File \"/Users/nikamatcharadze/Documents/uni/ml/project/house_prices/venv/lib/python3.12/site-packages/sklearn/metrics/_scorer.py\", line 380, in _score\n",
      "    y_pred = method_caller(\n",
      "             ^^^^^^^^^^^^^^\n",
      "  File \"/Users/nikamatcharadze/Documents/uni/ml/project/house_prices/venv/lib/python3.12/site-packages/sklearn/metrics/_scorer.py\", line 90, in _cached_call\n",
      "    result, _ = _get_response_values(\n",
      "                ^^^^^^^^^^^^^^^^^^^^^\n",
      "  File \"/Users/nikamatcharadze/Documents/uni/ml/project/house_prices/venv/lib/python3.12/site-packages/sklearn/utils/_response.py\", line 242, in _get_response_values\n",
      "    y_pred, pos_label = prediction_method(X), None\n",
      "                        ^^^^^^^^^^^^^^^^^^^^\n",
      "  File \"/Users/nikamatcharadze/Documents/uni/ml/project/house_prices/venv/lib/python3.12/site-packages/sklearn/pipeline.py\", line 787, in predict\n",
      "    Xt = transform.transform(Xt)\n",
      "         ^^^^^^^^^^^^^^^^^^^^^^^\n",
      "  File \"/Users/nikamatcharadze/Documents/uni/ml/project/house_prices/venv/lib/python3.12/site-packages/sklearn/utils/_set_output.py\", line 319, in wrapped\n",
      "    data_to_wrap = f(self, X, *args, **kwargs)\n",
      "                   ^^^^^^^^^^^^^^^^^^^^^^^^^^^\n",
      "  File \"/var/folders/0j/h72dfd2d2q98bcwj6vn2qb_c0000gn/T/ipykernel_32796/2645286199.py\", line 38, in transform\n",
      "  File \"/Users/nikamatcharadze/Documents/uni/ml/project/house_prices/venv/lib/python3.12/site-packages/pandas/core/series.py\", line 1121, in __getitem__\n",
      "    return self._get_value(key)\n",
      "           ^^^^^^^^^^^^^^^^^^^^\n",
      "  File \"/Users/nikamatcharadze/Documents/uni/ml/project/house_prices/venv/lib/python3.12/site-packages/pandas/core/series.py\", line 1237, in _get_value\n",
      "    loc = self.index.get_loc(label)\n",
      "          ^^^^^^^^^^^^^^^^^^^^^^^^^\n",
      "  File \"/Users/nikamatcharadze/Documents/uni/ml/project/house_prices/venv/lib/python3.12/site-packages/pandas/core/indexes/range.py\", line 415, in get_loc\n",
      "    raise KeyError(key) from err\n",
      "KeyError: 0\n",
      "\n",
      "  warnings.warn(\n",
      "/Users/nikamatcharadze/Documents/uni/ml/project/house_prices/venv/lib/python3.12/site-packages/sklearn/model_selection/_validation.py:960: UserWarning: Scoring failed. The score on this train-test partition for these parameters will be set to nan. Details: \n",
      "Traceback (most recent call last):\n",
      "  File \"/Users/nikamatcharadze/Documents/uni/ml/project/house_prices/venv/lib/python3.12/site-packages/pandas/core/indexes/range.py\", line 413, in get_loc\n",
      "    return self._range.index(new_key)\n",
      "           ^^^^^^^^^^^^^^^^^^^^^^^^^^\n",
      "ValueError: 0 is not in range\n",
      "\n",
      "The above exception was the direct cause of the following exception:\n",
      "\n",
      "Traceback (most recent call last):\n",
      "  File \"/Users/nikamatcharadze/Documents/uni/ml/project/house_prices/venv/lib/python3.12/site-packages/sklearn/model_selection/_validation.py\", line 949, in _score\n",
      "    scores = scorer(estimator, X_test, y_test, **score_params)\n",
      "             ^^^^^^^^^^^^^^^^^^^^^^^^^^^^^^^^^^^^^^^^^^^^^^^^^\n",
      "  File \"/Users/nikamatcharadze/Documents/uni/ml/project/house_prices/venv/lib/python3.12/site-packages/sklearn/metrics/_scorer.py\", line 288, in __call__\n",
      "    return self._score(partial(_cached_call, None), estimator, X, y_true, **_kwargs)\n",
      "           ^^^^^^^^^^^^^^^^^^^^^^^^^^^^^^^^^^^^^^^^^^^^^^^^^^^^^^^^^^^^^^^^^^^^^^^^^\n",
      "  File \"/Users/nikamatcharadze/Documents/uni/ml/project/house_prices/venv/lib/python3.12/site-packages/sklearn/metrics/_scorer.py\", line 380, in _score\n",
      "    y_pred = method_caller(\n",
      "             ^^^^^^^^^^^^^^\n",
      "  File \"/Users/nikamatcharadze/Documents/uni/ml/project/house_prices/venv/lib/python3.12/site-packages/sklearn/metrics/_scorer.py\", line 90, in _cached_call\n",
      "    result, _ = _get_response_values(\n",
      "                ^^^^^^^^^^^^^^^^^^^^^\n",
      "  File \"/Users/nikamatcharadze/Documents/uni/ml/project/house_prices/venv/lib/python3.12/site-packages/sklearn/utils/_response.py\", line 242, in _get_response_values\n",
      "    y_pred, pos_label = prediction_method(X), None\n",
      "                        ^^^^^^^^^^^^^^^^^^^^\n",
      "  File \"/Users/nikamatcharadze/Documents/uni/ml/project/house_prices/venv/lib/python3.12/site-packages/sklearn/pipeline.py\", line 787, in predict\n",
      "    Xt = transform.transform(Xt)\n",
      "         ^^^^^^^^^^^^^^^^^^^^^^^\n",
      "  File \"/Users/nikamatcharadze/Documents/uni/ml/project/house_prices/venv/lib/python3.12/site-packages/sklearn/utils/_set_output.py\", line 319, in wrapped\n",
      "    data_to_wrap = f(self, X, *args, **kwargs)\n",
      "                   ^^^^^^^^^^^^^^^^^^^^^^^^^^^\n",
      "  File \"/var/folders/0j/h72dfd2d2q98bcwj6vn2qb_c0000gn/T/ipykernel_32796/2645286199.py\", line 38, in transform\n",
      "  File \"/Users/nikamatcharadze/Documents/uni/ml/project/house_prices/venv/lib/python3.12/site-packages/pandas/core/series.py\", line 1121, in __getitem__\n",
      "    return self._get_value(key)\n",
      "           ^^^^^^^^^^^^^^^^^^^^\n",
      "  File \"/Users/nikamatcharadze/Documents/uni/ml/project/house_prices/venv/lib/python3.12/site-packages/pandas/core/series.py\", line 1237, in _get_value\n",
      "    loc = self.index.get_loc(label)\n",
      "          ^^^^^^^^^^^^^^^^^^^^^^^^^\n",
      "  File \"/Users/nikamatcharadze/Documents/uni/ml/project/house_prices/venv/lib/python3.12/site-packages/pandas/core/indexes/range.py\", line 415, in get_loc\n",
      "    raise KeyError(key) from err\n",
      "KeyError: 0\n",
      "\n",
      "  warnings.warn(\n",
      "/Users/nikamatcharadze/Documents/uni/ml/project/house_prices/venv/lib/python3.12/site-packages/sklearn/model_selection/_validation.py:960: UserWarning: Scoring failed. The score on this train-test partition for these parameters will be set to nan. Details: \n",
      "Traceback (most recent call last):\n",
      "  File \"/Users/nikamatcharadze/Documents/uni/ml/project/house_prices/venv/lib/python3.12/site-packages/pandas/core/indexes/range.py\", line 413, in get_loc\n",
      "    return self._range.index(new_key)\n",
      "           ^^^^^^^^^^^^^^^^^^^^^^^^^^\n",
      "ValueError: 0 is not in range\n",
      "\n",
      "The above exception was the direct cause of the following exception:\n",
      "\n",
      "Traceback (most recent call last):\n",
      "  File \"/Users/nikamatcharadze/Documents/uni/ml/project/house_prices/venv/lib/python3.12/site-packages/sklearn/model_selection/_validation.py\", line 949, in _score\n",
      "    scores = scorer(estimator, X_test, y_test, **score_params)\n",
      "             ^^^^^^^^^^^^^^^^^^^^^^^^^^^^^^^^^^^^^^^^^^^^^^^^^\n",
      "  File \"/Users/nikamatcharadze/Documents/uni/ml/project/house_prices/venv/lib/python3.12/site-packages/sklearn/metrics/_scorer.py\", line 288, in __call__\n",
      "    return self._score(partial(_cached_call, None), estimator, X, y_true, **_kwargs)\n",
      "           ^^^^^^^^^^^^^^^^^^^^^^^^^^^^^^^^^^^^^^^^^^^^^^^^^^^^^^^^^^^^^^^^^^^^^^^^^\n",
      "  File \"/Users/nikamatcharadze/Documents/uni/ml/project/house_prices/venv/lib/python3.12/site-packages/sklearn/metrics/_scorer.py\", line 380, in _score\n",
      "    y_pred = method_caller(\n",
      "             ^^^^^^^^^^^^^^\n",
      "  File \"/Users/nikamatcharadze/Documents/uni/ml/project/house_prices/venv/lib/python3.12/site-packages/sklearn/metrics/_scorer.py\", line 90, in _cached_call\n",
      "    result, _ = _get_response_values(\n",
      "                ^^^^^^^^^^^^^^^^^^^^^\n",
      "  File \"/Users/nikamatcharadze/Documents/uni/ml/project/house_prices/venv/lib/python3.12/site-packages/sklearn/utils/_response.py\", line 242, in _get_response_values\n",
      "    y_pred, pos_label = prediction_method(X), None\n",
      "                        ^^^^^^^^^^^^^^^^^^^^\n",
      "  File \"/Users/nikamatcharadze/Documents/uni/ml/project/house_prices/venv/lib/python3.12/site-packages/sklearn/pipeline.py\", line 787, in predict\n",
      "    Xt = transform.transform(Xt)\n",
      "         ^^^^^^^^^^^^^^^^^^^^^^^\n",
      "  File \"/Users/nikamatcharadze/Documents/uni/ml/project/house_prices/venv/lib/python3.12/site-packages/sklearn/utils/_set_output.py\", line 319, in wrapped\n",
      "    data_to_wrap = f(self, X, *args, **kwargs)\n",
      "                   ^^^^^^^^^^^^^^^^^^^^^^^^^^^\n",
      "  File \"/var/folders/0j/h72dfd2d2q98bcwj6vn2qb_c0000gn/T/ipykernel_32796/2645286199.py\", line 38, in transform\n",
      "  File \"/Users/nikamatcharadze/Documents/uni/ml/project/house_prices/venv/lib/python3.12/site-packages/pandas/core/series.py\", line 1121, in __getitem__\n",
      "    return self._get_value(key)\n",
      "           ^^^^^^^^^^^^^^^^^^^^\n",
      "  File \"/Users/nikamatcharadze/Documents/uni/ml/project/house_prices/venv/lib/python3.12/site-packages/pandas/core/series.py\", line 1237, in _get_value\n",
      "    loc = self.index.get_loc(label)\n",
      "          ^^^^^^^^^^^^^^^^^^^^^^^^^\n",
      "  File \"/Users/nikamatcharadze/Documents/uni/ml/project/house_prices/venv/lib/python3.12/site-packages/pandas/core/indexes/range.py\", line 415, in get_loc\n",
      "    raise KeyError(key) from err\n",
      "KeyError: 0\n",
      "\n",
      "  warnings.warn(\n",
      "/Users/nikamatcharadze/Documents/uni/ml/project/house_prices/venv/lib/python3.12/site-packages/sklearn/model_selection/_search.py:1108: UserWarning: One or more of the test scores are non-finite: [nan nan]\n",
      "  warnings.warn(\n"
     ]
    },
    {
     "data": {
      "text/plain": [
       "GridSearchCV(cv=KFold(n_splits=5, random_state=40, shuffle=True),\n",
       "             estimator=Pipeline(steps=[('preprocess',\n",
       "                                        CustomPreprocessor(categorical_columns=['MSZoning',\n",
       "                                                                                'Street',\n",
       "                                                                                'Alley',\n",
       "                                                                                'LotShape',\n",
       "                                                                                'LandContour',\n",
       "                                                                                'Utilities',\n",
       "                                                                                'LotConfig',\n",
       "                                                                                'LandSlope',\n",
       "                                                                                'Neighborhood',\n",
       "                                                                                'Condition1',\n",
       "                                                                                'Condition2',\n",
       "                                                                                'BldgType',\n",
       "                                                                                'HouseStyle',\n",
       "                                                                                'RoofStyle',\n",
       "                                                                                'RoofMatl',\n",
       "                                                                                'Exterior1st',\n",
       "                                                                                'Exterior2nd',\n",
       "                                                                                'M...\n",
       "                                                                              'FireplaceQu',\n",
       "                                                                              'GarageType',\n",
       "                                                                              'GarageFinish',\n",
       "                                                                              'Fence'],\n",
       "                                                           smooth='auto',\n",
       "                                                           unnecessary_columns=['Id'])),\n",
       "                                       ('scaler', StandardScaler()),\n",
       "                                       ('model',\n",
       "                                        RANSACRegressor(random_state=0))]),\n",
       "             n_jobs=-1,\n",
       "             param_grid={'model__min_samples': [0.9],\n",
       "                         'scaler': [StandardScaler(), None]},\n",
       "             return_train_score=True,\n",
       "             scoring=make_scorer(loss_fn, greater_is_better=False, response_method='predict'),\n",
       "             verbose=2)"
      ],
      "text/html": [
       "<style>#sk-container-id-50 {\n",
       "  /* Definition of color scheme common for light and dark mode */\n",
       "  --sklearn-color-text: #000;\n",
       "  --sklearn-color-text-muted: #666;\n",
       "  --sklearn-color-line: gray;\n",
       "  /* Definition of color scheme for unfitted estimators */\n",
       "  --sklearn-color-unfitted-level-0: #fff5e6;\n",
       "  --sklearn-color-unfitted-level-1: #f6e4d2;\n",
       "  --sklearn-color-unfitted-level-2: #ffe0b3;\n",
       "  --sklearn-color-unfitted-level-3: chocolate;\n",
       "  /* Definition of color scheme for fitted estimators */\n",
       "  --sklearn-color-fitted-level-0: #f0f8ff;\n",
       "  --sklearn-color-fitted-level-1: #d4ebff;\n",
       "  --sklearn-color-fitted-level-2: #b3dbfd;\n",
       "  --sklearn-color-fitted-level-3: cornflowerblue;\n",
       "\n",
       "  /* Specific color for light theme */\n",
       "  --sklearn-color-text-on-default-background: var(--sg-text-color, var(--theme-code-foreground, var(--jp-content-font-color1, black)));\n",
       "  --sklearn-color-background: var(--sg-background-color, var(--theme-background, var(--jp-layout-color0, white)));\n",
       "  --sklearn-color-border-box: var(--sg-text-color, var(--theme-code-foreground, var(--jp-content-font-color1, black)));\n",
       "  --sklearn-color-icon: #696969;\n",
       "\n",
       "  @media (prefers-color-scheme: dark) {\n",
       "    /* Redefinition of color scheme for dark theme */\n",
       "    --sklearn-color-text-on-default-background: var(--sg-text-color, var(--theme-code-foreground, var(--jp-content-font-color1, white)));\n",
       "    --sklearn-color-background: var(--sg-background-color, var(--theme-background, var(--jp-layout-color0, #111)));\n",
       "    --sklearn-color-border-box: var(--sg-text-color, var(--theme-code-foreground, var(--jp-content-font-color1, white)));\n",
       "    --sklearn-color-icon: #878787;\n",
       "  }\n",
       "}\n",
       "\n",
       "#sk-container-id-50 {\n",
       "  color: var(--sklearn-color-text);\n",
       "}\n",
       "\n",
       "#sk-container-id-50 pre {\n",
       "  padding: 0;\n",
       "}\n",
       "\n",
       "#sk-container-id-50 input.sk-hidden--visually {\n",
       "  border: 0;\n",
       "  clip: rect(1px 1px 1px 1px);\n",
       "  clip: rect(1px, 1px, 1px, 1px);\n",
       "  height: 1px;\n",
       "  margin: -1px;\n",
       "  overflow: hidden;\n",
       "  padding: 0;\n",
       "  position: absolute;\n",
       "  width: 1px;\n",
       "}\n",
       "\n",
       "#sk-container-id-50 div.sk-dashed-wrapped {\n",
       "  border: 1px dashed var(--sklearn-color-line);\n",
       "  margin: 0 0.4em 0.5em 0.4em;\n",
       "  box-sizing: border-box;\n",
       "  padding-bottom: 0.4em;\n",
       "  background-color: var(--sklearn-color-background);\n",
       "}\n",
       "\n",
       "#sk-container-id-50 div.sk-container {\n",
       "  /* jupyter's `normalize.less` sets `[hidden] { display: none; }`\n",
       "     but bootstrap.min.css set `[hidden] { display: none !important; }`\n",
       "     so we also need the `!important` here to be able to override the\n",
       "     default hidden behavior on the sphinx rendered scikit-learn.org.\n",
       "     See: https://github.com/scikit-learn/scikit-learn/issues/21755 */\n",
       "  display: inline-block !important;\n",
       "  position: relative;\n",
       "}\n",
       "\n",
       "#sk-container-id-50 div.sk-text-repr-fallback {\n",
       "  display: none;\n",
       "}\n",
       "\n",
       "div.sk-parallel-item,\n",
       "div.sk-serial,\n",
       "div.sk-item {\n",
       "  /* draw centered vertical line to link estimators */\n",
       "  background-image: linear-gradient(var(--sklearn-color-text-on-default-background), var(--sklearn-color-text-on-default-background));\n",
       "  background-size: 2px 100%;\n",
       "  background-repeat: no-repeat;\n",
       "  background-position: center center;\n",
       "}\n",
       "\n",
       "/* Parallel-specific style estimator block */\n",
       "\n",
       "#sk-container-id-50 div.sk-parallel-item::after {\n",
       "  content: \"\";\n",
       "  width: 100%;\n",
       "  border-bottom: 2px solid var(--sklearn-color-text-on-default-background);\n",
       "  flex-grow: 1;\n",
       "}\n",
       "\n",
       "#sk-container-id-50 div.sk-parallel {\n",
       "  display: flex;\n",
       "  align-items: stretch;\n",
       "  justify-content: center;\n",
       "  background-color: var(--sklearn-color-background);\n",
       "  position: relative;\n",
       "}\n",
       "\n",
       "#sk-container-id-50 div.sk-parallel-item {\n",
       "  display: flex;\n",
       "  flex-direction: column;\n",
       "}\n",
       "\n",
       "#sk-container-id-50 div.sk-parallel-item:first-child::after {\n",
       "  align-self: flex-end;\n",
       "  width: 50%;\n",
       "}\n",
       "\n",
       "#sk-container-id-50 div.sk-parallel-item:last-child::after {\n",
       "  align-self: flex-start;\n",
       "  width: 50%;\n",
       "}\n",
       "\n",
       "#sk-container-id-50 div.sk-parallel-item:only-child::after {\n",
       "  width: 0;\n",
       "}\n",
       "\n",
       "/* Serial-specific style estimator block */\n",
       "\n",
       "#sk-container-id-50 div.sk-serial {\n",
       "  display: flex;\n",
       "  flex-direction: column;\n",
       "  align-items: center;\n",
       "  background-color: var(--sklearn-color-background);\n",
       "  padding-right: 1em;\n",
       "  padding-left: 1em;\n",
       "}\n",
       "\n",
       "\n",
       "/* Toggleable style: style used for estimator/Pipeline/ColumnTransformer box that is\n",
       "clickable and can be expanded/collapsed.\n",
       "- Pipeline and ColumnTransformer use this feature and define the default style\n",
       "- Estimators will overwrite some part of the style using the `sk-estimator` class\n",
       "*/\n",
       "\n",
       "/* Pipeline and ColumnTransformer style (default) */\n",
       "\n",
       "#sk-container-id-50 div.sk-toggleable {\n",
       "  /* Default theme specific background. It is overwritten whether we have a\n",
       "  specific estimator or a Pipeline/ColumnTransformer */\n",
       "  background-color: var(--sklearn-color-background);\n",
       "}\n",
       "\n",
       "/* Toggleable label */\n",
       "#sk-container-id-50 label.sk-toggleable__label {\n",
       "  cursor: pointer;\n",
       "  display: flex;\n",
       "  width: 100%;\n",
       "  margin-bottom: 0;\n",
       "  padding: 0.5em;\n",
       "  box-sizing: border-box;\n",
       "  text-align: center;\n",
       "  align-items: start;\n",
       "  justify-content: space-between;\n",
       "  gap: 0.5em;\n",
       "}\n",
       "\n",
       "#sk-container-id-50 label.sk-toggleable__label .caption {\n",
       "  font-size: 0.6rem;\n",
       "  font-weight: lighter;\n",
       "  color: var(--sklearn-color-text-muted);\n",
       "}\n",
       "\n",
       "#sk-container-id-50 label.sk-toggleable__label-arrow:before {\n",
       "  /* Arrow on the left of the label */\n",
       "  content: \"▸\";\n",
       "  float: left;\n",
       "  margin-right: 0.25em;\n",
       "  color: var(--sklearn-color-icon);\n",
       "}\n",
       "\n",
       "#sk-container-id-50 label.sk-toggleable__label-arrow:hover:before {\n",
       "  color: var(--sklearn-color-text);\n",
       "}\n",
       "\n",
       "/* Toggleable content - dropdown */\n",
       "\n",
       "#sk-container-id-50 div.sk-toggleable__content {\n",
       "  max-height: 0;\n",
       "  max-width: 0;\n",
       "  overflow: hidden;\n",
       "  text-align: left;\n",
       "  /* unfitted */\n",
       "  background-color: var(--sklearn-color-unfitted-level-0);\n",
       "}\n",
       "\n",
       "#sk-container-id-50 div.sk-toggleable__content.fitted {\n",
       "  /* fitted */\n",
       "  background-color: var(--sklearn-color-fitted-level-0);\n",
       "}\n",
       "\n",
       "#sk-container-id-50 div.sk-toggleable__content pre {\n",
       "  margin: 0.2em;\n",
       "  border-radius: 0.25em;\n",
       "  color: var(--sklearn-color-text);\n",
       "  /* unfitted */\n",
       "  background-color: var(--sklearn-color-unfitted-level-0);\n",
       "}\n",
       "\n",
       "#sk-container-id-50 div.sk-toggleable__content.fitted pre {\n",
       "  /* unfitted */\n",
       "  background-color: var(--sklearn-color-fitted-level-0);\n",
       "}\n",
       "\n",
       "#sk-container-id-50 input.sk-toggleable__control:checked~div.sk-toggleable__content {\n",
       "  /* Expand drop-down */\n",
       "  max-height: 200px;\n",
       "  max-width: 100%;\n",
       "  overflow: auto;\n",
       "}\n",
       "\n",
       "#sk-container-id-50 input.sk-toggleable__control:checked~label.sk-toggleable__label-arrow:before {\n",
       "  content: \"▾\";\n",
       "}\n",
       "\n",
       "/* Pipeline/ColumnTransformer-specific style */\n",
       "\n",
       "#sk-container-id-50 div.sk-label input.sk-toggleable__control:checked~label.sk-toggleable__label {\n",
       "  color: var(--sklearn-color-text);\n",
       "  background-color: var(--sklearn-color-unfitted-level-2);\n",
       "}\n",
       "\n",
       "#sk-container-id-50 div.sk-label.fitted input.sk-toggleable__control:checked~label.sk-toggleable__label {\n",
       "  background-color: var(--sklearn-color-fitted-level-2);\n",
       "}\n",
       "\n",
       "/* Estimator-specific style */\n",
       "\n",
       "/* Colorize estimator box */\n",
       "#sk-container-id-50 div.sk-estimator input.sk-toggleable__control:checked~label.sk-toggleable__label {\n",
       "  /* unfitted */\n",
       "  background-color: var(--sklearn-color-unfitted-level-2);\n",
       "}\n",
       "\n",
       "#sk-container-id-50 div.sk-estimator.fitted input.sk-toggleable__control:checked~label.sk-toggleable__label {\n",
       "  /* fitted */\n",
       "  background-color: var(--sklearn-color-fitted-level-2);\n",
       "}\n",
       "\n",
       "#sk-container-id-50 div.sk-label label.sk-toggleable__label,\n",
       "#sk-container-id-50 div.sk-label label {\n",
       "  /* The background is the default theme color */\n",
       "  color: var(--sklearn-color-text-on-default-background);\n",
       "}\n",
       "\n",
       "/* On hover, darken the color of the background */\n",
       "#sk-container-id-50 div.sk-label:hover label.sk-toggleable__label {\n",
       "  color: var(--sklearn-color-text);\n",
       "  background-color: var(--sklearn-color-unfitted-level-2);\n",
       "}\n",
       "\n",
       "/* Label box, darken color on hover, fitted */\n",
       "#sk-container-id-50 div.sk-label.fitted:hover label.sk-toggleable__label.fitted {\n",
       "  color: var(--sklearn-color-text);\n",
       "  background-color: var(--sklearn-color-fitted-level-2);\n",
       "}\n",
       "\n",
       "/* Estimator label */\n",
       "\n",
       "#sk-container-id-50 div.sk-label label {\n",
       "  font-family: monospace;\n",
       "  font-weight: bold;\n",
       "  display: inline-block;\n",
       "  line-height: 1.2em;\n",
       "}\n",
       "\n",
       "#sk-container-id-50 div.sk-label-container {\n",
       "  text-align: center;\n",
       "}\n",
       "\n",
       "/* Estimator-specific */\n",
       "#sk-container-id-50 div.sk-estimator {\n",
       "  font-family: monospace;\n",
       "  border: 1px dotted var(--sklearn-color-border-box);\n",
       "  border-radius: 0.25em;\n",
       "  box-sizing: border-box;\n",
       "  margin-bottom: 0.5em;\n",
       "  /* unfitted */\n",
       "  background-color: var(--sklearn-color-unfitted-level-0);\n",
       "}\n",
       "\n",
       "#sk-container-id-50 div.sk-estimator.fitted {\n",
       "  /* fitted */\n",
       "  background-color: var(--sklearn-color-fitted-level-0);\n",
       "}\n",
       "\n",
       "/* on hover */\n",
       "#sk-container-id-50 div.sk-estimator:hover {\n",
       "  /* unfitted */\n",
       "  background-color: var(--sklearn-color-unfitted-level-2);\n",
       "}\n",
       "\n",
       "#sk-container-id-50 div.sk-estimator.fitted:hover {\n",
       "  /* fitted */\n",
       "  background-color: var(--sklearn-color-fitted-level-2);\n",
       "}\n",
       "\n",
       "/* Specification for estimator info (e.g. \"i\" and \"?\") */\n",
       "\n",
       "/* Common style for \"i\" and \"?\" */\n",
       "\n",
       ".sk-estimator-doc-link,\n",
       "a:link.sk-estimator-doc-link,\n",
       "a:visited.sk-estimator-doc-link {\n",
       "  float: right;\n",
       "  font-size: smaller;\n",
       "  line-height: 1em;\n",
       "  font-family: monospace;\n",
       "  background-color: var(--sklearn-color-background);\n",
       "  border-radius: 1em;\n",
       "  height: 1em;\n",
       "  width: 1em;\n",
       "  text-decoration: none !important;\n",
       "  margin-left: 0.5em;\n",
       "  text-align: center;\n",
       "  /* unfitted */\n",
       "  border: var(--sklearn-color-unfitted-level-1) 1pt solid;\n",
       "  color: var(--sklearn-color-unfitted-level-1);\n",
       "}\n",
       "\n",
       ".sk-estimator-doc-link.fitted,\n",
       "a:link.sk-estimator-doc-link.fitted,\n",
       "a:visited.sk-estimator-doc-link.fitted {\n",
       "  /* fitted */\n",
       "  border: var(--sklearn-color-fitted-level-1) 1pt solid;\n",
       "  color: var(--sklearn-color-fitted-level-1);\n",
       "}\n",
       "\n",
       "/* On hover */\n",
       "div.sk-estimator:hover .sk-estimator-doc-link:hover,\n",
       ".sk-estimator-doc-link:hover,\n",
       "div.sk-label-container:hover .sk-estimator-doc-link:hover,\n",
       ".sk-estimator-doc-link:hover {\n",
       "  /* unfitted */\n",
       "  background-color: var(--sklearn-color-unfitted-level-3);\n",
       "  color: var(--sklearn-color-background);\n",
       "  text-decoration: none;\n",
       "}\n",
       "\n",
       "div.sk-estimator.fitted:hover .sk-estimator-doc-link.fitted:hover,\n",
       ".sk-estimator-doc-link.fitted:hover,\n",
       "div.sk-label-container:hover .sk-estimator-doc-link.fitted:hover,\n",
       ".sk-estimator-doc-link.fitted:hover {\n",
       "  /* fitted */\n",
       "  background-color: var(--sklearn-color-fitted-level-3);\n",
       "  color: var(--sklearn-color-background);\n",
       "  text-decoration: none;\n",
       "}\n",
       "\n",
       "/* Span, style for the box shown on hovering the info icon */\n",
       ".sk-estimator-doc-link span {\n",
       "  display: none;\n",
       "  z-index: 9999;\n",
       "  position: relative;\n",
       "  font-weight: normal;\n",
       "  right: .2ex;\n",
       "  padding: .5ex;\n",
       "  margin: .5ex;\n",
       "  width: min-content;\n",
       "  min-width: 20ex;\n",
       "  max-width: 50ex;\n",
       "  color: var(--sklearn-color-text);\n",
       "  box-shadow: 2pt 2pt 4pt #999;\n",
       "  /* unfitted */\n",
       "  background: var(--sklearn-color-unfitted-level-0);\n",
       "  border: .5pt solid var(--sklearn-color-unfitted-level-3);\n",
       "}\n",
       "\n",
       ".sk-estimator-doc-link.fitted span {\n",
       "  /* fitted */\n",
       "  background: var(--sklearn-color-fitted-level-0);\n",
       "  border: var(--sklearn-color-fitted-level-3);\n",
       "}\n",
       "\n",
       ".sk-estimator-doc-link:hover span {\n",
       "  display: block;\n",
       "}\n",
       "\n",
       "/* \"?\"-specific style due to the `<a>` HTML tag */\n",
       "\n",
       "#sk-container-id-50 a.estimator_doc_link {\n",
       "  float: right;\n",
       "  font-size: 1rem;\n",
       "  line-height: 1em;\n",
       "  font-family: monospace;\n",
       "  background-color: var(--sklearn-color-background);\n",
       "  border-radius: 1rem;\n",
       "  height: 1rem;\n",
       "  width: 1rem;\n",
       "  text-decoration: none;\n",
       "  /* unfitted */\n",
       "  color: var(--sklearn-color-unfitted-level-1);\n",
       "  border: var(--sklearn-color-unfitted-level-1) 1pt solid;\n",
       "}\n",
       "\n",
       "#sk-container-id-50 a.estimator_doc_link.fitted {\n",
       "  /* fitted */\n",
       "  border: var(--sklearn-color-fitted-level-1) 1pt solid;\n",
       "  color: var(--sklearn-color-fitted-level-1);\n",
       "}\n",
       "\n",
       "/* On hover */\n",
       "#sk-container-id-50 a.estimator_doc_link:hover {\n",
       "  /* unfitted */\n",
       "  background-color: var(--sklearn-color-unfitted-level-3);\n",
       "  color: var(--sklearn-color-background);\n",
       "  text-decoration: none;\n",
       "}\n",
       "\n",
       "#sk-container-id-50 a.estimator_doc_link.fitted:hover {\n",
       "  /* fitted */\n",
       "  background-color: var(--sklearn-color-fitted-level-3);\n",
       "}\n",
       "</style><div id=\"sk-container-id-50\" class=\"sk-top-container\"><div class=\"sk-text-repr-fallback\"><pre>GridSearchCV(cv=KFold(n_splits=5, random_state=40, shuffle=True),\n",
       "             estimator=Pipeline(steps=[(&#x27;preprocess&#x27;,\n",
       "                                        CustomPreprocessor(categorical_columns=[&#x27;MSZoning&#x27;,\n",
       "                                                                                &#x27;Street&#x27;,\n",
       "                                                                                &#x27;Alley&#x27;,\n",
       "                                                                                &#x27;LotShape&#x27;,\n",
       "                                                                                &#x27;LandContour&#x27;,\n",
       "                                                                                &#x27;Utilities&#x27;,\n",
       "                                                                                &#x27;LotConfig&#x27;,\n",
       "                                                                                &#x27;LandSlope&#x27;,\n",
       "                                                                                &#x27;Neighborhood&#x27;,\n",
       "                                                                                &#x27;Condition1&#x27;,\n",
       "                                                                                &#x27;Condition2&#x27;,\n",
       "                                                                                &#x27;BldgType&#x27;,\n",
       "                                                                                &#x27;HouseStyle&#x27;,\n",
       "                                                                                &#x27;RoofStyle&#x27;,\n",
       "                                                                                &#x27;RoofMatl&#x27;,\n",
       "                                                                                &#x27;Exterior1st&#x27;,\n",
       "                                                                                &#x27;Exterior2nd&#x27;,\n",
       "                                                                                &#x27;M...\n",
       "                                                                              &#x27;FireplaceQu&#x27;,\n",
       "                                                                              &#x27;GarageType&#x27;,\n",
       "                                                                              &#x27;GarageFinish&#x27;,\n",
       "                                                                              &#x27;Fence&#x27;],\n",
       "                                                           smooth=&#x27;auto&#x27;,\n",
       "                                                           unnecessary_columns=[&#x27;Id&#x27;])),\n",
       "                                       (&#x27;scaler&#x27;, StandardScaler()),\n",
       "                                       (&#x27;model&#x27;,\n",
       "                                        RANSACRegressor(random_state=0))]),\n",
       "             n_jobs=-1,\n",
       "             param_grid={&#x27;model__min_samples&#x27;: [0.9],\n",
       "                         &#x27;scaler&#x27;: [StandardScaler(), None]},\n",
       "             return_train_score=True,\n",
       "             scoring=make_scorer(loss_fn, greater_is_better=False, response_method=&#x27;predict&#x27;),\n",
       "             verbose=2)</pre><b>In a Jupyter environment, please rerun this cell to show the HTML representation or trust the notebook. <br />On GitHub, the HTML representation is unable to render, please try loading this page with nbviewer.org.</b></div><div class=\"sk-container\" hidden><div class=\"sk-item sk-dashed-wrapped\"><div class=\"sk-label-container\"><div class=\"sk-label fitted sk-toggleable\"><input class=\"sk-toggleable__control sk-hidden--visually\" id=\"sk-estimator-id-315\" type=\"checkbox\" ><label for=\"sk-estimator-id-315\" class=\"sk-toggleable__label fitted sk-toggleable__label-arrow\"><div><div>GridSearchCV</div></div><div><a class=\"sk-estimator-doc-link fitted\" rel=\"noreferrer\" target=\"_blank\" href=\"https://scikit-learn.org/1.6/modules/generated/sklearn.model_selection.GridSearchCV.html\">?<span>Documentation for GridSearchCV</span></a><span class=\"sk-estimator-doc-link fitted\">i<span>Fitted</span></span></div></label><div class=\"sk-toggleable__content fitted\"><pre>GridSearchCV(cv=KFold(n_splits=5, random_state=40, shuffle=True),\n",
       "             estimator=Pipeline(steps=[(&#x27;preprocess&#x27;,\n",
       "                                        CustomPreprocessor(categorical_columns=[&#x27;MSZoning&#x27;,\n",
       "                                                                                &#x27;Street&#x27;,\n",
       "                                                                                &#x27;Alley&#x27;,\n",
       "                                                                                &#x27;LotShape&#x27;,\n",
       "                                                                                &#x27;LandContour&#x27;,\n",
       "                                                                                &#x27;Utilities&#x27;,\n",
       "                                                                                &#x27;LotConfig&#x27;,\n",
       "                                                                                &#x27;LandSlope&#x27;,\n",
       "                                                                                &#x27;Neighborhood&#x27;,\n",
       "                                                                                &#x27;Condition1&#x27;,\n",
       "                                                                                &#x27;Condition2&#x27;,\n",
       "                                                                                &#x27;BldgType&#x27;,\n",
       "                                                                                &#x27;HouseStyle&#x27;,\n",
       "                                                                                &#x27;RoofStyle&#x27;,\n",
       "                                                                                &#x27;RoofMatl&#x27;,\n",
       "                                                                                &#x27;Exterior1st&#x27;,\n",
       "                                                                                &#x27;Exterior2nd&#x27;,\n",
       "                                                                                &#x27;M...\n",
       "                                                                              &#x27;FireplaceQu&#x27;,\n",
       "                                                                              &#x27;GarageType&#x27;,\n",
       "                                                                              &#x27;GarageFinish&#x27;,\n",
       "                                                                              &#x27;Fence&#x27;],\n",
       "                                                           smooth=&#x27;auto&#x27;,\n",
       "                                                           unnecessary_columns=[&#x27;Id&#x27;])),\n",
       "                                       (&#x27;scaler&#x27;, StandardScaler()),\n",
       "                                       (&#x27;model&#x27;,\n",
       "                                        RANSACRegressor(random_state=0))]),\n",
       "             n_jobs=-1,\n",
       "             param_grid={&#x27;model__min_samples&#x27;: [0.9],\n",
       "                         &#x27;scaler&#x27;: [StandardScaler(), None]},\n",
       "             return_train_score=True,\n",
       "             scoring=make_scorer(loss_fn, greater_is_better=False, response_method=&#x27;predict&#x27;),\n",
       "             verbose=2)</pre></div> </div></div><div class=\"sk-parallel\"><div class=\"sk-parallel-item\"><div class=\"sk-item\"><div class=\"sk-label-container\"><div class=\"sk-label fitted sk-toggleable\"><input class=\"sk-toggleable__control sk-hidden--visually\" id=\"sk-estimator-id-316\" type=\"checkbox\" ><label for=\"sk-estimator-id-316\" class=\"sk-toggleable__label fitted sk-toggleable__label-arrow\"><div><div>best_estimator_: Pipeline</div></div></label><div class=\"sk-toggleable__content fitted\"><pre>Pipeline(steps=[(&#x27;preprocess&#x27;,\n",
       "                 CustomPreprocessor(categorical_columns=[&#x27;CentralAir&#x27;,\n",
       "                                                         &#x27;Condition2&#x27;,\n",
       "                                                         &#x27;LandContour&#x27;,\n",
       "                                                         &#x27;ExterQual&#x27;,\n",
       "                                                         &#x27;BsmtExposure&#x27;,\n",
       "                                                         &#x27;LotShape&#x27;, &#x27;Fence&#x27;,\n",
       "                                                         &#x27;KitchenQual&#x27;,\n",
       "                                                         &#x27;RoofMatl&#x27;,\n",
       "                                                         &#x27;FireplaceQu&#x27;,\n",
       "                                                         &#x27;MasVnrType&#x27;,\n",
       "                                                         &#x27;GarageCond&#x27;,\n",
       "                                                         &#x27;SaleCondition&#x27;,\n",
       "                                                         &#x27;Heating&#x27;, &#x27;ExterCond&#x27;,\n",
       "                                                         &#x27;MSZoning&#x27;,\n",
       "                                                         &#x27;Exterior2nd&#x27;,\n",
       "                                                         &#x27;RoofStyle&#x27;,\n",
       "                                                         &#x27;BsmtCond&#x27;,\n",
       "                                                         &#x27;Condition1&#x27;,\n",
       "                                                         &#x27;Exterior1st&#x27;,\n",
       "                                                         &#x27;Electrical&#x27;,\n",
       "                                                         &#x27;Ga...\n",
       "                                                         &#x27;HeatingQC&#x27;,\n",
       "                                                         &#x27;MiscFeature&#x27;,\n",
       "                                                         &#x27;SaleType&#x27;,\n",
       "                                                         &#x27;GarageQual&#x27;,\n",
       "                                                         &#x27;PavedDrive&#x27;, ...],\n",
       "                                    columns_to_change=[&#x27;Alley&#x27;, &#x27;MasVnrType&#x27;,\n",
       "                                                       &#x27;BsmtQual&#x27;, &#x27;BsmtCond&#x27;,\n",
       "                                                       &#x27;BsmtExposure&#x27;,\n",
       "                                                       &#x27;BsmtFinType1&#x27;,\n",
       "                                                       &#x27;BsmtFinType2&#x27;,\n",
       "                                                       &#x27;FireplaceQu&#x27;,\n",
       "                                                       &#x27;GarageType&#x27;,\n",
       "                                                       &#x27;GarageFinish&#x27;,\n",
       "                                                       &#x27;Fence&#x27;],\n",
       "                                    smooth=&#x27;auto&#x27;,\n",
       "                                    unnecessary_columns=[&#x27;Id&#x27;])),\n",
       "                (&#x27;scaler&#x27;, StandardScaler()),\n",
       "                (&#x27;model&#x27;, RANSACRegressor(min_samples=0.9, random_state=0))])</pre></div> </div></div><div class=\"sk-serial\"><div class=\"sk-item\"><div class=\"sk-serial\"><div class=\"sk-item\"><div class=\"sk-estimator fitted sk-toggleable\"><input class=\"sk-toggleable__control sk-hidden--visually\" id=\"sk-estimator-id-317\" type=\"checkbox\" ><label for=\"sk-estimator-id-317\" class=\"sk-toggleable__label fitted sk-toggleable__label-arrow\"><div><div>CustomPreprocessor</div></div></label><div class=\"sk-toggleable__content fitted\"><pre>CustomPreprocessor(categorical_columns=[&#x27;CentralAir&#x27;, &#x27;Condition2&#x27;,\n",
       "                                        &#x27;LandContour&#x27;, &#x27;ExterQual&#x27;,\n",
       "                                        &#x27;BsmtExposure&#x27;, &#x27;LotShape&#x27;, &#x27;Fence&#x27;,\n",
       "                                        &#x27;KitchenQual&#x27;, &#x27;RoofMatl&#x27;,\n",
       "                                        &#x27;FireplaceQu&#x27;, &#x27;MasVnrType&#x27;,\n",
       "                                        &#x27;GarageCond&#x27;, &#x27;SaleCondition&#x27;,\n",
       "                                        &#x27;Heating&#x27;, &#x27;ExterCond&#x27;, &#x27;MSZoning&#x27;,\n",
       "                                        &#x27;Exterior2nd&#x27;, &#x27;RoofStyle&#x27;, &#x27;BsmtCond&#x27;,\n",
       "                                        &#x27;Condition1&#x27;, &#x27;Exterior1st&#x27;,\n",
       "                                        &#x27;Electrical&#x27;, &#x27;GarageFinish&#x27;,\n",
       "                                        &#x27;BldgType&#x27;, &#x27;LotConfig&#x27;, &#x27;HeatingQC&#x27;,\n",
       "                                        &#x27;MiscFeature&#x27;, &#x27;SaleType&#x27;, &#x27;GarageQual&#x27;,\n",
       "                                        &#x27;PavedDrive&#x27;, ...],\n",
       "                   columns_to_change=[&#x27;Alley&#x27;, &#x27;MasVnrType&#x27;, &#x27;BsmtQual&#x27;,\n",
       "                                      &#x27;BsmtCond&#x27;, &#x27;BsmtExposure&#x27;,\n",
       "                                      &#x27;BsmtFinType1&#x27;, &#x27;BsmtFinType2&#x27;,\n",
       "                                      &#x27;FireplaceQu&#x27;, &#x27;GarageType&#x27;,\n",
       "                                      &#x27;GarageFinish&#x27;, &#x27;Fence&#x27;],\n",
       "                   smooth=&#x27;auto&#x27;, unnecessary_columns=[&#x27;Id&#x27;])</pre></div> </div></div><div class=\"sk-item\"><div class=\"sk-estimator fitted sk-toggleable\"><input class=\"sk-toggleable__control sk-hidden--visually\" id=\"sk-estimator-id-318\" type=\"checkbox\" ><label for=\"sk-estimator-id-318\" class=\"sk-toggleable__label fitted sk-toggleable__label-arrow\"><div><div>StandardScaler</div></div><div><a class=\"sk-estimator-doc-link fitted\" rel=\"noreferrer\" target=\"_blank\" href=\"https://scikit-learn.org/1.6/modules/generated/sklearn.preprocessing.StandardScaler.html\">?<span>Documentation for StandardScaler</span></a></div></label><div class=\"sk-toggleable__content fitted\"><pre>StandardScaler()</pre></div> </div></div><div class=\"sk-item\"><div class=\"sk-estimator fitted sk-toggleable\"><input class=\"sk-toggleable__control sk-hidden--visually\" id=\"sk-estimator-id-319\" type=\"checkbox\" ><label for=\"sk-estimator-id-319\" class=\"sk-toggleable__label fitted sk-toggleable__label-arrow\"><div><div>RANSACRegressor</div></div><div><a class=\"sk-estimator-doc-link fitted\" rel=\"noreferrer\" target=\"_blank\" href=\"https://scikit-learn.org/1.6/modules/generated/sklearn.linear_model.RANSACRegressor.html\">?<span>Documentation for RANSACRegressor</span></a></div></label><div class=\"sk-toggleable__content fitted\"><pre>RANSACRegressor(min_samples=0.9, random_state=0)</pre></div> </div></div></div></div></div></div></div></div></div></div></div>"
      ]
     },
     "execution_count": 573,
     "metadata": {},
     "output_type": "execute_result"
    }
   ],
   "execution_count": 573
  },
  {
   "metadata": {
    "ExecuteTime": {
     "end_time": "2025-04-09T23:54:20.753678Z",
     "start_time": "2025-04-09T23:54:20.747541Z"
    }
   },
   "cell_type": "code",
   "source": "best_model = grid_search.best_estimator_",
   "outputs": [],
   "execution_count": 574
  },
  {
   "metadata": {
    "ExecuteTime": {
     "end_time": "2025-04-09T23:54:20.821890Z",
     "start_time": "2025-04-09T23:54:20.819425Z"
    }
   },
   "cell_type": "code",
   "source": [
    "print(grid_search.best_params_)\n",
    "print(-1 * grid_search.best_score_)"
   ],
   "outputs": [
    {
     "name": "stdout",
     "output_type": "stream",
     "text": [
      "{'model__min_samples': 0.9, 'scaler': StandardScaler()}\n",
      "nan\n"
     ]
    }
   ],
   "execution_count": 575
  },
  {
   "metadata": {
    "ExecuteTime": {
     "end_time": "2025-04-09T23:54:20.926644Z",
     "start_time": "2025-04-09T23:54:20.890878Z"
    }
   },
   "cell_type": "code",
   "source": [
    "y_pred_log = best_model.predict(X_test)\n",
    "y_pred = np.exp(y_pred_log)"
   ],
   "outputs": [],
   "execution_count": 576
  },
  {
   "metadata": {
    "ExecuteTime": {
     "end_time": "2025-04-09T23:54:21.846734Z",
     "start_time": "2025-04-09T23:54:21.840356Z"
    }
   },
   "cell_type": "code",
   "source": "y_pred",
   "outputs": [
    {
     "data": {
      "text/plain": [
       "array([150010.83326949, 135767.08154967, 219987.03898472, 135420.7118224 ,\n",
       "       217193.64154282,  76180.51962662, 116931.46869404,  81035.15998015,\n",
       "        88403.85171629, 166979.41944587,  87396.82310682, 248177.94946512,\n",
       "       147643.72259613,  82563.09215056, 122091.19926472, 240233.81413542,\n",
       "       142140.31151215, 246067.47173328, 402843.12013205, 127719.96570628,\n",
       "       159659.10865933, 141360.91128959, 105351.87981066, 118964.00016473,\n",
       "       131461.756627  , 101896.34125402, 207298.24859226, 146826.85291791,\n",
       "       111743.261558  , 158802.11985405,  99254.97378885, 191899.62317233,\n",
       "       124478.78843806, 127013.68946926, 124554.77668163, 114781.21769354,\n",
       "       171048.44880137, 265646.75912021, 158472.30966255, 285787.74364642,\n",
       "        77598.1392543 , 102902.89974759, 108783.63818726, 136158.46104289,\n",
       "        83058.89447229,  86923.65829025, 203708.57688796, 217408.74679622,\n",
       "       136025.34808783, 157088.19397508, 190513.57053473, 151026.54886674,\n",
       "       120577.24558902, 103037.38005889, 147373.32618413, 188301.99714157,\n",
       "        64858.19596354, 161327.82022783, 109215.46794518,  75155.19324403,\n",
       "        99460.05374566, 119872.28036785, 186336.52859675, 111605.33216723,\n",
       "        90564.90071992, 267221.83782448, 208366.29989982, 112226.26603903,\n",
       "        98983.73357914, 182014.64554841, 166158.4721806 ,  82297.21988769,\n",
       "       147322.94909682, 120106.64456751, 256687.02853347, 124928.44555831,\n",
       "       205506.50219344, 163988.78928146, 117256.38426131, 161187.2268357 ,\n",
       "       116827.68113462, 116306.01706439, 106735.32826381, 115236.9825489 ,\n",
       "       139607.08634135, 214133.34551044, 335966.61225349, 153717.26182436,\n",
       "       105620.56769977, 125790.0009932 , 104213.52855749,  99821.73196355,\n",
       "       135511.99705395, 110917.38494738, 167178.99205353,  59355.81825656,\n",
       "       124191.04549586, 127208.26262243,  83536.07741837, 226639.59229632,\n",
       "       133262.21911323,  77064.01183169, 174013.81963477, 165852.26924325,\n",
       "       117748.13211543, 136024.8589756 , 175400.8469771 , 153365.74653533,\n",
       "       162294.02335454, 305058.31025221, 108303.02147367, 144003.7040648 ,\n",
       "       176300.67270988, 100851.49875252, 220581.40832601,  82395.89282296,\n",
       "        93231.04718968, 104884.12671213, 143283.42075607, 246067.19557616,\n",
       "        96016.21860032, 205174.67654492, 122663.17655578, 123987.09052187,\n",
       "        99621.63496187, 134430.36829462, 108072.67507879, 138713.04392589,\n",
       "       153374.52544572, 104322.94681591,  95912.36482081,  99468.37632153,\n",
       "       146165.20001198, 144804.77456601, 234607.35256326, 253313.23170486,\n",
       "       197559.65045945, 127685.11697179,  79142.75578521,  81874.90312819,\n",
       "        71739.0656591 , 127554.51637376, 271994.31276729, 186626.50798961,\n",
       "        91770.98973306,  91084.88107267,  94495.83102941, 156808.79072091,\n",
       "       121046.88513155, 160151.8130215 ,  92655.81225852, 165479.65031235,\n",
       "       110099.61344868, 180144.26406598, 153263.29069177, 130068.0234082 ,\n",
       "       100935.21708163, 148821.03404793, 114564.27530647, 114099.77055259,\n",
       "        73778.24083756,  96195.35489074, 140244.24143304, 116857.69467767,\n",
       "        86505.46232484, 122703.52120259, 158088.05176477, 188186.45549404,\n",
       "       209900.61226977, 145331.80612586, 153080.46331211, 379806.36642266,\n",
       "       123245.10534514, 312540.47484891, 190740.33828019, 207460.50306025,\n",
       "       177075.68888466, 218982.41410229, 215850.73246108,  91630.94909813,\n",
       "        75169.71659655, 151652.03710128, 141935.7384229 , 238057.61070269,\n",
       "       278945.03039062, 149561.43426252, 115041.62833788, 100720.86708572,\n",
       "       119986.53185302, 273912.52198278, 172584.87510021,  75880.81812394,\n",
       "       147700.23744001, 121113.6017236 , 195955.25210522, 100928.44551081,\n",
       "       284596.02373389,  85992.65865401, 129432.61911705, 174067.91846764,\n",
       "       106177.95486245,  77166.55256225, 123888.35729613, 139969.47338462,\n",
       "       136371.1313205 , 103216.17773503, 218424.15492615, 141127.02181214,\n",
       "       106511.41118365, 107794.42211151, 143166.42250987, 230387.04518335,\n",
       "       164608.53339641,  95730.74216578, 137271.27137926, 221404.27283617,\n",
       "       292888.95854849, 219372.60075528,  91994.36444594,  92205.99860823,\n",
       "       114066.19260384, 101086.51172459, 208511.73986925, 152032.30123613,\n",
       "        98973.69591431, 105947.36916727, 101402.38930963, 118692.89361272,\n",
       "       190016.47851266, 136196.44124631, 159811.11818023, 102682.91338406,\n",
       "       164322.68876255, 144290.630182  , 185376.86435697,  72404.86726555,\n",
       "       159823.71168467, 268241.50571301,  92242.42136843, 110811.76762413,\n",
       "        45186.04455949, 156371.13900895, 118150.48190523, 214039.38750876,\n",
       "       203594.30448691, 164713.89572595,  93053.83946707, 169894.25095881,\n",
       "       154666.95126981, 106047.17338399, 185878.41256684, 102722.60312162,\n",
       "        76305.92520999, 108466.2872534 , 161338.74772174,  92574.48579516,\n",
       "       217836.2450518 ,  47175.95144181, 188753.51656702, 135874.31092864,\n",
       "       261723.93518529, 125811.75667453,  91508.69042815,  95593.99338445,\n",
       "       113019.06621093,  99513.58763362, 124020.17403378, 170756.01502899,\n",
       "       216189.69507572, 109949.04564706, 212435.73136195, 197714.65054811,\n",
       "        76421.0121416 , 112699.64227106, 102670.52611212, 189047.80857305,\n",
       "       119308.37723026, 175969.41506173, 182359.45997395, 114594.10238354,\n",
       "       121168.00919705, 190782.16081693, 142537.75991683,  91480.22886992,\n",
       "       259501.57745499,  96666.36142893, 134295.76894832,  75639.53508181,\n",
       "       167884.12241501, 152093.23788499, 248732.6926474 , 115220.72509638])"
      ]
     },
     "execution_count": 577,
     "metadata": {},
     "output_type": "execute_result"
    }
   ],
   "execution_count": 577
  },
  {
   "metadata": {
    "ExecuteTime": {
     "end_time": "2025-04-09T23:54:22.561562Z",
     "start_time": "2025-04-09T23:54:22.544386Z"
    }
   },
   "cell_type": "code",
   "source": [
    "rmse_y_pred_test = loss_fn(y_test, y_pred)\n",
    "rmse_y_pred_test"
   ],
   "outputs": [
    {
     "data": {
      "text/plain": [
       "0.22776446104973885"
      ]
     },
     "execution_count": 578,
     "metadata": {},
     "output_type": "execute_result"
    }
   ],
   "execution_count": 578
  },
  {
   "metadata": {
    "ExecuteTime": {
     "end_time": "2025-04-09T23:54:23.134885Z",
     "start_time": "2025-04-09T23:54:23.082584Z"
    }
   },
   "cell_type": "code",
   "source": [
    "y_pred_train_scaled = best_model.predict(X_train)\n",
    "y_pred_train = np.exp(y_pred_train_scaled)"
   ],
   "outputs": [],
   "execution_count": 579
  },
  {
   "metadata": {
    "ExecuteTime": {
     "end_time": "2025-04-09T23:54:24.513274Z",
     "start_time": "2025-04-09T23:54:24.486287Z"
    }
   },
   "cell_type": "code",
   "source": "y_pred_train",
   "outputs": [
    {
     "data": {
      "text/plain": [
       "array([112032.63365822, 260599.72318464, 158112.66764509, ...,\n",
       "       249340.82610509, 184069.13271912, 192661.18770844], shape=(1168,))"
      ]
     },
     "execution_count": 580,
     "metadata": {},
     "output_type": "execute_result"
    }
   ],
   "execution_count": 580
  },
  {
   "metadata": {
    "ExecuteTime": {
     "end_time": "2025-04-09T23:54:25.218031Z",
     "start_time": "2025-04-09T23:54:25.212990Z"
    }
   },
   "cell_type": "code",
   "source": [
    "rmse_y_pred_train = loss_fn(y_train, y_pred_train)\n",
    "rmse_y_pred_train"
   ],
   "outputs": [
    {
     "data": {
      "text/plain": [
       "0.14330075223592"
      ]
     },
     "execution_count": 581,
     "metadata": {},
     "output_type": "execute_result"
    }
   ],
   "execution_count": 581
  },
  {
   "cell_type": "code",
   "source": [
    "import matplotlib.pyplot as plt\n",
    "\n",
    "def draw_histogram_auto_bins(data, title=\"Histogram\", xlabel=\"price\", ylabel=\"Frequency\", bin_method='auto'):\n",
    "    plt.hist(data, bins=bin_method)\n",
    "    plt.title(title)\n",
    "    plt.xlabel(xlabel)\n",
    "    plt.ylabel(ylabel)\n",
    "    plt.show()"
   ],
   "metadata": {
    "trusted": true,
    "execution": {
     "iopub.status.busy": "2025-04-04T16:20:58.078895Z",
     "iopub.execute_input": "2025-04-04T16:20:58.079235Z",
     "iopub.status.idle": "2025-04-04T16:20:59.065359Z",
     "shell.execute_reply.started": "2025-04-04T16:20:58.079208Z",
     "shell.execute_reply": "2025-04-04T16:20:59.064352Z"
    },
    "ExecuteTime": {
     "end_time": "2025-04-09T23:54:25.875671Z",
     "start_time": "2025-04-09T23:54:25.871923Z"
    }
   },
   "outputs": [],
   "execution_count": 582
  },
  {
   "metadata": {
    "ExecuteTime": {
     "end_time": "2025-04-09T23:54:27.661417Z",
     "start_time": "2025-04-09T23:54:27.295090Z"
    }
   },
   "cell_type": "code",
   "source": [
    "draw_histogram_auto_bins(y_train, title='real training data prices')\n",
    "draw_histogram_auto_bins(y_pred_train, title='prediction training data prices')\n",
    "draw_histogram_auto_bins(y_pred, title='prediction X_test data prices')"
   ],
   "outputs": [
    {
     "data": {
      "text/plain": [
       "<Figure size 640x480 with 1 Axes>"
      ],
      "image/png": "[encoded data removed]"
     },
     "metadata": {},
     "output_type": "display_data"
    },
    {
     "data": {
      "text/plain": [
       "<Figure size 640x480 with 1 Axes>"
      ],
      "image/png": "[encoded data removed]"
     },
     "metadata": {},
     "output_type": "display_data"
    },
    {
     "data": {
      "text/plain": [
       "<Figure size 640x480 with 1 Axes>"
      ],
      "image/png": "[encoded data removed]"
     },
     "metadata": {},
     "output_type": "display_data"
    }
   ],
   "execution_count": 583
  },
  {
   "cell_type": "code",
   "source": "list(zip(y_test, y_pred))[:10]",
   "metadata": {
    "trusted": true,
    "execution": {
     "iopub.status.busy": "2025-04-04T16:21:00.413318Z",
     "iopub.execute_input": "2025-04-04T16:21:00.413647Z",
     "iopub.status.idle": "2025-04-04T16:21:00.420932Z",
     "shell.execute_reply.started": "2025-04-04T16:21:00.413620Z",
     "shell.execute_reply": "2025-04-04T16:21:00.419898Z"
    },
    "ExecuteTime": {
     "end_time": "2025-04-09T23:54:27.890161Z",
     "start_time": "2025-04-09T23:54:27.885456Z"
    }
   },
   "outputs": [
    {
     "data": {
      "text/plain": [
       "[(190000, np.float64(150010.8332694927)),\n",
       " (173000, np.float64(135767.08154966834)),\n",
       " (392500, np.float64(219987.0389847202)),\n",
       " (181000, np.float64(135420.71182239897)),\n",
       " (284000, np.float64(217193.64154281962)),\n",
       " (88000, np.float64(76180.5196266223)),\n",
       " (136900, np.float64(116931.46869403555)),\n",
       " (79900, np.float64(81035.15998015464)),\n",
       " (110000, np.float64(88403.85171628573)),\n",
       " (226700, np.float64(166979.4194458735))]"
      ]
     },
     "execution_count": 584,
     "metadata": {},
     "output_type": "execute_result"
    }
   ],
   "execution_count": 584
  },
  {
   "metadata": {
    "trusted": true,
    "execution": {
     "iopub.status.busy": "2025-04-04T14:50:06.922117Z",
     "iopub.execute_input": "2025-04-04T14:50:06.922517Z",
     "iopub.status.idle": "2025-04-04T14:50:10.683631Z",
     "shell.execute_reply.started": "2025-04-04T14:50:06.922482Z",
     "shell.execute_reply": "2025-04-04T14:50:10.682458Z"
    },
    "ExecuteTime": {
     "end_time": "2025-04-09T23:54:59.242870Z",
     "start_time": "2025-04-09T23:54:46.974548Z"
    }
   },
   "cell_type": "code",
   "source": [
    "import mlflow\n",
    "from mlflow.models.signature import infer_signature\n",
    "\n",
    "experiment_name = 'Linear Regression'\n",
    "run_name = model.__class__.__name__ + '_'\n",
    "\n",
    "mlflow.set_experiment(experiment_name)\n",
    "\n",
    "with mlflow.start_run(run_name=run_name):\n",
    "    mlflow.log_param(\"fillNA_numerical_value\", 0)\n",
    "    mlflow.log_param(\"fillNA_categorical_value\", 0)\n",
    "    mlflow.log_param(\"model_name\", model.__class__.__name__)\n",
    "    \n",
    "    # Log removed columns\n",
    "    columns_to_remove_str = ', '.join(columns_to_remove)\n",
    "    mlflow.log_param(\"removed columns\", columns_to_remove_str)\n",
    "    \n",
    "    # Log best parameters\n",
    "    for param, value in grid_search.best_params_.items():\n",
    "        mlflow.log_param(param, value)\n",
    "\n",
    "    mlflow.log_metric(\"rmse - test\", rmse_y_pred_test)\n",
    "    mlflow.log_metric(\"rmse - train\", rmse_y_pred_train)\n",
    "    mlflow.log_metric(\"random seed\", random_seed)\n",
    "    \n",
    "    # Log the entire pipeline\n",
    "    # Create a small input example from your training set\n",
    "    input_example = test_df\n",
    "    \n",
    "    # Get model predictions for signature\n",
    "    example_predictions = best_model.predict(input_example)\n",
    "    \n",
    "    # Infer the signature\n",
    "    signature = infer_signature(input_example, example_predictions)\n",
    "    \n",
    "    # Log the model with input_example and signature\n",
    "    mlflow.sklearn.log_model(\n",
    "        sk_model=best_model,\n",
    "        artifact_path=\"pipeline_model\",\n",
    "        input_example=input_example,\n",
    "        signature=signature,\n",
    "    )\n",
    "\n",
    "    print(f\"Logged run_id: {mlflow.active_run().info.run_id}\")"
   ],
   "outputs": [
    {
     "name": "stderr",
     "output_type": "stream",
     "text": [
      "/Users/nikamatcharadze/Documents/uni/ml/project/house_prices/venv/lib/python3.12/site-packages/mlflow/types/utils.py:452: UserWarning: Hint: Inferred schema contains integer column(s). Integer columns in Python cannot represent missing values. If your input data contains missing values at inference time, it will be encoded as floats and will cause a schema enforcement error. The best way to avoid this problem is to infer the model schema based on a realistic data sample (training dataset) that includes missing values. Alternatively, you can declare integer columns as doubles (float64) whenever these columns may have missing values. See `Handling Integers With Missing Values <https://www.mlflow.org/docs/latest/models.html#handling-integers-with-missing-values>`_ for more details.\n",
      "  warnings.warn(\n"
     ]
    },
    {
     "name": "stdout",
     "output_type": "stream",
     "text": [
      "Logged run_id: 4951883ea585426f80774da0deb304a5\n",
      "🏃 View run RANSACRegressor_ at: https://dagshub.com/nmach22/house-prices-ml.mlflow/#/experiments/2/runs/4951883ea585426f80774da0deb304a5\n",
      "🧪 View experiment at: https://dagshub.com/nmach22/house-prices-ml.mlflow/#/experiments/2\n"
     ]
    }
   ],
   "execution_count": 585
  },
  {
   "cell_type": "code",
   "source": "",
   "metadata": {
    "trusted": true
   },
   "outputs": [],
   "execution_count": null
  }
 ]
}
